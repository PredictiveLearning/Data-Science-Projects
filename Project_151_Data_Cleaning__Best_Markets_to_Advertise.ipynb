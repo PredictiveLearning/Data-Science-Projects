{
 "cells": [
  {
   "cell_type": "markdown",
   "metadata": {},
   "source": [
    "# Project: (Find the Best Markets to Advertise in)"
   ]
  },
  {
   "cell_type": "markdown",
   "metadata": {},
   "source": [
    "<br>\n",
    "\n",
    "## Questions to address:\n",
    "- Check whether or not the sample we have is relevant for the study we want to perform\n",
    "- Calculate how much money students spent per month and select top 4 countries\n",
    "- Look at the distribution of money spent per month and remove outliers\n",
    "- Find the markets with the best combination of a lot of money spent and a lot of people"
   ]
  },
  {
   "cell_type": "markdown",
   "metadata": {},
   "source": [
    "<br>\n",
    "\n",
    "## Tools:\n",
    "- drop rows with NaN\n",
    "  - df.dropna(axis='rows', subset=['col1'], inplace=True)\n",
    "- df.groupby(['col1'])['col2'].mean()): group by col1, calculate mean of col2\n",
    "- sns.boxplot\n",
    "- df_1.drop(df_2.index)"
   ]
  },
  {
   "cell_type": "markdown",
   "metadata": {},
   "source": [
    "<br>\n",
    "\n",
    "### load defaults"
   ]
  },
  {
   "cell_type": "code",
   "execution_count": 37,
   "metadata": {},
   "outputs": [],
   "source": [
    "import pandas as pd\n",
    "import re\n",
    "import numpy as np\n",
    "import requests \n",
    "import seaborn as sns\n",
    "\n",
    "%matplotlib inline\n",
    "import matplotlib.pyplot as plt\n",
    "from matplotlib.ticker import MultipleLocator\n",
    "from matplotlib import rcParams\n",
    "import matplotlib.dates as mdates\n",
    "\n",
    "from functions import *\n",
    "\n",
    "plt.rcParams.update({'axes.titlepad': 20, 'font.size': 12, 'axes.titlesize':20})\n",
    "\n",
    "colors = [(0/255,107/255,164/255), (255/255, 128/255, 14/255), 'red', 'green', '#9E80BA', '#8EDB8E', '#58517A']\n",
    "Ncolors = 10\n",
    "color_map = plt.cm.Blues_r(np.linspace(0.2, 0.5, Ncolors))\n",
    "#color_map = plt.cm.tab20c_r(np.linspace(0.2, 0.5, Ncolors))"
   ]
  },
  {
   "cell_type": "markdown",
   "metadata": {},
   "source": [
    "<br>\n",
    "\n",
    "## Dataset: New Coder Survey (information on what type of online courses new developers took)"
   ]
  },
  {
   "cell_type": "code",
   "execution_count": 5,
   "metadata": {},
   "outputs": [
    {
     "data": {
      "text/html": [
       "<div>\n",
       "<style scoped>\n",
       "    .dataframe tbody tr th:only-of-type {\n",
       "        vertical-align: middle;\n",
       "    }\n",
       "\n",
       "    .dataframe tbody tr th {\n",
       "        vertical-align: top;\n",
       "    }\n",
       "\n",
       "    .dataframe thead th {\n",
       "        text-align: right;\n",
       "    }\n",
       "</style>\n",
       "<table border=\"1\" class=\"dataframe\">\n",
       "  <thead>\n",
       "    <tr style=\"text-align: right;\">\n",
       "      <th></th>\n",
       "      <th>Age</th>\n",
       "      <th>AttendedBootcamp</th>\n",
       "      <th>BootcampFinish</th>\n",
       "      <th>BootcampLoanYesNo</th>\n",
       "      <th>BootcampName</th>\n",
       "      <th>BootcampRecommend</th>\n",
       "      <th>ChildrenNumber</th>\n",
       "      <th>CityPopulation</th>\n",
       "    </tr>\n",
       "  </thead>\n",
       "  <tbody>\n",
       "    <tr>\n",
       "      <th>0</th>\n",
       "      <td>27.0</td>\n",
       "      <td>0.0</td>\n",
       "      <td>NaN</td>\n",
       "      <td>NaN</td>\n",
       "      <td>NaN</td>\n",
       "      <td>NaN</td>\n",
       "      <td>NaN</td>\n",
       "      <td>more than 1 million</td>\n",
       "    </tr>\n",
       "    <tr>\n",
       "      <th>1</th>\n",
       "      <td>34.0</td>\n",
       "      <td>0.0</td>\n",
       "      <td>NaN</td>\n",
       "      <td>NaN</td>\n",
       "      <td>NaN</td>\n",
       "      <td>NaN</td>\n",
       "      <td>NaN</td>\n",
       "      <td>less than 100,000</td>\n",
       "    </tr>\n",
       "    <tr>\n",
       "      <th>2</th>\n",
       "      <td>21.0</td>\n",
       "      <td>0.0</td>\n",
       "      <td>NaN</td>\n",
       "      <td>NaN</td>\n",
       "      <td>NaN</td>\n",
       "      <td>NaN</td>\n",
       "      <td>NaN</td>\n",
       "      <td>more than 1 million</td>\n",
       "    </tr>\n",
       "  </tbody>\n",
       "</table>\n",
       "</div>"
      ],
      "text/plain": [
       "    Age  AttendedBootcamp  BootcampFinish  BootcampLoanYesNo BootcampName  \\\n",
       "0  27.0               0.0             NaN                NaN          NaN   \n",
       "1  34.0               0.0             NaN                NaN          NaN   \n",
       "2  21.0               0.0             NaN                NaN          NaN   \n",
       "\n",
       "   BootcampRecommend  ChildrenNumber       CityPopulation  \n",
       "0                NaN             NaN  more than 1 million  \n",
       "1                NaN             NaN    less than 100,000  \n",
       "2                NaN             NaN  more than 1 million  "
      ]
     },
     "metadata": {},
     "output_type": "display_data"
    }
   ],
   "source": [
    "df = pd.read_csv('./data/2017-fCC-New-Coders-Survey-Data.csv')\n",
    "display(df.iloc[:3,:8])"
   ]
  },
  {
   "cell_type": "markdown",
   "metadata": {},
   "source": [
    "<br>\n",
    "\n",
    "## Analysis"
   ]
  },
  {
   "cell_type": "markdown",
   "metadata": {},
   "source": [
    "<br>\n",
    "\n",
    "### Q1: Check Whether the sample we have is relevant for our study"
   ]
  },
  {
   "cell_type": "markdown",
   "metadata": {},
   "source": [
    " <b>Do we have new developers interested in web development?</b>"
   ]
  },
  {
   "cell_type": "code",
   "execution_count": 9,
   "metadata": {},
   "outputs": [
    {
     "data": {
      "text/html": [
       "<div>\n",
       "<style scoped>\n",
       "    .dataframe tbody tr th:only-of-type {\n",
       "        vertical-align: middle;\n",
       "    }\n",
       "\n",
       "    .dataframe tbody tr th {\n",
       "        vertical-align: top;\n",
       "    }\n",
       "\n",
       "    .dataframe thead th {\n",
       "        text-align: right;\n",
       "    }\n",
       "</style>\n",
       "<table border=\"1\" class=\"dataframe\">\n",
       "  <thead>\n",
       "    <tr style=\"text-align: right;\">\n",
       "      <th></th>\n",
       "      <th>Job Title</th>\n",
       "      <th>Frequency</th>\n",
       "    </tr>\n",
       "  </thead>\n",
       "  <tbody>\n",
       "    <tr>\n",
       "      <th>0</th>\n",
       "      <td>Full-Stack Web Developer</td>\n",
       "      <td>823</td>\n",
       "    </tr>\n",
       "    <tr>\n",
       "      <th>1</th>\n",
       "      <td>Front-End Web Developer</td>\n",
       "      <td>450</td>\n",
       "    </tr>\n",
       "    <tr>\n",
       "      <th>2</th>\n",
       "      <td>Data Scientist</td>\n",
       "      <td>152</td>\n",
       "    </tr>\n",
       "    <tr>\n",
       "      <th>3</th>\n",
       "      <td>Back-End Web Developer</td>\n",
       "      <td>142</td>\n",
       "    </tr>\n",
       "    <tr>\n",
       "      <th>4</th>\n",
       "      <td>Mobile Developer</td>\n",
       "      <td>117</td>\n",
       "    </tr>\n",
       "    <tr>\n",
       "      <th>5</th>\n",
       "      <td>Game Developer</td>\n",
       "      <td>114</td>\n",
       "    </tr>\n",
       "    <tr>\n",
       "      <th>6</th>\n",
       "      <td>Information Security</td>\n",
       "      <td>92</td>\n",
       "    </tr>\n",
       "    <tr>\n",
       "      <th>7</th>\n",
       "      <td>Full-Stack Web Developer,   Front-End Web Deve...</td>\n",
       "      <td>64</td>\n",
       "    </tr>\n",
       "    <tr>\n",
       "      <th>8</th>\n",
       "      <td>Front-End Web Developer, Full-Stack Web Deve...</td>\n",
       "      <td>56</td>\n",
       "    </tr>\n",
       "  </tbody>\n",
       "</table>\n",
       "</div>"
      ],
      "text/plain": [
       "                                           Job Title  Frequency\n",
       "0                           Full-Stack Web Developer        823\n",
       "1                            Front-End Web Developer        450\n",
       "2                                     Data Scientist        152\n",
       "3                             Back-End Web Developer        142\n",
       "4                                   Mobile Developer        117\n",
       "5                                     Game Developer        114\n",
       "6                               Information Security         92\n",
       "7  Full-Stack Web Developer,   Front-End Web Deve...         64\n",
       "8    Front-End Web Developer, Full-Stack Web Deve...         56"
      ]
     },
     "metadata": {},
     "output_type": "display_data"
    }
   ],
   "source": [
    "df1 = df['JobRoleInterest'].value_counts().reset_index().reset_index(drop=True)\n",
    "df1.columns = ['Job Title', 'Frequency']\n",
    "display(df1[:9])"
   ]
  },
  {
   "cell_type": "markdown",
   "metadata": {},
   "source": [
    "- Yes, a lot of them took web related courses"
   ]
  },
  {
   "cell_type": "markdown",
   "metadata": {},
   "source": [
    "<b>Are people interested in only one subject or they can be interested in more than one subject?</b>"
   ]
  },
  {
   "cell_type": "code",
   "execution_count": 10,
   "metadata": {},
   "outputs": [
    {
     "name": "stdout",
     "output_type": "stream",
     "text": [
      "Total answers=6992, Total people=18175\n"
     ]
    }
   ],
   "source": [
    "print('Total answers=%d, Total people=%d' % (sum(df1['Frequency']),len(df['JobRoleInterest'])))"
   ]
  },
  {
   "cell_type": "markdown",
   "metadata": {},
   "source": [
    "- most people must have only one subject since we only have 6000 answers to subject for 18000 people"
   ]
  },
  {
   "cell_type": "markdown",
   "metadata": {},
   "source": [
    "<b>How many people are interested in at least one of the two subjects we teach (web and mobile development)?</b>"
   ]
  },
  {
   "cell_type": "code",
   "execution_count": 16,
   "metadata": {},
   "outputs": [
    {
     "name": "stdout",
     "output_type": "stream",
     "text": [
      "People interested in web: 31.8%\n",
      "People interested in mobile: 12.7%\n"
     ]
    }
   ],
   "source": [
    "number_of_web = 0\n",
    "for index, row in df1.iterrows():    \n",
    "    if 'Web' in row['Job Title']:\n",
    "        number_of_web+=row['Frequency']\n",
    "          \n",
    "print(\"People interested in web: %0.1f%%\" % (100.*int(number_of_web)/len(df['JobRoleInterest'])))  \n",
    "\n",
    "number_of_web = 0\n",
    "for index, row in df1.iterrows():    \n",
    "    if 'Mobile' in row['Job Title']:\n",
    "        number_of_web+=row['Frequency']\n",
    "          \n",
    "print(\"People interested in mobile: %0.1f%%\" % (100.*int(number_of_web)/len(df['JobRoleInterest'])))  "
   ]
  },
  {
   "cell_type": "markdown",
   "metadata": {},
   "source": [
    "<br>\n",
    "\n",
    "### Q2: Drop rows whithout interest specified and plot country distribution frequency"
   ]
  },
  {
   "cell_type": "code",
   "execution_count": 17,
   "metadata": {},
   "outputs": [
    {
     "name": "stdout",
     "output_type": "stream",
     "text": [
      "Total people=6992\n",
      "                CountryLive  Frequency\n",
      "0  United States of America       3125\n",
      "1                     India        528\n",
      "2            United Kingdom        315\n",
      "3                    Canada        260\n",
      "4                    Poland        131\n"
     ]
    }
   ],
   "source": [
    "df.dropna(axis='rows', subset=['JobRoleInterest'], inplace=True)\n",
    "print('Total people=%d' % len(df['JobRoleInterest']))\n",
    "\n",
    "df1 = df['CountryLive'].value_counts().reset_index().reset_index(drop=True)\n",
    "df1.columns = ['CountryLive', 'Frequency']\n",
    "print (df1[:5])"
   ]
  },
  {
   "cell_type": "markdown",
   "metadata": {},
   "source": [
    "<br>\n",
    "\n",
    "### Q3: Narrow down analysis to top 4 countries and compute money spent per month"
   ]
  },
  {
   "cell_type": "code",
   "execution_count": 34,
   "metadata": {},
   "outputs": [
    {
     "data": {
      "text/html": [
       "<div>\n",
       "<style scoped>\n",
       "    .dataframe tbody tr th:only-of-type {\n",
       "        vertical-align: middle;\n",
       "    }\n",
       "\n",
       "    .dataframe tbody tr th {\n",
       "        vertical-align: top;\n",
       "    }\n",
       "\n",
       "    .dataframe thead th {\n",
       "        text-align: right;\n",
       "    }\n",
       "</style>\n",
       "<table border=\"1\" class=\"dataframe\">\n",
       "  <thead>\n",
       "    <tr style=\"text-align: right;\">\n",
       "      <th></th>\n",
       "      <th>Age</th>\n",
       "      <th>CountryLive</th>\n",
       "    </tr>\n",
       "  </thead>\n",
       "  <tbody>\n",
       "    <tr>\n",
       "      <th>1</th>\n",
       "      <td>34.0</td>\n",
       "      <td>United States of America</td>\n",
       "    </tr>\n",
       "    <tr>\n",
       "      <th>2</th>\n",
       "      <td>21.0</td>\n",
       "      <td>United States of America</td>\n",
       "    </tr>\n",
       "    <tr>\n",
       "      <th>6</th>\n",
       "      <td>29.0</td>\n",
       "      <td>United Kingdom</td>\n",
       "    </tr>\n",
       "  </tbody>\n",
       "</table>\n",
       "</div>"
      ],
      "text/plain": [
       "    Age               CountryLive\n",
       "1  34.0  United States of America\n",
       "2  21.0  United States of America\n",
       "6  29.0            United Kingdom"
      ]
     },
     "metadata": {},
     "output_type": "display_data"
    }
   ],
   "source": [
    "country_list=['United States of America', 'India', 'United Kingdom', 'Canada']\n",
    "final_df = df.loc[df['CountryLive'].isin(country_list)].copy()\n",
    "\n",
    "display(final_df[['Age','CountryLive']].iloc[:3])"
   ]
  },
  {
   "cell_type": "code",
   "execution_count": 36,
   "metadata": {},
   "outputs": [
    {
     "name": "stdout",
     "output_type": "stream",
     "text": [
      "Number of students willing to pay: 3915\n",
      "CountryLive\n",
      "Canada                      113.510961\n",
      "India                       135.100982\n",
      "United Kingdom               45.534443\n",
      "United States of America    227.997996\n",
      "Name: MoneyPerMonth, dtype: float64\n"
     ]
    }
   ],
   "source": [
    "#compute money per month\n",
    "final_df['MonthsProgramming'].replace(0,1, inplace = True)\n",
    "final_df['MoneyPerMonth'] = final_df['MoneyForLearning']/final_df['MonthsProgramming']\n",
    "\n",
    "#drop null values\n",
    "final_df = final_df[final_df['JobRoleInterest'].notnull()].copy()\n",
    "final_df = final_df[final_df['MoneyPerMonth'].notnull()]\n",
    "final_df = final_df[final_df['CountryLive'].notnull()]\n",
    "print('Number of students willing to pay: %d' % len(final_df))\n",
    "\n",
    "#group by country and calculate mean of money spent per month\n",
    "print(final_df.groupby(['CountryLive'])['MoneyPerMonth'].mean())"
   ]
  },
  {
   "cell_type": "markdown",
   "metadata": {},
   "source": [
    "- The mean amount of money spent seems to vary a lot between countries so we need to investigate further what is causing the variation"
   ]
  },
  {
   "cell_type": "markdown",
   "metadata": {},
   "source": [
    "<br>\n",
    "\n",
    "### Q4: Generate box plots to visualize distributions of money spent per month in the top 4 countries"
   ]
  },
  {
   "cell_type": "code",
   "execution_count": 39,
   "metadata": {},
   "outputs": [
    {
     "data": {
      "image/png": "[encoded data removed]",
      "text/plain": [
       "<Figure size 432x288 with 1 Axes>"
      ]
     },
     "metadata": {
      "needs_background": "light"
     },
     "output_type": "display_data"
    }
   ],
   "source": [
    "sns.boxplot(y = 'MoneyPerMonth', x = 'CountryLive',data = final_df)\n",
    "plt.title('Money Spent Per Month Per Country\\n(Distributions)',fontsize = 16)\n",
    "plt.ylabel('Money per month (US dollars)')\n",
    "plt.xlabel('Country')\n",
    "plt.xticks(range(4), ['US', 'UK', 'India', 'Canada']) # avoids tick labels overlap\n",
    "plt.show()"
   ]
  },
  {
   "cell_type": "markdown",
   "metadata": {},
   "source": [
    "- There are a lot of outliers in the distributions, particulary in the US and India, the countries with the highest means"
   ]
  },
  {
   "cell_type": "markdown",
   "metadata": {},
   "source": [
    "<br>\n",
    "\n",
    "### Q5: Remove outliers (broad condition)"
   ]
  },
  {
   "cell_type": "code",
   "execution_count": 40,
   "metadata": {},
   "outputs": [
    {
     "name": "stdout",
     "output_type": "stream",
     "text": [
      "CountryLive\n",
      "Canada                      113.510961\n",
      "India                       135.100982\n",
      "United Kingdom               45.534443\n",
      "United States of America    183.800110\n",
      "Name: MoneyPerMonth, dtype: float64\n"
     ]
    }
   ],
   "source": [
    "# Isolate only those participants who spend less than 10000 per month\n",
    "final_df = final_df[final_df['MoneyPerMonth'] < 20000]\n",
    "print(final_df.groupby(['CountryLive'])['MoneyPerMonth'].mean())"
   ]
  },
  {
   "cell_type": "code",
   "execution_count": 41,
   "metadata": {},
   "outputs": [
    {
     "data": {
      "image/png": "[encoded data removed]",
      "text/plain": [
       "<Figure size 432x288 with 1 Axes>"
      ]
     },
     "metadata": {
      "needs_background": "light"
     },
     "output_type": "display_data"
    }
   ],
   "source": [
    "sns.boxplot(y = 'MoneyPerMonth', x = 'CountryLive',data = final_df)\n",
    "plt.title('Money Spent Per Month Per Country\\n(Distributions)',fontsize = 16)\n",
    "plt.ylabel('Money per month (US dollars)')\n",
    "plt.xlabel('Country')\n",
    "plt.xticks(range(4), ['US', 'UK', 'India', 'Canada']) # avoids tick labels overlap\n",
    "plt.show()"
   ]
  },
  {
   "cell_type": "markdown",
   "metadata": {},
   "source": [
    "<br>\n",
    "\n",
    "### Q6: Remove outliers (detailed level per country)"
   ]
  },
  {
   "cell_type": "markdown",
   "metadata": {},
   "source": [
    "<b>Remove India's outliers:</b> MoneyPerMonth >= 2500"
   ]
  },
  {
   "cell_type": "code",
   "execution_count": 42,
   "metadata": {},
   "outputs": [],
   "source": [
    "india_outliers = final_df[(final_df['CountryLive'] == 'India') & (final_df['MoneyPerMonth'] >= 2500)]\n",
    "final_df = final_df.drop(india_outliers.index) # using the row labels"
   ]
  },
  {
   "cell_type": "markdown",
   "metadata": {},
   "source": [
    "<b>Remove Canada's outliers:</b> MoneyPerMonth >= 4500"
   ]
  },
  {
   "cell_type": "code",
   "execution_count": 43,
   "metadata": {},
   "outputs": [],
   "source": [
    "canada_outliers = final_df[(final_df['CountryLive'] == 'Canada') & (final_df['MoneyPerMonth'] > 4500)]\n",
    "# Remove the extreme outliers for Canada\n",
    "final_df = final_df.drop(canada_outliers.index)"
   ]
  },
  {
   "cell_type": "markdown",
   "metadata": {},
   "source": [
    "<b>Remove US's outliers:</b> No Bootcamp and less than 3 months programming (one of buyers)"
   ]
  },
  {
   "cell_type": "code",
   "execution_count": 44,
   "metadata": {},
   "outputs": [],
   "source": [
    "us_outliers = final_df[(final_df['CountryLive'] == 'United States of America') & (final_df['MoneyPerMonth'] >= 6000)]\n",
    "#remove: Didn't attend bootcamps, less than 3 months programming\n",
    "no_bootcamp = final_df[(final_df['CountryLive'] == 'United States of America') & \n",
    "                       (final_df['MoneyPerMonth'] >= 6000) &\n",
    "                       (final_df['AttendedBootcamp'] == 0) ]\n",
    "\n",
    "final_df = final_df.drop(no_bootcamp.index)\n",
    "\n",
    "\n",
    "# Remove the respondents that had been programming for less than 3 months\n",
    "less_than_3_months = final_df[(final_df['CountryLive'] == 'United States of America') & \n",
    "                              (final_df['MoneyPerMonth'] >= 6000) &\n",
    "                              (final_df['MonthsProgramming'] <= 3) ]\n",
    "\n",
    "final_df = final_df.drop(less_than_3_months.index)"
   ]
  },
  {
   "cell_type": "markdown",
   "metadata": {},
   "source": [
    "<br>\n",
    "\n",
    "### Q7: Best Market to advertise after removing outliers?"
   ]
  },
  {
   "cell_type": "code",
   "execution_count": 51,
   "metadata": {},
   "outputs": [],
   "source": [
    "money_spent = final_df.groupby(['CountryLive'])['MoneyPerMonth'].mean()\n",
    "population = final_df['CountryLive'].value_counts(normalize = True) * 100"
   ]
  },
  {
   "cell_type": "code",
   "execution_count": 52,
   "metadata": {},
   "outputs": [
    {
     "name": "stdout",
     "output_type": "stream",
     "text": [
      "CountryLive\n",
      "Canada                       93.065400\n",
      "India                        65.758763\n",
      "United Kingdom               45.534443\n",
      "United States of America    142.654608\n",
      "Name: MoneyPerMonth, dtype: float64\n"
     ]
    }
   ],
   "source": [
    "print(money_spent)"
   ]
  },
  {
   "cell_type": "code",
   "execution_count": 53,
   "metadata": {},
   "outputs": [
    {
     "name": "stdout",
     "output_type": "stream",
     "text": [
      "United States of America    74.967908\n",
      "India                       11.732991\n",
      "United Kingdom               7.163030\n",
      "Canada                       6.136072\n",
      "Name: CountryLive, dtype: float64\n"
     ]
    }
   ],
   "source": [
    "print(population)"
   ]
  },
  {
   "cell_type": "code",
   "execution_count": 54,
   "metadata": {},
   "outputs": [
    {
     "name": "stdout",
     "output_type": "stream",
     "text": [
      "Canada                        571.055986\n",
      "India                         771.546974\n",
      "United Kingdom                326.164561\n",
      "United States of America    10694.517462\n",
      "dtype: float64\n"
     ]
    }
   ],
   "source": [
    "print(population*money_spent)"
   ]
  },
  {
   "cell_type": "markdown",
   "metadata": {},
   "source": [
    "- US is clearly the best choice to advertise on\n",
    "- India is the second choice, less money per person, but more people"
   ]
  },
  {
   "cell_type": "code",
   "execution_count": null,
   "metadata": {},
   "outputs": [],
   "source": []
  }
 ],
 "metadata": {
  "kernelspec": {
   "display_name": "Python 3",
   "language": "python",
   "name": "python3"
  },
  "language_info": {
   "codemirror_mode": {
    "name": "ipython",
    "version": 3
   },
   "file_extension": ".py",
   "mimetype": "text/x-python",
   "name": "python",
   "nbconvert_exporter": "python",
   "pygments_lexer": "ipython3",
   "version": "3.6.6"
  }
 },
 "nbformat": 4,
 "nbformat_minor": 1
}
