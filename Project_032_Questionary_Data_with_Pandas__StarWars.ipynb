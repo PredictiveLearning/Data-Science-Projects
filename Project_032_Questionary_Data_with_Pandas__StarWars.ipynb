{
 "cells": [
  {
   "cell_type": "markdown",
   "metadata": {},
   "source": [
    "# Project: Questionary Data with Pandas (Star Wars)"
   ]
  },
  {
   "cell_type": "markdown",
   "metadata": {},
   "source": [
    "## Questions to address:\n",
    "- Process questionary data using Pandas\n",
    "- What is the preferred Star wars movie\n",
    "- What is the most seen Star wars movie\n",
    "- Examine preference by gender"
   ]
  },
  {
   "cell_type": "markdown",
   "metadata": {},
   "source": [
    "<br>\n",
    "\n",
    "## Tools:\n",
    "- df.mean(), df.sum(), dataframe indexing\n",
    "- bar plots"
   ]
  },
  {
   "cell_type": "markdown",
   "metadata": {},
   "source": [
    "<br>\n",
    "\n",
    "### load defaults"
   ]
  },
  {
   "cell_type": "code",
   "execution_count": 28,
   "metadata": {},
   "outputs": [],
   "source": [
    "import pandas as pd\n",
    "import re\n",
    "import numpy as np\n",
    "\n",
    "%matplotlib inline\n",
    "import matplotlib.pyplot as plt\n",
    "from matplotlib.ticker import MultipleLocator\n",
    "from matplotlib import rcParams\n",
    "\n",
    "from functions import *\n",
    "\n",
    "plt.rcParams.update({'axes.titlepad': 20, 'font.size': 12, 'axes.titlesize':20})\n",
    "\n",
    "colors = [(0/255,107/255,164/255), (255/255, 128/255, 14/255), 'red', 'green']\n",
    "Ncolors = 10\n",
    "color_map = plt.cm.Blues_r(np.linspace(0.2, 0.5, Ncolors))"
   ]
  },
  {
   "cell_type": "markdown",
   "metadata": {},
   "source": [
    "<br>\n",
    "\n",
    "## Dataset: Online survey about what Americans eat for Thanksgiving dinner"
   ]
  },
  {
   "cell_type": "code",
   "execution_count": 42,
   "metadata": {},
   "outputs": [
    {
     "data": {
      "text/html": [
       "<div>\n",
       "<style scoped>\n",
       "    .dataframe tbody tr th:only-of-type {\n",
       "        vertical-align: middle;\n",
       "    }\n",
       "\n",
       "    .dataframe tbody tr th {\n",
       "        vertical-align: top;\n",
       "    }\n",
       "\n",
       "    .dataframe thead th {\n",
       "        text-align: right;\n",
       "    }\n",
       "</style>\n",
       "<table border=\"1\" class=\"dataframe\">\n",
       "  <thead>\n",
       "    <tr style=\"text-align: right;\">\n",
       "      <th></th>\n",
       "      <th>Do you consider yourself to be a fan of the Star Trek franchise?</th>\n",
       "      <th>Gender</th>\n",
       "      <th>Age</th>\n",
       "      <th>Household Income</th>\n",
       "      <th>Education</th>\n",
       "      <th>Location (Census Region)</th>\n",
       "    </tr>\n",
       "  </thead>\n",
       "  <tbody>\n",
       "    <tr>\n",
       "      <th>1</th>\n",
       "      <td>No</td>\n",
       "      <td>Male</td>\n",
       "      <td>18-29</td>\n",
       "      <td>NaN</td>\n",
       "      <td>High school degree</td>\n",
       "      <td>South Atlantic</td>\n",
       "    </tr>\n",
       "    <tr>\n",
       "      <th>2</th>\n",
       "      <td>Yes</td>\n",
       "      <td>Male</td>\n",
       "      <td>18-29</td>\n",
       "      <td>$0 - $24,999</td>\n",
       "      <td>Bachelor degree</td>\n",
       "      <td>West South Central</td>\n",
       "    </tr>\n",
       "    <tr>\n",
       "      <th>3</th>\n",
       "      <td>No</td>\n",
       "      <td>Male</td>\n",
       "      <td>18-29</td>\n",
       "      <td>$0 - $24,999</td>\n",
       "      <td>High school degree</td>\n",
       "      <td>West North Central</td>\n",
       "    </tr>\n",
       "  </tbody>\n",
       "</table>\n",
       "</div>"
      ],
      "text/plain": [
       "  Do you consider yourself to be a fan of the Star Trek franchise? Gender  \\\n",
       "1                                                 No                 Male   \n",
       "2                                                Yes                 Male   \n",
       "3                                                 No                 Male   \n",
       "\n",
       "     Age Household Income           Education Location (Census Region)  \n",
       "1  18-29              NaN  High school degree           South Atlantic  \n",
       "2  18-29     $0 - $24,999     Bachelor degree       West South Central  \n",
       "3  18-29     $0 - $24,999  High school degree       West North Central  "
      ]
     },
     "metadata": {},
     "output_type": "display_data"
    }
   ],
   "source": [
    "star_wars = pd.read_csv(\"./data/star_wars.csv\", encoding=\"ISO-8859-1\")\n",
    "star_wars = star_wars[pd.notnull(star_wars['RespondentID'])]\n",
    "\n",
    "display(star_wars.iloc[:3,-6:])"
   ]
  },
  {
   "cell_type": "markdown",
   "metadata": {
    "collapsed": true
   },
   "source": [
    "There are several other columns containing answers to questions about the Star Wars movies. For some questions, the respondent had to check one or more boxes. "
   ]
  },
  {
   "cell_type": "markdown",
   "metadata": {},
   "source": [
    "<br>\n",
    "\n",
    "## Data Cleaning"
   ]
  },
  {
   "cell_type": "markdown",
   "metadata": {},
   "source": [
    "\n",
    "### Change Yes or No answers from str to boolean"
   ]
  },
  {
   "cell_type": "code",
   "execution_count": 43,
   "metadata": {},
   "outputs": [
    {
     "name": "stdout",
     "output_type": "stream",
     "text": [
      "True     936\n",
      "False    250\n",
      "Name: Have you seen any of the 6 films in the Star Wars franchise?, dtype: int64\n",
      "True     552\n",
      "False    284\n",
      "Name: Do you consider yourself to be a fan of the Star Wars film franchise?, dtype: int64\n"
     ]
    }
   ],
   "source": [
    "column_one = 'Have you seen any of the 6 films in the Star Wars franchise?'\n",
    "column_two = 'Do you consider yourself to be a fan of the Star Wars film franchise?'\n",
    "\n",
    "#change results from str to Boolean\n",
    "yes_no = {'Yes': True, \n",
    "          'No': False}\n",
    "star_wars[column_one]=star_wars[column_one].map(yes_no)\n",
    "star_wars[column_two]=star_wars[column_two].map(yes_no)\n",
    "\n",
    "print(star_wars[column_one].value_counts())\n",
    "print(star_wars[column_two].value_counts())"
   ]
  },
  {
   "cell_type": "markdown",
   "metadata": {},
   "source": [
    "<br>\n",
    "\n",
    "### Clean up check box columns"
   ]
  },
  {
   "cell_type": "markdown",
   "metadata": {},
   "source": [
    "Columns 3 to 9 represent a single checkbox question. Which of the following Star Wars films have you seen? \n",
    "\n",
    "For each column, if the value in a cell is the name of the movie, that means the respondent saw the movie. If the value is NaN, the respondent either didn't see the movie. \n",
    "\n",
    "- Convert the values using map function and dictionary:\n",
    "{ \"Star Wars: Episode I  The Phantom Menace\": True,\n",
    "    NaN: False}\n",
    "\n",
    "- Next, rename the columns to seen1 to seen6"
   ]
  },
  {
   "cell_type": "code",
   "execution_count": 44,
   "metadata": {},
   "outputs": [
    {
     "data": {
      "text/html": [
       "<div>\n",
       "<style scoped>\n",
       "    .dataframe tbody tr th:only-of-type {\n",
       "        vertical-align: middle;\n",
       "    }\n",
       "\n",
       "    .dataframe tbody tr th {\n",
       "        vertical-align: top;\n",
       "    }\n",
       "\n",
       "    .dataframe thead th {\n",
       "        text-align: right;\n",
       "    }\n",
       "</style>\n",
       "<table border=\"1\" class=\"dataframe\">\n",
       "  <thead>\n",
       "    <tr style=\"text-align: right;\">\n",
       "      <th></th>\n",
       "      <th>seen1</th>\n",
       "      <th>seen2</th>\n",
       "      <th>seen3</th>\n",
       "      <th>seen4</th>\n",
       "      <th>seen5</th>\n",
       "      <th>seen6</th>\n",
       "    </tr>\n",
       "  </thead>\n",
       "  <tbody>\n",
       "    <tr>\n",
       "      <th>1</th>\n",
       "      <td>True</td>\n",
       "      <td>True</td>\n",
       "      <td>True</td>\n",
       "      <td>True</td>\n",
       "      <td>True</td>\n",
       "      <td>True</td>\n",
       "    </tr>\n",
       "    <tr>\n",
       "      <th>2</th>\n",
       "      <td>False</td>\n",
       "      <td>False</td>\n",
       "      <td>False</td>\n",
       "      <td>False</td>\n",
       "      <td>False</td>\n",
       "      <td>False</td>\n",
       "    </tr>\n",
       "    <tr>\n",
       "      <th>3</th>\n",
       "      <td>True</td>\n",
       "      <td>True</td>\n",
       "      <td>True</td>\n",
       "      <td>False</td>\n",
       "      <td>False</td>\n",
       "      <td>False</td>\n",
       "    </tr>\n",
       "  </tbody>\n",
       "</table>\n",
       "</div>"
      ],
      "text/plain": [
       "   seen1  seen2  seen3  seen4  seen5  seen6\n",
       "1   True   True   True   True   True   True\n",
       "2  False  False  False  False  False  False\n",
       "3   True   True   True  False  False  False"
      ]
     },
     "metadata": {},
     "output_type": "display_data"
    }
   ],
   "source": [
    "answers = ['Star Wars: Episode I  The Phantom Menace', \n",
    "           'Star Wars: Episode II  Attack of the Clones', \n",
    "           'Star Wars: Episode III  Revenge of the Sith',\n",
    "           'Star Wars: Episode IV  A New Hope',\n",
    "           'Star Wars: Episode V The Empire Strikes Back',\n",
    "           'Star Wars: Episode VI Return of the Jedi']\n",
    "\n",
    "idy=0\n",
    "for idx in range(3,9):  \n",
    "    #convert string to boolean\n",
    "    yes_no = {answers[idy]: True, np.nan: False}     \n",
    "    col = star_wars.columns[idx]    \n",
    "    star_wars[col] = star_wars[col].map(yes_no)\n",
    "    \n",
    "    #rename columns to seen1 to seen6\n",
    "    idy+=1\n",
    "    star_wars = star_wars.rename(columns={col : 'seen'+str(idy)})\n",
    "    \n",
    "display(star_wars.iloc[:3,3:9])"
   ]
  },
  {
   "cell_type": "markdown",
   "metadata": {},
   "source": [
    "<br>\n",
    "\n",
    "### Clean up columns ranking the 6 movies"
   ]
  },
  {
   "cell_type": "markdown",
   "metadata": {},
   "source": [
    "Columns 9 to 15 ask the respondent to rank the Star Wars movies (1-favorite, 6-least favorite). \n",
    "- We'll convert each column to a numeric type\n",
    "- Then rename the columns to ranking_1 to ranking_6"
   ]
  },
  {
   "cell_type": "code",
   "execution_count": 45,
   "metadata": {},
   "outputs": [
    {
     "data": {
      "text/html": [
       "<div>\n",
       "<style scoped>\n",
       "    .dataframe tbody tr th:only-of-type {\n",
       "        vertical-align: middle;\n",
       "    }\n",
       "\n",
       "    .dataframe tbody tr th {\n",
       "        vertical-align: top;\n",
       "    }\n",
       "\n",
       "    .dataframe thead th {\n",
       "        text-align: right;\n",
       "    }\n",
       "</style>\n",
       "<table border=\"1\" class=\"dataframe\">\n",
       "  <thead>\n",
       "    <tr style=\"text-align: right;\">\n",
       "      <th></th>\n",
       "      <th>ranking_1</th>\n",
       "      <th>ranking_2</th>\n",
       "      <th>ranking_3</th>\n",
       "      <th>ranking_4</th>\n",
       "      <th>ranking_5</th>\n",
       "      <th>ranking_6</th>\n",
       "    </tr>\n",
       "  </thead>\n",
       "  <tbody>\n",
       "    <tr>\n",
       "      <th>1</th>\n",
       "      <td>3.0</td>\n",
       "      <td>2.0</td>\n",
       "      <td>1.0</td>\n",
       "      <td>4.0</td>\n",
       "      <td>5.0</td>\n",
       "      <td>6.0</td>\n",
       "    </tr>\n",
       "    <tr>\n",
       "      <th>2</th>\n",
       "      <td>NaN</td>\n",
       "      <td>NaN</td>\n",
       "      <td>NaN</td>\n",
       "      <td>NaN</td>\n",
       "      <td>NaN</td>\n",
       "      <td>NaN</td>\n",
       "    </tr>\n",
       "    <tr>\n",
       "      <th>3</th>\n",
       "      <td>1.0</td>\n",
       "      <td>2.0</td>\n",
       "      <td>3.0</td>\n",
       "      <td>4.0</td>\n",
       "      <td>5.0</td>\n",
       "      <td>6.0</td>\n",
       "    </tr>\n",
       "  </tbody>\n",
       "</table>\n",
       "</div>"
      ],
      "text/plain": [
       "   ranking_1  ranking_2  ranking_3  ranking_4  ranking_5  ranking_6\n",
       "1        3.0        2.0        1.0        4.0        5.0        6.0\n",
       "2        NaN        NaN        NaN        NaN        NaN        NaN\n",
       "3        1.0        2.0        3.0        4.0        5.0        6.0"
      ]
     },
     "metadata": {},
     "output_type": "display_data"
    }
   ],
   "source": [
    "#convert to float\n",
    "star_wars[star_wars.columns[9:15]] = star_wars[star_wars.columns[9:15]].astype(float)\n",
    "\n",
    "idy=1\n",
    "for idx in range(9,15): \n",
    "    #rename\n",
    "    star_wars = star_wars.rename(columns={star_wars.columns[idx] : 'ranking_'+str(idy)})\n",
    "    idy+=1\n",
    "   \n",
    "display(star_wars.iloc[:3,9:15])"
   ]
  },
  {
   "cell_type": "markdown",
   "metadata": {},
   "source": [
    "<br>\n",
    "\n",
    "## Analysis:"
   ]
  },
  {
   "cell_type": "markdown",
   "metadata": {},
   "source": [
    "\n",
    "### Q1: Compute the mean value for the ranking of each movie"
   ]
  },
  {
   "cell_type": "code",
   "execution_count": 48,
   "metadata": {},
   "outputs": [
    {
     "data": {
      "image/png": "[encoded data removed]",
      "text/plain": [
       "<Figure size 360x360 with 1 Axes>"
      ]
     },
     "metadata": {
      "needs_background": "light"
     },
     "output_type": "display_data"
    }
   ],
   "source": [
    "import matplotlib.pyplot as plt\n",
    "%matplotlib inline\n",
    "\n",
    "cols=[]\n",
    "for idx in range(1,7):\n",
    "    cols.append('ranking_'+str(idx))\n",
    "    \n",
    "#df.mean\n",
    "rankings = star_wars[cols].mean()\n",
    "\n",
    "#horizontal bar plot\n",
    "fig, ax = plt.subplots(figsize=(5,5))\n",
    "\n",
    "bar_pos = np.arange(0,len(rankings),1)+0.75\n",
    "bar_widths = rankings\n",
    "ax.barh(bar_pos, bar_widths, height=0.5, color=colors[0])\n",
    "\n",
    "ax.set_yticks(bar_pos)\n",
    "ax.set_yticklabels(cols)\n",
    "for key, spine in ax.spines.items():\n",
    "    spine.set_visible(False)\n",
    "ax.tick_params(left=False, right=False, top=False, bottom=False)\n",
    "\n",
    "plt.show()"
   ]
  },
  {
   "cell_type": "markdown",
   "metadata": {},
   "source": [
    "- Episode III,  Revenge of the Sith, is the preferred movie"
   ]
  },
  {
   "cell_type": "markdown",
   "metadata": {},
   "source": [
    "<br>\n",
    "\n",
    "### Q2: Compute the fraction of people that watched each movie"
   ]
  },
  {
   "cell_type": "code",
   "execution_count": 50,
   "metadata": {},
   "outputs": [
    {
     "data": {
      "image/png": "[encoded data removed]",
      "text/plain": [
       "<Figure size 360x360 with 1 Axes>"
      ]
     },
     "metadata": {
      "needs_background": "light"
     },
     "output_type": "display_data"
    }
   ],
   "source": [
    "cols=[]\n",
    "for idx in range(1,7):\n",
    "    cols.append('seen'+str(idx))\n",
    "    \n",
    "seen_count = star_wars[cols].sum()/len(star_wars[cols])\n",
    "\n",
    "fig, ax = plt.subplots(figsize=(5,5))\n",
    "\n",
    "bar_pos = np.arange(0,len(seen_count),1)+0.75\n",
    "bar_widths = seen_count\n",
    "ax.barh(bar_pos, bar_widths, height=0.5, color=colors[0])\n",
    "\n",
    "ax.set_yticks(bar_pos)\n",
    "ax.set_yticklabels(cols)\n",
    "for key, spine in ax.spines.items():\n",
    "    spine.set_visible(False)\n",
    "ax.tick_params(left=False, right=False, top=False, bottom=False)\n",
    "    \n",
    "plt.show()"
   ]
  },
  {
   "cell_type": "markdown",
   "metadata": {},
   "source": [
    "- Episode V, The Empire Strikes Back, is the most seen"
   ]
  },
  {
   "cell_type": "markdown",
   "metadata": {},
   "source": [
    "<br>\n",
    "\n",
    "### Q3: Examine rankings and most seen movies for males and females "
   ]
  },
  {
   "cell_type": "markdown",
   "metadata": {},
   "source": [
    "There are several columns that segment our data into two groups. Here are a few examples:\n",
    "- Do you consider yourself to be a fan of the Star Wars film franchise? - True or False\n",
    "- Do you consider yourself to be a fan of the Star Trek franchise? - Yes or No\n",
    "- Gender - Male or Female"
   ]
  },
  {
   "cell_type": "code",
   "execution_count": 51,
   "metadata": {},
   "outputs": [
    {
     "name": "stdout",
     "output_type": "stream",
     "text": [
      "highest male counts\n",
      "ranking_3 : 4.274881516587678    seen5 : 392\n",
      "\n",
      "lowest male counts\n",
      "ranking_5 : 2.458628841607565    seen3 : 317\n",
      "\n",
      "highest Female counts\n",
      "ranking_3 : 4.418136020151134    seen5 : 353\n",
      "\n",
      "lowest Female counts\n",
      "ranking_5 : 2.5692695214105794    seen3 : 222\n"
     ]
    }
   ],
   "source": [
    "def ranks_and_seen_count(gender):\n",
    "    if(gender=='Male'):\n",
    "        df = star_wars[star_wars['Gender'] == 'Male']\n",
    "    elif(gender=='Female'):\n",
    "        df = star_wars[star_wars['Gender'] == 'Female']\n",
    "\n",
    "    cols=[]\n",
    "    for idx in range(1,7):\n",
    "        cols.append('ranking_'+str(idx))\n",
    "    rankings = df[cols].mean()\n",
    "\n",
    "    cols=[]\n",
    "    for idx in range(1,7):\n",
    "        cols.append('seen'+str(idx))    \n",
    "    seen_count = df[cols].sum()\n",
    "    \n",
    "    return rankings, seen_count\n",
    "\n",
    "\n",
    "(rankings, seen_count) = ranks_and_seen_count('Male')\n",
    "print('highest male counts')\n",
    "print(rankings.idxmax(), ':', rankings.max(), '  ', \n",
    "      seen_count.idxmax(), ':', seen_count.max())\n",
    "print('\\nlowest male counts')\n",
    "print(rankings.idxmin(), ':', rankings.min(), '  ', \n",
    "      seen_count.idxmin(), ':', seen_count.min())\n",
    "\n",
    "(rankings, seen_count) = ranks_and_seen_count('Female')\n",
    "print('\\nhighest Female counts')\n",
    "print(rankings.idxmax(), ':', rankings.max(), '  ', \n",
    "      seen_count.idxmax(), ':', seen_count.max())\n",
    "(rankings, seen_count) = ranks_and_seen_count('Female')\n",
    "print('\\nlowest Female counts')\n",
    "print(rankings.idxmin(), ':', rankings.min(), '  ', \n",
    "      seen_count.idxmin(), ':', seen_count.min())"
   ]
  },
  {
   "cell_type": "markdown",
   "metadata": {},
   "source": [
    "Potential next steps:\n",
    "\n",
    "- segment the data based on columns like Education, Location (Census Region), and Which character shot first?\n",
    "- Clean up columns 15 to 29, which contain data on the characters respondents view favorably and unfavorably.\n",
    "- Which character do respondents like the most?\n",
    "- Which character is the most controversial (split between likes and dislikes)?"
   ]
  },
  {
   "cell_type": "code",
   "execution_count": null,
   "metadata": {},
   "outputs": [],
   "source": []
  }
 ],
 "metadata": {
  "kernelspec": {
   "display_name": "Python 3",
   "language": "python",
   "name": "python3"
  },
  "language_info": {
   "codemirror_mode": {
    "name": "ipython",
    "version": 3
   },
   "file_extension": ".py",
   "mimetype": "text/x-python",
   "name": "python",
   "nbconvert_exporter": "python",
   "pygments_lexer": "ipython3",
   "version": "3.6.6"
  }
 },
 "nbformat": 4,
 "nbformat_minor": 1
}
