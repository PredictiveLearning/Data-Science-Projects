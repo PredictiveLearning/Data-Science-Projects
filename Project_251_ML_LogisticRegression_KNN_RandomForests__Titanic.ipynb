{
 "cells": [
  {
   "cell_type": "markdown",
   "metadata": {},
   "source": [
    "# Project: ML - LogisticRegression, KNN and RandomForests (Titanic)"
   ]
  },
  {
   "cell_type": "markdown",
   "metadata": {},
   "source": [
    "<br>\n",
    "\n",
    "## Questions to address:\n",
    "- Predict survival from data on Titanic passengers"
   ]
  },
  {
   "cell_type": "markdown",
   "metadata": {},
   "source": [
    "<br>\n",
    "\n",
    "## Tools:\n",
    "- Models: \n",
    "  - Logistic Regression\n",
    "  - K-nearest neighbors\n",
    "  - Random Forests  \n",
    "- Feature Preparation, Selection and Engineering:\n",
    "  - fill NaNs with mean or top value\n",
    "  - bin data to create new categories using pd.cut()\n",
    "  - extract data from text columns\n",
    "  - create dummies\n",
    "  - RFECV feature selection\n",
    "- Model selection with GridSearchCV \n",
    "- Error Metric: ROC_AUC and Accuracy"
   ]
  },
  {
   "cell_type": "markdown",
   "metadata": {},
   "source": [
    "<br>\n",
    "\n",
    "### load defaults"
   ]
  },
  {
   "cell_type": "code",
   "execution_count": 1,
   "metadata": {},
   "outputs": [
    {
     "name": "stdout",
     "output_type": "stream",
     "text": [
      "Defaults Loaded\n"
     ]
    }
   ],
   "source": [
    "import numpy as np\n",
    "import pandas as pd\n",
    "import seaborn as sns\n",
    "import re\n",
    "import requests \n",
    "\n",
    "%matplotlib inline\n",
    "import matplotlib.pyplot as plt\n",
    "from matplotlib.ticker import MultipleLocator\n",
    "from matplotlib import rcParams\n",
    "import matplotlib.dates as mdates\n",
    "from datetime import datetime\n",
    "from IPython.display import display, Math\n",
    "\n",
    "from functions import *\n",
    "\n",
    "plt.rcParams.update({'axes.titlepad': 20, 'font.size': 12, 'axes.titlesize':20})\n",
    "\n",
    "colors = [(0/255,107/255,164/255), (255/255, 128/255, 14/255), 'red', 'green', '#9E80BA', '#8EDB8E', '#58517A']\n",
    "Ncolors = 10\n",
    "color_map = plt.cm.Blues_r(np.linspace(0.2, 0.5, Ncolors))\n",
    "#color_map = plt.cm.tab20c_r(np.linspace(0.2, 0.5, Ncolors))\n",
    "\n",
    "\n",
    "#specific to this project\n",
    "from sklearn.feature_selection import RFECV\n",
    "from sklearn.model_selection import GridSearchCV\n",
    "\n",
    "from sklearn.linear_model import LogisticRegression\n",
    "from sklearn.neighbors import KNeighborsClassifier\n",
    "from sklearn.ensemble import RandomForestClassifier\n",
    "\n",
    "print(\"Defaults Loaded\")"
   ]
  },
  {
   "cell_type": "markdown",
   "metadata": {},
   "source": [
    "<br>\n",
    "\n",
    "## Dataset: Titanic"
   ]
  },
  {
   "cell_type": "code",
   "execution_count": 2,
   "metadata": {},
   "outputs": [
    {
     "data": {
      "text/html": [
       "<div>\n",
       "<style scoped>\n",
       "    .dataframe tbody tr th:only-of-type {\n",
       "        vertical-align: middle;\n",
       "    }\n",
       "\n",
       "    .dataframe tbody tr th {\n",
       "        vertical-align: top;\n",
       "    }\n",
       "\n",
       "    .dataframe thead th {\n",
       "        text-align: right;\n",
       "    }\n",
       "</style>\n",
       "<table border=\"1\" class=\"dataframe\">\n",
       "  <thead>\n",
       "    <tr style=\"text-align: right;\">\n",
       "      <th></th>\n",
       "      <th>PassengerId</th>\n",
       "      <th>Pclass</th>\n",
       "      <th>Name</th>\n",
       "      <th>Sex</th>\n",
       "      <th>Age</th>\n",
       "      <th>SibSp</th>\n",
       "      <th>Parch</th>\n",
       "      <th>Ticket</th>\n",
       "      <th>Fare</th>\n",
       "      <th>Cabin</th>\n",
       "      <th>Embarked</th>\n",
       "    </tr>\n",
       "  </thead>\n",
       "  <tbody>\n",
       "    <tr>\n",
       "      <th>0</th>\n",
       "      <td>892</td>\n",
       "      <td>3</td>\n",
       "      <td>Kelly, Mr. James</td>\n",
       "      <td>male</td>\n",
       "      <td>34.5</td>\n",
       "      <td>0</td>\n",
       "      <td>0</td>\n",
       "      <td>330911</td>\n",
       "      <td>7.8292</td>\n",
       "      <td>NaN</td>\n",
       "      <td>Q</td>\n",
       "    </tr>\n",
       "    <tr>\n",
       "      <th>1</th>\n",
       "      <td>893</td>\n",
       "      <td>3</td>\n",
       "      <td>Wilkes, Mrs. James (Ellen Needs)</td>\n",
       "      <td>female</td>\n",
       "      <td>47.0</td>\n",
       "      <td>1</td>\n",
       "      <td>0</td>\n",
       "      <td>363272</td>\n",
       "      <td>7.0000</td>\n",
       "      <td>NaN</td>\n",
       "      <td>S</td>\n",
       "    </tr>\n",
       "  </tbody>\n",
       "</table>\n",
       "</div>"
      ],
      "text/plain": [
       "   PassengerId  Pclass                              Name     Sex   Age  SibSp  \\\n",
       "0          892       3                  Kelly, Mr. James    male  34.5      0   \n",
       "1          893       3  Wilkes, Mrs. James (Ellen Needs)  female  47.0      1   \n",
       "\n",
       "   Parch  Ticket    Fare Cabin Embarked  \n",
       "0      0  330911  7.8292   NaN        Q  \n",
       "1      0  363272  7.0000   NaN        S  "
      ]
     },
     "metadata": {},
     "output_type": "display_data"
    }
   ],
   "source": [
    "train = pd.read_csv('./data/titanic_train.csv')\n",
    "holdout = pd.read_csv('./data/titanic_test.csv')\n",
    "\n",
    "display(holdout[:2])"
   ]
  },
  {
   "cell_type": "markdown",
   "metadata": {},
   "source": [
    "<br>\n",
    "\n",
    "### Feature Preparation, Selection and Engineering"
   ]
  },
  {
   "cell_type": "code",
   "execution_count": 3,
   "metadata": {},
   "outputs": [],
   "source": [
    "def process_missing(df):\n",
    "    #Handle various missing values\n",
    "    df[\"Fare\"] = df[\"Fare\"].fillna(df[\"Fare\"].mean())\n",
    "    df[\"Embarked\"] = df[\"Embarked\"].fillna(\"S\")\n",
    "    return df\n",
    "\n",
    "def process_age(df):\n",
    "    #Process the Age column into pre-defined 'bins' \n",
    "\n",
    "    df[\"Age\"] = df[\"Age\"].fillna(-0.5)\n",
    "    cut_points = [-1,0,5,12,18,35,60,100]\n",
    "    label_names = [\"Missing\",\"Infant\",\"Child\",\"Teenager\",\"Young Adult\",\"Adult\",\"Senior\"]\n",
    "    df[\"Age_categories\"] = pd.cut(df[\"Age\"],cut_points,labels=label_names)\n",
    "    df.drop(\"Age\", axis=1, inplace=True)\n",
    "    return df\n",
    "\n",
    "def process_fare(df):\n",
    "    #Process the Fare column into pre-defined 'bins' \n",
    "    cut_points = [-1,12,50,100,1000]\n",
    "    label_names = [\"0-12\",\"12-50\",\"50-100\",\"100+\"]\n",
    "    df[\"Fare_categories\"] = pd.cut(df[\"Fare\"],cut_points,labels=label_names)\n",
    "    df.drop(\"Fare\", axis=1, inplace=True)\n",
    "    return df\n",
    "\n",
    "def process_cabin(df):\n",
    "    #Process the Cabin column into pre-defined 'bins' \n",
    "    df[\"Cabin_type\"] = df[\"Cabin\"].str[0]\n",
    "    df[\"Cabin_type\"] = df[\"Cabin_type\"].fillna(\"Unknown\")\n",
    "    df.drop('Cabin',axis=1, inplace=True)\n",
    "    return df\n",
    "\n",
    "def process_titles(df):\n",
    "    #Extract and categorize the title from the name column \n",
    "    titles = {\n",
    "        \"Mr\" :         \"Mr\",\n",
    "        \"Mme\":         \"Mrs\",\n",
    "        \"Ms\":          \"Mrs\",\n",
    "        \"Mrs\" :        \"Mrs\",\n",
    "        \"Master\" :     \"Master\",\n",
    "        \"Mlle\":        \"Miss\",\n",
    "        \"Miss\" :       \"Miss\",\n",
    "        \"Capt\":        \"Officer\",\n",
    "        \"Col\":         \"Officer\",\n",
    "        \"Major\":       \"Officer\",\n",
    "        \"Dr\":          \"Officer\",\n",
    "        \"Rev\":         \"Officer\",\n",
    "        \"Jonkheer\":    \"Royalty\",\n",
    "        \"Don\":         \"Royalty\",\n",
    "        \"Sir\" :        \"Royalty\",\n",
    "        \"Countess\":    \"Royalty\",\n",
    "        \"Dona\":        \"Royalty\",\n",
    "        \"Lady\" :       \"Royalty\"\n",
    "    }\n",
    "    extracted_titles = df[\"Name\"].str.extract(' ([A-Za-z]+)\\.',expand=False)\n",
    "    df[\"Title\"] = extracted_titles.map(titles)\n",
    "    return df\n",
    "\n",
    "def create_dummies(df,column_name):   \n",
    "    dummies = pd.get_dummies(df[column_name],prefix=column_name)\n",
    "    df = pd.concat([df,dummies],axis=1)\n",
    "    df.drop(column_name, axis=1, inplace=True)\n",
    "    return df\n",
    "\n",
    "def process_columns(df):\n",
    "    df = process_missing(df)\n",
    "    df = process_age(df)\n",
    "    df = process_fare(df)\n",
    "    df = process_titles(df)\n",
    "    df = process_cabin(df)\n",
    "    \n",
    "    columns = ['Age_categories', 'Fare_categories', 'Cabin_type', 'Sex', 'Title', 'Embarked']\n",
    "    df = create_dummies(df, columns)\n",
    "    \n",
    "    return df"
   ]
  },
  {
   "cell_type": "code",
   "execution_count": 4,
   "metadata": {},
   "outputs": [
    {
     "data": {
      "text/html": [
       "<div>\n",
       "<style scoped>\n",
       "    .dataframe tbody tr th:only-of-type {\n",
       "        vertical-align: middle;\n",
       "    }\n",
       "\n",
       "    .dataframe tbody tr th {\n",
       "        vertical-align: top;\n",
       "    }\n",
       "\n",
       "    .dataframe thead th {\n",
       "        text-align: right;\n",
       "    }\n",
       "</style>\n",
       "<table border=\"1\" class=\"dataframe\">\n",
       "  <thead>\n",
       "    <tr style=\"text-align: right;\">\n",
       "      <th></th>\n",
       "      <th>PassengerId</th>\n",
       "      <th>Survived</th>\n",
       "      <th>Pclass</th>\n",
       "      <th>Name</th>\n",
       "      <th>SibSp</th>\n",
       "      <th>Parch</th>\n",
       "      <th>Ticket</th>\n",
       "      <th>Age_categories_Missing</th>\n",
       "      <th>Age_categories_Infant</th>\n",
       "      <th>Age_categories_Child</th>\n",
       "    </tr>\n",
       "  </thead>\n",
       "  <tbody>\n",
       "    <tr>\n",
       "      <th>0</th>\n",
       "      <td>1</td>\n",
       "      <td>0</td>\n",
       "      <td>3</td>\n",
       "      <td>Braund, Mr. Owen Harris</td>\n",
       "      <td>1</td>\n",
       "      <td>0</td>\n",
       "      <td>A/5 21171</td>\n",
       "      <td>0</td>\n",
       "      <td>0</td>\n",
       "      <td>0</td>\n",
       "    </tr>\n",
       "    <tr>\n",
       "      <th>1</th>\n",
       "      <td>2</td>\n",
       "      <td>1</td>\n",
       "      <td>1</td>\n",
       "      <td>Cumings, Mrs. John Bradley (Florence Briggs Th...</td>\n",
       "      <td>1</td>\n",
       "      <td>0</td>\n",
       "      <td>PC 17599</td>\n",
       "      <td>0</td>\n",
       "      <td>0</td>\n",
       "      <td>0</td>\n",
       "    </tr>\n",
       "  </tbody>\n",
       "</table>\n",
       "</div>"
      ],
      "text/plain": [
       "   PassengerId  Survived  Pclass  \\\n",
       "0            1         0       3   \n",
       "1            2         1       1   \n",
       "\n",
       "                                                Name  SibSp  Parch     Ticket  \\\n",
       "0                            Braund, Mr. Owen Harris      1      0  A/5 21171   \n",
       "1  Cumings, Mrs. John Bradley (Florence Briggs Th...      1      0   PC 17599   \n",
       "\n",
       "   Age_categories_Missing  Age_categories_Infant  Age_categories_Child  \n",
       "0                       0                      0                     0  \n",
       "1                       0                      0                     0  "
      ]
     },
     "metadata": {},
     "output_type": "display_data"
    }
   ],
   "source": [
    "train = process_columns(train)\n",
    "holdout = process_columns(holdout)\n",
    "\n",
    "display(train.iloc[:2,:10])"
   ]
  },
  {
   "cell_type": "markdown",
   "metadata": {},
   "source": [
    "further data exploration: create new feature, relatives"
   ]
  },
  {
   "cell_type": "code",
   "execution_count": 5,
   "metadata": {},
   "outputs": [
    {
     "data": {
      "image/png": "[encoded data removed]",
      "text/plain": [
       "<Figure size 864x432 with 2 Axes>"
      ]
     },
     "metadata": {
      "needs_background": "light"
     },
     "output_type": "display_data"
    }
   ],
   "source": [
    "train['Relatives'] = train['SibSp'] + train['Parch']\n",
    "holdout['Relatives'] = holdout['SibSp'] + holdout['Parch']\n",
    "\n",
    "fig = plt.figure(figsize=(12,6))\n",
    "ax = fig.add_subplot(1,2,1)\n",
    "ax.hist(train['Relatives'],10)\n",
    "ax = fig.add_subplot(1,2,2)\n",
    "ax.axhspan(.3, .6, alpha=0.2, color='red')\n",
    "pivot_table = train.pivot_table(index='Relatives', values='Survived')\n",
    "ax.bar(pivot_table.index.values, [x[0] for x in pivot_table.values])   \n",
    "plt.show()"
   ]
  },
  {
   "cell_type": "markdown",
   "metadata": {},
   "source": [
    "only 30% survival if no relatives, create new column: is_alone"
   ]
  },
  {
   "cell_type": "code",
   "execution_count": 6,
   "metadata": {},
   "outputs": [
    {
     "data": {
      "text/html": [
       "<div>\n",
       "<style scoped>\n",
       "    .dataframe tbody tr th:only-of-type {\n",
       "        vertical-align: middle;\n",
       "    }\n",
       "\n",
       "    .dataframe tbody tr th {\n",
       "        vertical-align: top;\n",
       "    }\n",
       "\n",
       "    .dataframe thead th {\n",
       "        text-align: right;\n",
       "    }\n",
       "</style>\n",
       "<table border=\"1\" class=\"dataframe\">\n",
       "  <thead>\n",
       "    <tr style=\"text-align: right;\">\n",
       "      <th></th>\n",
       "      <th>PassengerId</th>\n",
       "      <th>Survived</th>\n",
       "      <th>Pclass</th>\n",
       "      <th>isalone</th>\n",
       "    </tr>\n",
       "  </thead>\n",
       "  <tbody>\n",
       "    <tr>\n",
       "      <th>0</th>\n",
       "      <td>1</td>\n",
       "      <td>0</td>\n",
       "      <td>3</td>\n",
       "      <td>0</td>\n",
       "    </tr>\n",
       "    <tr>\n",
       "      <th>1</th>\n",
       "      <td>2</td>\n",
       "      <td>1</td>\n",
       "      <td>1</td>\n",
       "      <td>0</td>\n",
       "    </tr>\n",
       "    <tr>\n",
       "      <th>2</th>\n",
       "      <td>3</td>\n",
       "      <td>1</td>\n",
       "      <td>3</td>\n",
       "      <td>1</td>\n",
       "    </tr>\n",
       "  </tbody>\n",
       "</table>\n",
       "</div>"
      ],
      "text/plain": [
       "   PassengerId  Survived  Pclass  isalone\n",
       "0            1         0       3        0\n",
       "1            2         1       1        0\n",
       "2            3         1       3        1"
      ]
     },
     "metadata": {},
     "output_type": "display_data"
    }
   ],
   "source": [
    "def is_alone(df):\n",
    "    df['isalone'] = 0\n",
    "    #df['isalone'][df['Relatives']==0] = 1 \n",
    "    df.loc[(df[\"Relatives\"] == 0),\"isalone\"] = 1   \n",
    "    return df\n",
    "\n",
    "train = is_alone(train)\n",
    "holdout = is_alone(holdout)\n",
    "\n",
    "#retain only the new colum isalone\n",
    "#cols_to_drop = ['Relatives', 'SibSp', 'Parch']\n",
    "#train.drop(cols_to_drop, axis=1, inplace=True)\n",
    "#holdout.drop(cols_to_drop, axis=1, inplace=True)\n",
    "\n",
    "display(train.iloc[:3,[0,1,2,-1]])"
   ]
  },
  {
   "cell_type": "markdown",
   "metadata": {},
   "source": [
    "<br>\n",
    "\n",
    "### Feature selection using LogisticRegression.coef_"
   ]
  },
  {
   "cell_type": "code",
   "execution_count": 7,
   "metadata": {},
   "outputs": [
    {
     "data": {
      "image/png": "[encoded data removed]",
      "text/plain": [
       "<Figure size 432x288 with 1 Axes>"
      ]
     },
     "metadata": {
      "needs_background": "light"
     },
     "output_type": "display_data"
    }
   ],
   "source": [
    "train_new = train.select_dtypes([np.number]).dropna(axis=1)\n",
    "train_new = train_new.apply(lambda x: (x-x.mean())/x.std())\n",
    "\n",
    "columns = train_new.drop(['Survived'],axis=1).columns\n",
    "    \n",
    "lr = LogisticRegression(solver='lbfgs', max_iter=5000)\n",
    "lr.fit(train_new.drop(['Survived'],axis=1), train['Survived'])\n",
    "coefficients = lr.coef_\n",
    "feature_importance = pd.Series(coefficients[0], index=columns)\n",
    "\n",
    "ordered_feature_importance = feature_importance.abs().sort_values()\n",
    "ordered_feature_importance[ordered_feature_importance>0.1].plot.barh()\n",
    "plt.show()"
   ]
  },
  {
   "cell_type": "markdown",
   "metadata": {},
   "source": [
    "<br>\n",
    "\n",
    "### RFECV feature selection"
   ]
  },
  {
   "cell_type": "code",
   "execution_count": 8,
   "metadata": {},
   "outputs": [
    {
     "name": "stdout",
     "output_type": "stream",
     "text": [
      "Best Columns \n",
      "------------\n",
      "['Pclass', 'SibSp', 'Parch', 'Age_categories_Missing', 'Age_categories_Infant', 'Age_categories_Teenager', 'Age_categories_Young Adult', 'Age_categories_Adult', 'Age_categories_Senior', 'Fare_categories_0-12', 'Fare_categories_12-50', 'Fare_categories_50-100', 'Fare_categories_100+', 'Cabin_type_B', 'Cabin_type_C', 'Cabin_type_D', 'Cabin_type_E', 'Cabin_type_Unknown', 'Sex_female', 'Sex_male', 'Title_Master', 'Title_Miss', 'Title_Mr', 'Title_Mrs', 'Embarked_C', 'Embarked_Q', 'Embarked_S', 'Relatives', 'isalone']\n",
      "\n"
     ]
    }
   ],
   "source": [
    "def select_features(df):    \n",
    "    #select numeric and drop NaNs\n",
    "    df_new = df.select_dtypes([np.number]).dropna(axis=1)\n",
    "    #drop survived and ID\n",
    "    all_X = df_new.drop(['Survived','PassengerId'],axis=1)\n",
    "    all_y = df_new['Survived']\n",
    "    \n",
    "    clf = RandomForestClassifier(n_estimators=50)\n",
    "    #cv is the number of folds\n",
    "    selector = RFECV(clf, cv=10)\n",
    "    selector.fit(all_X, all_y)    \n",
    "    optimized_columns = list(all_X.columns[selector.support_])\n",
    "    \n",
    "    print(\"Best Columns \\n\"+\"-\"*12+\"\\n{}\\n\".format(optimized_columns))\n",
    "    \n",
    "    return optimized_columns\n",
    "\n",
    "optimized_columns = select_features(train)"
   ]
  },
  {
   "cell_type": "markdown",
   "metadata": {},
   "source": [
    "<br>\n",
    "\n",
    "### Use sns.heatmap to check for collinearity"
   ]
  },
  {
   "cell_type": "code",
   "execution_count": 9,
   "metadata": {},
   "outputs": [
    {
     "data": {
      "image/png": "[encoded data removed]",
      "text/plain": [
       "<Figure size 792x648 with 2 Axes>"
      ]
     },
     "metadata": {},
     "output_type": "display_data"
    },
    {
     "name": "stdout",
     "output_type": "stream",
     "text": [
      "Best Columns \n",
      "------------\n",
      "['Pclass', 'SibSp', 'Parch', 'Age_categories_Missing', 'Age_categories_Infant', 'Age_categories_Teenager', 'Age_categories_Young Adult', 'Age_categories_Adult', 'Age_categories_Senior', 'Fare_categories_0-12', 'Fare_categories_12-50', 'Fare_categories_50-100', 'Fare_categories_100+', 'Cabin_type_B', 'Cabin_type_C', 'Cabin_type_D', 'Cabin_type_E', 'Cabin_type_Unknown', 'Sex_female', 'Title_Master', 'Title_Miss', 'Title_Mr', 'Title_Mrs', 'Embarked_C', 'Embarked_Q', 'Embarked_S', 'Relatives', 'isalone']\n",
      "\n"
     ]
    }
   ],
   "source": [
    "corr = train[optimized_columns].corr()\n",
    "\n",
    "sns.set(style=\"white\")\n",
    "mask = np.zeros_like(corr, dtype=np.bool)\n",
    "mask[np.triu_indices_from(mask)] = True\n",
    "\n",
    "f, ax = plt.subplots(figsize=(11, 9))\n",
    "cmap = sns.diverging_palette(220, 10, as_cmap=True)\n",
    "\n",
    "\n",
    "sns.heatmap(corr[corr<0.9], mask=mask, cmap=cmap, vmax=.3, center=0,\n",
    "            square=True, linewidths=.5, cbar_kws={\"shrink\": .5})\n",
    "\n",
    "plt.show()\n",
    "\n",
    "#remove Sex_male since it has the same information as Sex_female\n",
    "optimized_columns = [x for x in optimized_columns if x !='Sex_male']\n",
    "\n",
    "collinear_cols = []\n",
    "for element in optimized_columns:\n",
    "    element_corr = corr[element]\n",
    "    sel_1 = (element_corr>0.9) & (element_corr<1.0)\n",
    "    sel_2 = (element_corr<-0.9) & (element_corr>-1.0)  \n",
    "    if(len(element_corr[sel_1])>0):\n",
    "        collinear_cols.append(element)\n",
    "    if(len(element_corr[sel_2])>0):\n",
    "        collinear_cols.append(element)\n",
    "        \n",
    "#remove columns with too much collinearity from optimized_columns\n",
    "for element in set(collinear_cols):\n",
    "    optimized_columns = [x for x in optimized_columns if x !=element]\n",
    "    \n",
    "#optimized_columns.append('Sex_female')\n",
    "    \n",
    "print(\"Best Columns \\n\"+\"-\"*12+\"\\n{}\\n\".format(optimized_columns))"
   ]
  },
  {
   "cell_type": "code",
   "execution_count": 27,
   "metadata": {},
   "outputs": [
    {
     "name": "stdout",
     "output_type": "stream",
     "text": [
      "LogisticRegression\n",
      "------------------\n",
      "AUC: 0.875\n",
      "Accuracy: 0.824\n",
      "Best Parameters: {'solver': 'liblinear'}\n",
      "Best Score: 0.875\n",
      "\n",
      "\n",
      "KNeighborsClassifier\n",
      "--------------------\n",
      "AUC: 0.863\n",
      "Accuracy: 0.820\n",
      "Best Parameters: {'algorithm': 'ball_tree', 'n_neighbors': 17, 'p': 1, 'weights': 'uniform'}\n",
      "Best Score: 0.863\n",
      "\n",
      "\n",
      "RandomForestClassifier\n",
      "----------------------\n",
      "AUC: 0.877\n",
      "Accuracy: 0.840\n",
      "Best Parameters: {'criterion': 'gini', 'max_depth': 5, 'max_features': 'sqrt', 'min_samples_leaf': 1, 'min_samples_split': 2, 'n_estimators': 9}\n",
      "Best Score: 0.877\n",
      "\n",
      "\n",
      "model selection finished\n"
     ]
    }
   ],
   "source": [
    "def select_model(df, features_list):\n",
    "    all_X = df[features_list]\n",
    "    all_y = df['Survived']\n",
    "    \n",
    "    dicts= [ {\n",
    "               \"name\": \"LogisticRegression\",\n",
    "               \"estimator\": LogisticRegression(max_iter = 5000),\n",
    "               \"hyperparameters\": \n",
    "                 {                \n",
    "                   \"solver\": [\"newton-cg\", \"lbfgs\", \"liblinear\"]                      \n",
    "                 }\n",
    "             },\n",
    "             {\n",
    "               \"name\": \"KNeighborsClassifier\",\n",
    "               \"estimator\": KNeighborsClassifier(),\n",
    "               \"hyperparameters\": \n",
    "                 {\n",
    "                   \"n_neighbors\": range(1,20,2),\n",
    "                   \"weights\": [\"distance\", \"uniform\"],\n",
    "                   \"algorithm\": [\"ball_tree\", \"kd_tree\", \"brute\"],\n",
    "                   \"p\": [1,2]\n",
    "                 }\n",
    "             },\n",
    "             {\n",
    "               \"name\": \"RandomForestClassifier\",\n",
    "               \"estimator\": RandomForestClassifier(),\n",
    "               \"hyperparameters\": \n",
    "                 {\n",
    "                   \"n_estimators\": [4, 6, 9],\n",
    "                   \"criterion\": [\"entropy\", \"gini\"],\n",
    "                   \"max_depth\": [2, 5, 10],\n",
    "                   \"max_features\": [\"log2\", \"sqrt\"],\n",
    "                   \"min_samples_leaf\": [1, 5, 8],\n",
    "                   \"min_samples_split\": [2, 3, 5]                \n",
    "                 }\n",
    "             } ]\n",
    "    \n",
    "    scoring = {'AUC': 'roc_auc', 'Accuracy': 'accuracy'}\n",
    "    for element in dicts:\n",
    "        print(element['name'])\n",
    "        print('-'*len(element['name']))\n",
    "        \n",
    "        model = element['estimator']\n",
    "        grid = GridSearchCV(model, element['hyperparameters'], cv=10, scoring=scoring, refit='AUC', iid=True)\n",
    "        grid.fit(all_X, all_y)\n",
    "        \n",
    "        element['best_params'] = grid.best_params_\n",
    "        element['best_score'] = grid.best_score_\n",
    "        element['best_estimator'] = grid.best_estimator_          \n",
    "        for scorer in scoring:          \n",
    "            print(f\"{scorer}: {max(grid.cv_results_['mean_test_'+scorer]):0.3f}\")\n",
    "        print(\"Best Parameters: {}\".format(grid.best_params_))\n",
    "        print(\"Best Score: {:0.3f}\\n\\n\".format(grid.best_score_))\n",
    "        \n",
    "        \n",
    "        #for scorer in scoring:\n",
    "        #    print(cv_results_'_<scorer_name>')\n",
    "       \n",
    "    return dicts\n",
    "        \n",
    "model_dicts = select_model(train, optimized_columns)\n",
    "\n",
    "print(\"model selection finished\")"
   ]
  },
  {
   "cell_type": "markdown",
   "metadata": {},
   "source": [
    "RandomForest gives the best results"
   ]
  }
 ],
 "metadata": {
  "kernelspec": {
   "display_name": "Python 3",
   "language": "python",
   "name": "python3"
  },
  "language_info": {
   "codemirror_mode": {
    "name": "ipython",
    "version": 3
   },
   "file_extension": ".py",
   "mimetype": "text/x-python",
   "name": "python",
   "nbconvert_exporter": "python",
   "pygments_lexer": "ipython3",
   "version": "3.6.6"
  }
 },
 "nbformat": 4,
 "nbformat_minor": 2
}
