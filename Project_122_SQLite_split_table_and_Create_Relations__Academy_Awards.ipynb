{
 "cells": [
  {
   "cell_type": "markdown",
   "metadata": {},
   "source": [
    "# Project: Split table and Create relations Between new Tables (Academy Awards)"
   ]
  },
  {
   "cell_type": "markdown",
   "metadata": {},
   "source": [
    "<br>\n",
    "\n",
    "## Questions to address:\n",
    "- Normalize a single table into multiple tables and create relations between the new tables.\n",
    "- Create a cerimonies table with a foreign key to ceremony_id in nominations and remove year from nominations\n",
    "- Create and populate tables movies, actors and Join table movies_actors\n",
    "- Select the movies with the most number of actors nominated using the new tables"
   ]
  },
  {
   "cell_type": "markdown",
   "metadata": {},
   "source": [
    "<br>\n",
    "\n",
    "## Tools:\n",
    "- insert multiple rows into a table\n",
    "  - query = 'Insert into table (col1, col2) VALUES (?, ?)'\n",
    "  - conn.executemany(query, conn)\n",
    "- PRAGMA foreign_keys=ON\n",
    "- DROP table table_1)\n",
    "- conn.execute('Alter table table_1 RENAME TO table_11');"
   ]
  },
  {
   "cell_type": "markdown",
   "metadata": {},
   "source": [
    "<br>\n",
    "\n",
    "### load defaults"
   ]
  },
  {
   "cell_type": "code",
   "execution_count": 1,
   "metadata": {},
   "outputs": [],
   "source": [
    "import sqlite3\n",
    "import pandas as pd\n",
    "import re\n",
    "import numpy as np\n",
    "import requests \n",
    "import os\n",
    "import shutil\n",
    "\n",
    "%matplotlib inline\n",
    "import matplotlib.pyplot as plt\n",
    "from matplotlib.ticker import MultipleLocator\n",
    "from matplotlib import rcParams\n",
    "import matplotlib.dates as mdates\n",
    "\n",
    "from functions import *\n",
    "\n",
    "plt.rcParams.update({'axes.titlepad': 20, 'font.size': 12, 'axes.titlesize':20})\n",
    "\n",
    "colors = [(0/255,107/255,164/255), (255/255, 128/255, 14/255), 'red', 'green', '#9E80BA', '#8EDB8E', '#58517A']\n",
    "Ncolors = 10\n",
    "color_map = plt.cm.Blues_r(np.linspace(0.2, 0.5, Ncolors))\n",
    "#color_map = plt.cm.tab20c_r(np.linspace(0.2, 0.5, Ncolors))"
   ]
  },
  {
   "cell_type": "markdown",
   "metadata": {},
   "source": [
    "<br>\n",
    "\n",
    "## Dataset: Academy Awards for different years"
   ]
  },
  {
   "cell_type": "markdown",
   "metadata": {},
   "source": [
    "We will modify the original database so the first thing to do is to copy the original into a new file"
   ]
  },
  {
   "cell_type": "code",
   "execution_count": 130,
   "metadata": {},
   "outputs": [
    {
     "name": "stdout",
     "output_type": "stream",
     "text": [
      "file removed\n",
      "copy created\n"
     ]
    }
   ],
   "source": [
    "try:\n",
    "    os.remove(\"./data/nominations.db\")\n",
    "    print(\"file removed\")\n",
    "except:\n",
    "    print(\"file not present\")\n",
    "    \n",
    "shutil.copy(\"./data/nominations_original.db\", \"./data/nominations.db\")\n",
    "print(\"copy created\")"
   ]
  },
  {
   "cell_type": "code",
   "execution_count": 131,
   "metadata": {},
   "outputs": [
    {
     "data": {
      "text/plain": [
       "[(0, 'Year', 'INTEGER', 0, None, 0),\n",
       " (1, 'Category', 'TEXT', 0, None, 0),\n",
       " (2, 'Nominee', 'TEXT', 0, None, 0),\n",
       " (3, 'Won', 'INTEGER', 0, None, 0),\n",
       " (4, 'Movie', 'TEXT', 0, None, 0),\n",
       " (5, 'Character', 'TEXT', 0, None, 0)]"
      ]
     },
     "metadata": {},
     "output_type": "display_data"
    },
    {
     "data": {
      "text/html": [
       "<div>\n",
       "<style scoped>\n",
       "    .dataframe tbody tr th:only-of-type {\n",
       "        vertical-align: middle;\n",
       "    }\n",
       "\n",
       "    .dataframe tbody tr th {\n",
       "        vertical-align: top;\n",
       "    }\n",
       "\n",
       "    .dataframe thead th {\n",
       "        text-align: right;\n",
       "    }\n",
       "</style>\n",
       "<table border=\"1\" class=\"dataframe\">\n",
       "  <thead>\n",
       "    <tr style=\"text-align: right;\">\n",
       "      <th></th>\n",
       "      <th>Year</th>\n",
       "      <th>Category</th>\n",
       "      <th>Nominee</th>\n",
       "      <th>Won</th>\n",
       "      <th>Movie</th>\n",
       "      <th>Character</th>\n",
       "    </tr>\n",
       "  </thead>\n",
       "  <tbody>\n",
       "    <tr>\n",
       "      <th>0</th>\n",
       "      <td>2010</td>\n",
       "      <td>Actor -- Leading Role</td>\n",
       "      <td>Javier Bardem</td>\n",
       "      <td>0</td>\n",
       "      <td>Biutiful</td>\n",
       "      <td>Uxbal</td>\n",
       "    </tr>\n",
       "    <tr>\n",
       "      <th>1</th>\n",
       "      <td>2010</td>\n",
       "      <td>Actor -- Leading Role</td>\n",
       "      <td>Jeff Bridges</td>\n",
       "      <td>0</td>\n",
       "      <td>True Grit</td>\n",
       "      <td>Rooster Cogburn</td>\n",
       "    </tr>\n",
       "    <tr>\n",
       "      <th>2</th>\n",
       "      <td>2010</td>\n",
       "      <td>Actor -- Leading Role</td>\n",
       "      <td>Jesse Eisenberg</td>\n",
       "      <td>0</td>\n",
       "      <td>The Social Network</td>\n",
       "      <td>Mark Zuckerberg</td>\n",
       "    </tr>\n",
       "  </tbody>\n",
       "</table>\n",
       "</div>"
      ],
      "text/plain": [
       "   Year               Category          Nominee  Won                Movie  \\\n",
       "0  2010  Actor -- Leading Role    Javier Bardem    0            Biutiful    \n",
       "1  2010  Actor -- Leading Role     Jeff Bridges    0           True Grit    \n",
       "2  2010  Actor -- Leading Role  Jesse Eisenberg    0  The Social Network    \n",
       "\n",
       "         Character  \n",
       "0            Uxbal  \n",
       "1  Rooster Cogburn  \n",
       "2  Mark Zuckerberg  "
      ]
     },
     "metadata": {},
     "output_type": "display_data"
    }
   ],
   "source": [
    "conn = sqlite3.connect('./data/nominations.db')\n",
    "query = 'PRAGMA table_info(nominations)'\n",
    "schema = conn.execute(query).fetchall()\n",
    "display(schema)\n",
    "\n",
    "query = 'Select * from nominations'\n",
    "df = pd.read_sql_query(query, conn)\n",
    "  \n",
    "display(df[:3])"
   ]
  },
  {
   "cell_type": "markdown",
   "metadata": {},
   "source": [
    "<br>\n",
    "\n",
    "### Q1: Create a new table with information about award cerimonies"
   ]
  },
  {
   "cell_type": "markdown",
   "metadata": {},
   "source": [
    "Created a Host column in the nominations table would generate lots of redundant data. We'll create a ceremonies table that contains the Year and Host for each ceremony and then set up a one-to-many relationship between ceremonies and nominations. "
   ]
  },
  {
   "cell_type": "code",
   "execution_count": 132,
   "metadata": {},
   "outputs": [],
   "source": [
    "query = \"\"\"CREATE table IF NOT EXISTS ceremonies (id integer PRIMARY KEY, \n",
    "                                                  year integer,\n",
    "                                                  Host text)\"\"\"\n",
    "conn.execute(query);"
   ]
  },
  {
   "cell_type": "code",
   "execution_count": 133,
   "metadata": {},
   "outputs": [
    {
     "name": "stdout",
     "output_type": "stream",
     "text": [
      "Insert finished\n"
     ]
    }
   ],
   "source": [
    "years_hosts = [(2010, \"Steve Martin\"),\n",
    "               (2009, \"Hugh Jackman\"),\n",
    "               (2008, \"Jon Stewart\"),\n",
    "               (2007, \"Ellen DeGeneres\"),\n",
    "               (2006, \"Jon Stewart\"),\n",
    "               (2005, \"Chris Rock\"),\n",
    "               (2004, \"Billy Crystal\"),\n",
    "               (2003, \"Steve Martin\"),\n",
    "               (2002, \"Whoopi Goldberg\"),\n",
    "               (2001, \"Steve Martin\"),\n",
    "               (2000, \"Billy Crystal\")]\n",
    "query = 'Insert OR IGNORE INTO ceremonies (year, host) VALUES (?, ?)'\n",
    "conn.executemany(query, years_hosts);\n",
    "\n",
    "print(\"Insert finished\")"
   ]
  },
  {
   "cell_type": "markdown",
   "metadata": {},
   "source": [
    "<br>\n",
    "\n",
    "### Q2: Check if the upload worked"
   ]
  },
  {
   "cell_type": "code",
   "execution_count": 134,
   "metadata": {},
   "outputs": [
    {
     "name": "stdout",
     "output_type": "stream",
     "text": [
      "Schema for the newly created cerimonies table:\n"
     ]
    },
    {
     "data": {
      "text/html": [
       "<div>\n",
       "<style scoped>\n",
       "    .dataframe tbody tr th:only-of-type {\n",
       "        vertical-align: middle;\n",
       "    }\n",
       "\n",
       "    .dataframe tbody tr th {\n",
       "        vertical-align: top;\n",
       "    }\n",
       "\n",
       "    .dataframe thead th {\n",
       "        text-align: right;\n",
       "    }\n",
       "</style>\n",
       "<table border=\"1\" class=\"dataframe\">\n",
       "  <thead>\n",
       "    <tr style=\"text-align: right;\">\n",
       "      <th></th>\n",
       "      <th>cid</th>\n",
       "      <th>name</th>\n",
       "      <th>type</th>\n",
       "      <th>notnull</th>\n",
       "      <th>dflt_value</th>\n",
       "      <th>pk</th>\n",
       "    </tr>\n",
       "  </thead>\n",
       "  <tbody>\n",
       "    <tr>\n",
       "      <th>0</th>\n",
       "      <td>0</td>\n",
       "      <td>id</td>\n",
       "      <td>integer</td>\n",
       "      <td>0</td>\n",
       "      <td>None</td>\n",
       "      <td>1</td>\n",
       "    </tr>\n",
       "    <tr>\n",
       "      <th>1</th>\n",
       "      <td>1</td>\n",
       "      <td>year</td>\n",
       "      <td>integer</td>\n",
       "      <td>0</td>\n",
       "      <td>None</td>\n",
       "      <td>0</td>\n",
       "    </tr>\n",
       "    <tr>\n",
       "      <th>2</th>\n",
       "      <td>2</td>\n",
       "      <td>Host</td>\n",
       "      <td>text</td>\n",
       "      <td>0</td>\n",
       "      <td>None</td>\n",
       "      <td>0</td>\n",
       "    </tr>\n",
       "  </tbody>\n",
       "</table>\n",
       "</div>"
      ],
      "text/plain": [
       "   cid  name     type  notnull dflt_value  pk\n",
       "0    0    id  integer        0       None   1\n",
       "1    1  year  integer        0       None   0\n",
       "2    2  Host     text        0       None   0"
      ]
     },
     "metadata": {},
     "output_type": "display_data"
    },
    {
     "name": "stdout",
     "output_type": "stream",
     "text": [
      "\n",
      "\n",
      " First rows:\n"
     ]
    },
    {
     "data": {
      "text/html": [
       "<div>\n",
       "<style scoped>\n",
       "    .dataframe tbody tr th:only-of-type {\n",
       "        vertical-align: middle;\n",
       "    }\n",
       "\n",
       "    .dataframe tbody tr th {\n",
       "        vertical-align: top;\n",
       "    }\n",
       "\n",
       "    .dataframe thead th {\n",
       "        text-align: right;\n",
       "    }\n",
       "</style>\n",
       "<table border=\"1\" class=\"dataframe\">\n",
       "  <thead>\n",
       "    <tr style=\"text-align: right;\">\n",
       "      <th></th>\n",
       "      <th>id</th>\n",
       "      <th>year</th>\n",
       "      <th>Host</th>\n",
       "    </tr>\n",
       "  </thead>\n",
       "  <tbody>\n",
       "    <tr>\n",
       "      <th>0</th>\n",
       "      <td>1</td>\n",
       "      <td>2010</td>\n",
       "      <td>Steve Martin</td>\n",
       "    </tr>\n",
       "    <tr>\n",
       "      <th>1</th>\n",
       "      <td>2</td>\n",
       "      <td>2009</td>\n",
       "      <td>Hugh Jackman</td>\n",
       "    </tr>\n",
       "    <tr>\n",
       "      <th>2</th>\n",
       "      <td>3</td>\n",
       "      <td>2008</td>\n",
       "      <td>Jon Stewart</td>\n",
       "    </tr>\n",
       "  </tbody>\n",
       "</table>\n",
       "</div>"
      ],
      "text/plain": [
       "   id  year          Host\n",
       "0   1  2010  Steve Martin\n",
       "1   2  2009  Hugh Jackman\n",
       "2   3  2008   Jon Stewart"
      ]
     },
     "metadata": {},
     "output_type": "display_data"
    }
   ],
   "source": [
    "#print(conn.execute('select * from ceremonies LIMIT 10').fetchall())\n",
    "#print(conn.execute('PRAGMA table_info(ceremonies)').fetchall())\n",
    "\n",
    "print('Schema for the newly created cerimonies table:')\n",
    "query = 'PRAGMA table_info(ceremonies)'\n",
    "df = pd.read_sql_query(query, conn)\n",
    "display(df[:3])\n",
    "\n",
    "print(\"\\n\\n First rows:\")\n",
    "query = 'select * from ceremonies LIMIT 10'\n",
    "df = pd.read_sql_query(query, conn)\n",
    "display(df[:3])\n",
    "\n"
   ]
  },
  {
   "cell_type": "markdown",
   "metadata": {},
   "source": [
    "<br>\n",
    "\n",
    "### Q3: Turn on key constraints to make sure that we have consistent foreign keys between different tables"
   ]
  },
  {
   "cell_type": "markdown",
   "metadata": {},
   "source": [
    "For example, since the ceremonies table only contains the id values 1 to 10, inserting a row into nominations while specifying that the ceremony_id value be 11 will work and no error will be returned. This is problematic because if we try to actually join that row with the ceremonies table, the results set will be empty since the id value 11 doesn't map to any row in the ceremonies table. "
   ]
  },
  {
   "cell_type": "code",
   "execution_count": 135,
   "metadata": {},
   "outputs": [],
   "source": [
    "conn.execute('PRAGMA foreign_keys=ON');"
   ]
  },
  {
   "cell_type": "markdown",
   "metadata": {},
   "source": [
    "- The above query needs to be run every time we connect to a database to insert foreign keys. "
   ]
  },
  {
   "cell_type": "markdown",
   "metadata": {},
   "source": [
    "<br>\n",
    "\n",
    "### Q4: Remove year column from nominations and add a foreign key to the cerimonies table (ceremony_id)"
   ]
  },
  {
   "cell_type": "markdown",
   "metadata": {},
   "source": [
    "SQLite does not allow removal of columns so we need to <b>create a new table</b> with the additional column and delete the original one."
   ]
  },
  {
   "cell_type": "code",
   "execution_count": 136,
   "metadata": {},
   "outputs": [
    {
     "name": "stdout",
     "output_type": "stream",
     "text": [
      "table created\n"
     ]
    }
   ],
   "source": [
    "#create table nominations_two with foreign key\n",
    "query = '''CREATE TABLE IF NOT EXISTS nominations_two(id integer primary key, \n",
    "                                        category text,\n",
    "                                        nominee text,\n",
    "                                        movie text,\n",
    "                                        character text, \n",
    "                                        won integer,\n",
    "                                        ceremony_id integer,\n",
    "                                        FOREIGN KEY(ceremony_id) REFERENCES ceremonies(id) )'''\n",
    "conn.execute(query)\n",
    "print(\"table created\")"
   ]
  },
  {
   "cell_type": "markdown",
   "metadata": {},
   "source": [
    "insert values:"
   ]
  },
  {
   "cell_type": "code",
   "execution_count": 137,
   "metadata": {},
   "outputs": [
    {
     "name": "stdout",
     "output_type": "stream",
     "text": [
      "INSERT finished\n"
     ]
    }
   ],
   "source": [
    "query = '''select nominations.category, nominations.nominee,\n",
    "                  nominations.movie, nominations.character,\n",
    "                  nominations.won,\n",
    "                  ceremonies.id\n",
    "             from nominations, \n",
    "                  ceremonies\n",
    "            where nominations.year == ceremonies.year'''\n",
    "#inner join ceremonies on nominations.year==ceremonies.year'''\n",
    "\n",
    "joined_nominations = conn.execute(query).fetchall()\n",
    "\n",
    "query = 'INSERT OR IGNORE into nominations_two (category, nominee, movie, character, won, ceremony_id) VALUES (?, ? ,? ,? ,?, ?)'\n",
    "conn.executemany(query, joined_nominations)\n",
    "print(\"INSERT finished\")"
   ]
  },
  {
   "cell_type": "code",
   "execution_count": 138,
   "metadata": {},
   "outputs": [
    {
     "data": {
      "text/html": [
       "<div>\n",
       "<style scoped>\n",
       "    .dataframe tbody tr th:only-of-type {\n",
       "        vertical-align: middle;\n",
       "    }\n",
       "\n",
       "    .dataframe tbody tr th {\n",
       "        vertical-align: top;\n",
       "    }\n",
       "\n",
       "    .dataframe thead th {\n",
       "        text-align: right;\n",
       "    }\n",
       "</style>\n",
       "<table border=\"1\" class=\"dataframe\">\n",
       "  <thead>\n",
       "    <tr style=\"text-align: right;\">\n",
       "      <th></th>\n",
       "      <th>id</th>\n",
       "      <th>category</th>\n",
       "      <th>nominee</th>\n",
       "      <th>movie</th>\n",
       "      <th>character</th>\n",
       "      <th>won</th>\n",
       "      <th>ceremony_id</th>\n",
       "    </tr>\n",
       "  </thead>\n",
       "  <tbody>\n",
       "    <tr>\n",
       "      <th>0</th>\n",
       "      <td>1</td>\n",
       "      <td>Actor -- Leading Role</td>\n",
       "      <td>Javier Bardem</td>\n",
       "      <td>Biutiful</td>\n",
       "      <td>Uxbal</td>\n",
       "      <td>0</td>\n",
       "      <td>1</td>\n",
       "    </tr>\n",
       "    <tr>\n",
       "      <th>1</th>\n",
       "      <td>2</td>\n",
       "      <td>Actor -- Leading Role</td>\n",
       "      <td>Jeff Bridges</td>\n",
       "      <td>True Grit</td>\n",
       "      <td>Rooster Cogburn</td>\n",
       "      <td>0</td>\n",
       "      <td>1</td>\n",
       "    </tr>\n",
       "  </tbody>\n",
       "</table>\n",
       "</div>"
      ],
      "text/plain": [
       "   id               category        nominee       movie        character  won  \\\n",
       "0   1  Actor -- Leading Role  Javier Bardem   Biutiful             Uxbal    0   \n",
       "1   2  Actor -- Leading Role   Jeff Bridges  True Grit   Rooster Cogburn    0   \n",
       "\n",
       "   ceremony_id  \n",
       "0            1  \n",
       "1            1  "
      ]
     },
     "metadata": {},
     "output_type": "display_data"
    }
   ],
   "source": [
    "query = 'select * from nominations_two limit 10'    \n",
    "df = pd.read_sql_query(query, conn)\n",
    "display(df[:2])"
   ]
  },
  {
   "cell_type": "code",
   "execution_count": 139,
   "metadata": {},
   "outputs": [],
   "source": [
    "conn.execute('DROP table nominations')\n",
    "conn.execute('Alter table nominations_two RENAME TO nominations');"
   ]
  },
  {
   "cell_type": "markdown",
   "metadata": {},
   "source": [
    "<br>\n",
    "\n",
    "### Q5: Create table movies, actors and Join table movies_actors"
   ]
  },
  {
   "cell_type": "code",
   "execution_count": 140,
   "metadata": {},
   "outputs": [
    {
     "name": "stdout",
     "output_type": "stream",
     "text": [
      "tables created\n"
     ]
    }
   ],
   "source": [
    "#create table movies, actors and movies_actors\n",
    "query = 'CREATE TABLE movies (id integer primary key, movie text)'\n",
    "conn.execute(query)\n",
    "query = 'CREATE TABLE actors (id integer primary key, actor text)'\n",
    "conn.execute(query)\n",
    "query = '''CREATE TABLE movies_actors (id integer primary key,\n",
    "                                       movie_id integer,\n",
    "                                       actor_id integer,\n",
    "                                       FOREIGN KEY (movie_id) REFERENCES movies(id),                              \n",
    "                                       FOREIGN KEY (actor_id) REFERENCES actors(id))'''\n",
    "conn.execute(query)\n",
    "print(\"tables created\")"
   ]
  },
  {
   "cell_type": "markdown",
   "metadata": {},
   "source": [
    "<br>\n",
    "\n",
    "### Q6: Populate tables movies, actors and movies_actors"
   ]
  },
  {
   "cell_type": "markdown",
   "metadata": {},
   "source": [
    "populate actors"
   ]
  },
  {
   "cell_type": "code",
   "execution_count": 141,
   "metadata": {},
   "outputs": [
    {
     "name": "stdout",
     "output_type": "stream",
     "text": [
      "[(1, 'Javier Bardem'), (2, 'Jeff Bridges')]\n"
     ]
    }
   ],
   "source": [
    "query = 'select nominations.id, nominations.nominee from nominations'\n",
    "actors = conn.execute(query).fetchall()\n",
    "query = 'INSERT OR IGNORE INTO actors (id, actor) VALUES (?, ?)'\n",
    "conn.executemany(query, actors)\n",
    "print(conn.execute('select * from actors limit 2').fetchall())"
   ]
  },
  {
   "cell_type": "markdown",
   "metadata": {},
   "source": [
    "populate movies"
   ]
  },
  {
   "cell_type": "code",
   "execution_count": 142,
   "metadata": {},
   "outputs": [
    {
     "name": "stdout",
     "output_type": "stream",
     "text": [
      "[(1, 'Biutiful '), (2, 'True Grit ')]\n"
     ]
    }
   ],
   "source": [
    "query = 'select distinct nominations.movie from nominations'\n",
    "result = conn.execute(query).fetchall()\n",
    "query = 'insert OR IGNORE into movies (movie) VALUES(?)'\n",
    "conn.executemany(query, result)\n",
    "print(conn.execute('select * from movies limit 2').fetchall())"
   ]
  },
  {
   "cell_type": "markdown",
   "metadata": {},
   "source": [
    "populate movies_actors"
   ]
  },
  {
   "cell_type": "code",
   "execution_count": 143,
   "metadata": {},
   "outputs": [
    {
     "name": "stdout",
     "output_type": "stream",
     "text": [
      "[(1, 1, 1), (2, 2, 2), (3, 3, 3), (4, 4, 4), (5, 5, 5), (6, 6, 6), (7, 7, 7), (8, 8, 8), (9, 9, 9), (10, 4, 10), (11, 9, 11), (12, 10, 12)]\n"
     ]
    }
   ],
   "source": [
    "query = 'select movies.id, nominations.id as actors_id from nominations inner join movies on nominations.movie==movies.movie limit 12'\n",
    "result = conn.execute(query).fetchall()\n",
    "query = 'insert OR IGNORE into movies_actors (movie_id, actor_id) VALUES(?,?)'\n",
    "conn.executemany(query, result)\n",
    "print(conn.execute('select * from movies_actors limit 15').fetchall())"
   ]
  },
  {
   "cell_type": "markdown",
   "metadata": {},
   "source": [
    "<br>\n",
    "\n",
    "### Q7: Select the movie with the most number of actors nominated using the new tables"
   ]
  },
  {
   "cell_type": "code",
   "execution_count": 144,
   "metadata": {},
   "outputs": [
    {
     "data": {
      "text/html": [
       "<div>\n",
       "<style scoped>\n",
       "    .dataframe tbody tr th:only-of-type {\n",
       "        vertical-align: middle;\n",
       "    }\n",
       "\n",
       "    .dataframe tbody tr th {\n",
       "        vertical-align: top;\n",
       "    }\n",
       "\n",
       "    .dataframe thead th {\n",
       "        text-align: right;\n",
       "    }\n",
       "</style>\n",
       "<table border=\"1\" class=\"dataframe\">\n",
       "  <thead>\n",
       "    <tr style=\"text-align: right;\">\n",
       "      <th></th>\n",
       "      <th>movie_id</th>\n",
       "      <th>count(*)</th>\n",
       "    </tr>\n",
       "  </thead>\n",
       "  <tbody>\n",
       "    <tr>\n",
       "      <th>0</th>\n",
       "      <td>4</td>\n",
       "      <td>2</td>\n",
       "    </tr>\n",
       "  </tbody>\n",
       "</table>\n",
       "</div>"
      ],
      "text/plain": [
       "   movie_id  count(*)\n",
       "0         4         2"
      ]
     },
     "metadata": {},
     "output_type": "display_data"
    }
   ],
   "source": [
    "query = '''select movie_id, count(*)\n",
    "             from movies_actors \n",
    "         group by movie_id \n",
    "         ORDER by 2 DESC LIMIT 1'''\n",
    "df = pd.read_sql_query(query, conn)\n",
    "display(df[:10])"
   ]
  },
  {
   "cell_type": "code",
   "execution_count": 145,
   "metadata": {},
   "outputs": [
    {
     "data": {
      "text/html": [
       "<div>\n",
       "<style scoped>\n",
       "    .dataframe tbody tr th:only-of-type {\n",
       "        vertical-align: middle;\n",
       "    }\n",
       "\n",
       "    .dataframe tbody tr th {\n",
       "        vertical-align: top;\n",
       "    }\n",
       "\n",
       "    .dataframe thead th {\n",
       "        text-align: right;\n",
       "    }\n",
       "</style>\n",
       "<table border=\"1\" class=\"dataframe\">\n",
       "  <thead>\n",
       "    <tr style=\"text-align: right;\">\n",
       "      <th></th>\n",
       "      <th>id</th>\n",
       "      <th>actor</th>\n",
       "      <th>id</th>\n",
       "      <th>movie</th>\n",
       "      <th>id</th>\n",
       "      <th>movie_id</th>\n",
       "      <th>actor_id</th>\n",
       "    </tr>\n",
       "  </thead>\n",
       "  <tbody>\n",
       "    <tr>\n",
       "      <th>0</th>\n",
       "      <td>4</td>\n",
       "      <td>Colin Firth</td>\n",
       "      <td>4</td>\n",
       "      <td>The King's Speech</td>\n",
       "      <td>4</td>\n",
       "      <td>4</td>\n",
       "      <td>4</td>\n",
       "    </tr>\n",
       "    <tr>\n",
       "      <th>1</th>\n",
       "      <td>10</td>\n",
       "      <td>Geoffrey Rush</td>\n",
       "      <td>4</td>\n",
       "      <td>The King's Speech</td>\n",
       "      <td>10</td>\n",
       "      <td>4</td>\n",
       "      <td>10</td>\n",
       "    </tr>\n",
       "  </tbody>\n",
       "</table>\n",
       "</div>"
      ],
      "text/plain": [
       "   id          actor  id               movie  id  movie_id  actor_id\n",
       "0   4    Colin Firth   4  The King's Speech    4         4         4\n",
       "1  10  Geoffrey Rush   4  The King's Speech   10         4        10"
      ]
     },
     "metadata": {},
     "output_type": "display_data"
    }
   ],
   "source": [
    "query = '''select * \n",
    "             from actors, movies, movies_actors \n",
    "            where movies.id = (select movie_id from movies_actors group by movie_id ORDER by count(*) DESC LIMIT 1)\n",
    "              and movies.id = movies_actors.movie_id \n",
    "              and actors.id = movies_actors.actor_id '''\n",
    "df = pd.read_sql_query(query, conn)\n",
    "display(df[:3])"
   ]
  },
  {
   "cell_type": "code",
   "execution_count": null,
   "metadata": {},
   "outputs": [],
   "source": []
  }
 ],
 "metadata": {
  "kernelspec": {
   "display_name": "Python 3",
   "language": "python",
   "name": "python3"
  },
  "language_info": {
   "codemirror_mode": {
    "name": "ipython",
    "version": 3
   },
   "file_extension": ".py",
   "mimetype": "text/x-python",
   "name": "python",
   "nbconvert_exporter": "python",
   "pygments_lexer": "ipython3",
   "version": "3.6.6"
  }
 },
 "nbformat": 4,
 "nbformat_minor": 1
}
