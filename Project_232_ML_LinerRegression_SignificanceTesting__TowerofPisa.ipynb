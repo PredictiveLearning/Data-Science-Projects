{
 "cells": [
  {
   "cell_type": "markdown",
   "metadata": {},
   "source": [
    "# Project: ML - Liner Regression, Significance Testing (Tower of Pisa)"
   ]
  },
  {
   "cell_type": "markdown",
   "metadata": {},
   "source": [
    "<br>\n",
    "\n",
    "## Questions to address:\n",
    "- Predict lean vs year for the tower of Pisa"
   ]
  },
  {
   "cell_type": "markdown",
   "metadata": {},
   "source": [
    "<br>\n",
    "\n",
    "## Tools:\n",
    "- Models:\n",
    "  - Linear Regression with statsmodels OLS\n",
    "- Error Metric: SSE, RSS, TSS, R2\n",
    "- Student-t test for significance of lean pending on year"
   ]
  },
  {
   "cell_type": "markdown",
   "metadata": {},
   "source": [
    "<br>\n",
    "\n",
    "### load defaults"
   ]
  },
  {
   "cell_type": "code",
   "execution_count": 2,
   "metadata": {},
   "outputs": [
    {
     "name": "stdout",
     "output_type": "stream",
     "text": [
      "Defaults Loaded\n"
     ]
    }
   ],
   "source": [
    "import numpy as np\n",
    "import pandas as pd\n",
    "import seaborn as sns\n",
    "import re\n",
    "import requests \n",
    "\n",
    "%matplotlib inline\n",
    "import matplotlib.pyplot as plt\n",
    "from matplotlib.ticker import MultipleLocator\n",
    "from matplotlib import rcParams\n",
    "import matplotlib.dates as mdates\n",
    "from datetime import datetime\n",
    "from IPython.display import display, Math\n",
    "\n",
    "from functions import *\n",
    "\n",
    "plt.rcParams.update({'axes.titlepad': 20, 'font.size': 12, 'axes.titlesize':20})\n",
    "\n",
    "colors = [(0/255,107/255,164/255), (255/255, 128/255, 14/255), 'red', 'green', '#9E80BA', '#8EDB8E', '#58517A']\n",
    "Ncolors = 10\n",
    "color_map = plt.cm.Blues_r(np.linspace(0.2, 0.5, Ncolors))\n",
    "#color_map = plt.cm.tab20c_r(np.linspace(0.2, 0.5, Ncolors))\n",
    "\n",
    "\n",
    "#specific to this project\n",
    "import statsmodels.api as sm\n",
    "from scipy.stats import t #student-t distributions\n",
    "\n",
    "\n",
    "print(\"Defaults Loaded\")"
   ]
  },
  {
   "cell_type": "markdown",
   "metadata": {},
   "source": [
    "<br>\n",
    "\n",
    "## Dataset:  inclination of tower of Pisa"
   ]
  },
  {
   "cell_type": "code",
   "execution_count": 3,
   "metadata": {},
   "outputs": [
    {
     "data": {
      "image/png": "[encoded data removed]",
      "text/plain": [
       "<Figure size 432x288 with 1 Axes>"
      ]
     },
     "metadata": {
      "needs_background": "light"
     },
     "output_type": "display_data"
    }
   ],
   "source": [
    "pisa = pd.DataFrame({\"year\": range(1975, 1988), \n",
    "                         \"lean\": [2.9642, 2.9644, 2.9656, 2.9667, 2.9673, 2.9688, 2.9696, \n",
    "                                  2.9698, 2.9713, 2.9717, 2.9725, 2.9742, 2.9757]})\n",
    "\n",
    "plt.scatter(pisa['year'], pisa['lean'])\n",
    "plt.xlabel(\"year\"), plt.ylabel(\"inclination\")\n",
    "plt.show()"
   ]
  },
  {
   "cell_type": "markdown",
   "metadata": {},
   "source": [
    "<br>\n",
    "\n",
    "## Ordinary Least Squares"
   ]
  },
  {
   "cell_type": "code",
   "execution_count": 4,
   "metadata": {},
   "outputs": [
    {
     "name": "stdout",
     "output_type": "stream",
     "text": [
      "\n",
      " const    1.123338\n",
      "year     0.000932\n",
      "dtype: float64\n"
     ]
    }
   ],
   "source": [
    "y = pisa.lean # target\n",
    "X = pisa.year  # features\n",
    "#sm doesn't automatically include an intercept\n",
    "X = sm.add_constant(X)  # add a column of 1's as the constant term\n",
    "\n",
    "# OLS -- Ordinary Least Squares Fit\n",
    "linear = sm.OLS(y, X)\n",
    "# fit model\n",
    "linearfit = linear.fit()\n",
    "\n",
    "print(\"\\n\",linearfit.params)"
   ]
  },
  {
   "cell_type": "markdown",
   "metadata": {},
   "source": [
    "check if residuals are gaussian distributed"
   ]
  },
  {
   "cell_type": "code",
   "execution_count": 5,
   "metadata": {},
   "outputs": [
    {
     "data": {
      "image/png": "[encoded data removed]",
      "text/plain": [
       "<Figure size 432x288 with 1 Axes>"
      ]
     },
     "metadata": {
      "needs_background": "light"
     },
     "output_type": "display_data"
    }
   ],
   "source": [
    "yhat = linearfit.predict(X)\n",
    "residuals = yhat-y\n",
    "plt.hist(residuals, bins=5)\n",
    "plt.show()"
   ]
  },
  {
   "cell_type": "markdown",
   "metadata": {},
   "source": [
    "hard to check because we only have 13 observations"
   ]
  },
  {
   "cell_type": "markdown",
   "metadata": {},
   "source": [
    "<br>\n",
    "\n",
    "### Error Metric for Linear Regression Models:\n",
    "- Sum of Square Error (SSE) = $\\sum_{i=1}^n(y_i-\\hat{y}_i)^2=\\sum_{i=1}^ne_i^2$ (sum of all residuals)\n",
    "- Regression Sum of Squares (RSS) = $\\sum_{i=1}^n(\\bar{y}-\\hat{y}_i)^2$ where $\\overline{y}=\\frac{1}{n}\\sum_{i=1}^ny_i$ (measures amount of explained variance, 0 if all predictions=mean)\n",
    "- Total Sum of Squares (TSS = RSS+SSE) = $\\sum_{i=1}^n(y_i-\\bar{y})^2$ (measures total amount of variation in the data)"
   ]
  },
  {
   "cell_type": "code",
   "execution_count": 6,
   "metadata": {},
   "outputs": [
    {
     "name": "stdout",
     "output_type": "stream",
     "text": [
      "SSE = 1.923e-06 \n",
      "RSS = 0.000158 \n",
      "TSS = 0.00016\n"
     ]
    }
   ],
   "source": [
    "SSE = np.sum((y.values-yhat)**2)\n",
    "RSS = np.sum((np.sum(y.values)/len(y)-yhat)**2)\n",
    "TSS = np.sum((y.values-np.sum(y.values)/len(y))**2)\n",
    "\n",
    "print(\"SSE = {:0.4g} \\nRSS = {:0.4g} \\nTSS = {:0.4g}\".format(SSE, RSS, TSS))"
   ]
  },
  {
   "cell_type": "markdown",
   "metadata": {},
   "source": [
    "<br>\n",
    "\n",
    "### Error Metric: R-Squared (coefficient of determination), percentage of variation in the target variable present in our model\n",
    "- $R^2 = 1-\\frac{SSE}{TSS}=\\frac{RSS}{TSS}$"
   ]
  },
  {
   "cell_type": "code",
   "execution_count": 7,
   "metadata": {},
   "outputs": [
    {
     "name": "stdout",
     "output_type": "stream",
     "text": [
      "R2 = 0.988\n"
     ]
    }
   ],
   "source": [
    "R2 = RSS/TSS\n",
    "print(\"R2 = {:0.4g}\".format(R2))"
   ]
  },
  {
   "cell_type": "markdown",
   "metadata": {},
   "source": [
    "our model accounts for almost all variatin in the data"
   ]
  },
  {
   "cell_type": "code",
   "execution_count": 8,
   "metadata": {},
   "outputs": [
    {
     "name": "stdout",
     "output_type": "stream",
     "text": [
      "0.013978021978021324\n"
     ]
    }
   ],
   "source": [
    "#predict displacement in 15 years\n",
    "delta = linearfit.params['year']*15\n",
    "print(delta)"
   ]
  },
  {
   "cell_type": "markdown",
   "metadata": {},
   "source": [
    "<br>\n",
    "\n",
    "### Variance of Coefficients: expected range in predicted coefficients\n",
    "- estimated variance for a linear model with 1 variable: $s^2\\hat{\\beta_1}=\\frac{\\sum_{i=1}^n(y_i-\\hat{y}_i)^2}{(n-2)\\sum_{i=1}^n(x_i-\\bar{x})^2}=\\frac{SSE}{(n-2)\\sum_{i=1}^n(x_i-\\bar{x})^2}$"
   ]
  },
  {
   "cell_type": "code",
   "execution_count": 9,
   "metadata": {},
   "outputs": [
    {
     "name": "stdout",
     "output_type": "stream",
     "text": [
      "s2b1 = 9.605e-10\n"
     ]
    }
   ],
   "source": [
    "X = pisa['year']\n",
    "\n",
    "xvar = np.sum((X-X.mean())**2)\n",
    "s2b1 = SSE / ((len(X)-2) * xvar)\n",
    "print(\"s2b1 = {:0.4g}\".format(s2b1))"
   ]
  },
  {
   "cell_type": "markdown",
   "metadata": {},
   "source": [
    "<br>\n",
    "\n",
    "### Summary of Error Metrics:"
   ]
  },
  {
   "cell_type": "code",
   "execution_count": 10,
   "metadata": {},
   "outputs": [
    {
     "name": "stdout",
     "output_type": "stream",
     "text": [
      "                            OLS Regression Results                            \n",
      "==============================================================================\n",
      "Dep. Variable:                   lean   R-squared:                       0.988\n",
      "Model:                            OLS   Adj. R-squared:                  0.987\n",
      "Method:                 Least Squares   F-statistic:                     904.1\n",
      "Date:                Sat, 05 Jan 2019   Prob (F-statistic):           6.50e-12\n",
      "Time:                        14:40:39   Log-Likelihood:                 83.777\n",
      "No. Observations:                  13   AIC:                            -163.6\n",
      "Df Residuals:                      11   BIC:                            -162.4\n",
      "Df Model:                           1                                         \n",
      "Covariance Type:            nonrobust                                         \n",
      "==============================================================================\n",
      "                 coef    std err          t      P>|t|      [0.025      0.975]\n",
      "------------------------------------------------------------------------------\n",
      "const          1.1233      0.061     18.297      0.000       0.988       1.258\n",
      "year           0.0009    3.1e-05     30.069      0.000       0.001       0.001\n",
      "==============================================================================\n",
      "Omnibus:                        0.310   Durbin-Watson:                   1.642\n",
      "Prob(Omnibus):                  0.856   Jarque-Bera (JB):                0.450\n",
      "Skew:                           0.094   Prob(JB):                        0.799\n",
      "Kurtosis:                       2.108   Cond. No.                     1.05e+06\n",
      "==============================================================================\n",
      "\n",
      "Warnings:\n",
      "[1] Standard Errors assume that the covariance matrix of the errors is correctly specified.\n",
      "[2] The condition number is large, 1.05e+06. This might indicate that there are\n",
      "strong multicollinearity or other numerical problems.\n"
     ]
    },
    {
     "name": "stderr",
     "output_type": "stream",
     "text": [
      "/Users/BrunoHenriques/anaconda3/lib/python3.6/site-packages/scipy/stats/stats.py:1394: UserWarning: kurtosistest only valid for n>=20 ... continuing anyway, n=13\n",
      "  \"anyway, n=%i\" % int(n))\n"
     ]
    }
   ],
   "source": [
    "print(linearfit.summary())"
   ]
  },
  {
   "cell_type": "markdown",
   "metadata": {},
   "source": [
    "<br>\n",
    "\n",
    "### Student t-test for significance testing\n",
    "- t-distribution is similar to gaussian but with lower peak (approaces gaussian for large samples)\n",
    "- t-distribution takes into account finite samples (increased variance in smaller samples)\n",
    "- null hypothesis: lean doesn't depend on year, coefficient equal 0 \n",
    "- $H_0:\\beta_1=0 \\; H_1:\\beta_1 \\neq0$\n",
    "- test null hypothesis: $t=\\frac{|\\hat{\\beta_1}-0|}{\\sqrt{s^2(\\hat{\\beta_1})}}$\n",
    "  - how many standard deviations the coefficient is from 0, if $\\beta_1$ is far from 0 with low variance t is high (from the plot a t-stat far from 0 has very low probability)"
   ]
  },
  {
   "cell_type": "code",
   "execution_count": 15,
   "metadata": {},
   "outputs": [
    {
     "data": {
      "image/png": "[encoded data removed]",
      "text/plain": [
       "<Figure size 432x288 with 1 Axes>"
      ]
     },
     "metadata": {
      "needs_background": "light"
     },
     "output_type": "display_data"
    }
   ],
   "source": [
    "x = np.linspace(-3,3,100)\n",
    "\n",
    "# Compute the pdf with 3 degrees of freedom (student-t distributions)\n",
    "tdist3 = t.pdf(x=x, df=3)\n",
    "# Compute the pdf with 30 degrees of freedom (student-t distributions)\n",
    "tdist30 = t.pdf(x=x, df=30)\n",
    "\n",
    "plt.plot(x, tdist3)\n",
    "plt.plot(x, tdist30)\n",
    "plt.show()"
   ]
  },
  {
   "cell_type": "code",
   "execution_count": 13,
   "metadata": {},
   "outputs": [
    {
     "name": "stdout",
     "output_type": "stream",
     "text": [
      "30.068584687651178\n"
     ]
    }
   ],
   "source": [
    "tstat = linearfit.params[\"year\"]/np.sqrt(s2b1)\n",
    "print(tstat)"
   ]
  },
  {
   "cell_type": "markdown",
   "metadata": {},
   "source": [
    "<br>\n",
    "\n",
    "test our t-stat: 95% confidence level that $\\beta_1$ is not 0. Compute cdf at the given p-value (95%) and degrees of freedom and compute probability\n",
    "- test for negative or positive $\\beta_1$ (2.5 and 97.5 percentiles of distribution)\n",
    "- since t-distribution is symmetrical we can take |t-stat| and look at the 97.5 percentile\n",
    "- if $Tcdf(|t|,df)<0.975$: accept $H_0: \\beta_1=0$\n",
    "- else: accept $H_1$"
   ]
  },
  {
   "cell_type": "code",
   "execution_count": 14,
   "metadata": {},
   "outputs": [
    {
     "name": "stdout",
     "output_type": "stream",
     "text": [
      "pval = 0.975 \n",
      "t-stat prob = 1.000 \n",
      "Hypothesis = True\n"
     ]
    }
   ],
   "source": [
    "# At the 95% confidence interval for a two-sided t-test we must use a p-value of 0.975\n",
    "pval = 0.975\n",
    "\n",
    "# The degrees of freedom\n",
    "df = pisa.shape[0] - 2\n",
    "\n",
    "# The probability to test against\n",
    "p = t.cdf(abs(tstat), df=df)\n",
    "\n",
    "beta1_test = pval<p\n",
    "print(\"pval = {:0.3f} \\nt-stat prob = {:0.3f} \\nHypothesis = {}\".format(pval, p, beta1_test))"
   ]
  },
  {
   "cell_type": "code",
   "execution_count": null,
   "metadata": {},
   "outputs": [],
   "source": []
  }
 ],
 "metadata": {
  "kernelspec": {
   "display_name": "Python 3",
   "language": "python",
   "name": "python3"
  },
  "language_info": {
   "codemirror_mode": {
    "name": "ipython",
    "version": 3
   },
   "file_extension": ".py",
   "mimetype": "text/x-python",
   "name": "python",
   "nbconvert_exporter": "python",
   "pygments_lexer": "ipython3",
   "version": "3.6.6"
  }
 },
 "nbformat": 4,
 "nbformat_minor": 2
}
