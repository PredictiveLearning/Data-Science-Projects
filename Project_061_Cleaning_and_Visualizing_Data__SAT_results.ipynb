{
 "cells": [
  {
   "cell_type": "markdown",
   "metadata": {},
   "source": [
    "# Project: Cleaning and Visualizing Data (SAT results)"
   ]
  },
  {
   "cell_type": "markdown",
   "metadata": {},
   "source": [
    "## Questions to address:\n",
    "- First data needs to be cleaned. There are 8 files that need to be processed and after that combined into a single dataset.\n",
    "- Find which variables better correlate with SAT scores:\n",
    "  - etnic origin\n",
    "  - gender\n",
    "  - percentage of students taking exams\n",
    "- look at the geographical distribution of SAT score in NY"
   ]
  },
  {
   "cell_type": "markdown",
   "metadata": {},
   "source": [
    "## Tools:\n",
    "- data cleaning: \n",
    "  - pd.to_numeric(Series, errors=\"coerce\")\n",
    "  - Series.apply(function)\n",
    "  - string operations: split, replace\n",
    "  - df.groupby(\"col\").agg(function)\n",
    "  - merge dataframes: df.merge(df2, on=\"col\", how=\"left/inner\")\n",
    "- bar plot\n",
    "- sort two lists\n",
    "- basemap toolkit: plot values on the map color coded by a 3rd variable"
   ]
  },
  {
   "cell_type": "markdown",
   "metadata": {},
   "source": [
    "<br>\n",
    "\n",
    "### load defaults"
   ]
  },
  {
   "cell_type": "code",
   "execution_count": 4,
   "metadata": {},
   "outputs": [],
   "source": [
    "import pandas as pd\n",
    "import re\n",
    "import numpy as np\n",
    "\n",
    "from IPython.display import display\n",
    "%matplotlib inline\n",
    "import matplotlib.pyplot as plt\n",
    "from matplotlib.ticker import MultipleLocator\n",
    "from matplotlib import rcParams\n",
    "\n",
    "from functions import *\n",
    "\n",
    "plt.rcParams.update({'axes.titlepad': 20, 'font.size': 12, 'axes.titlesize':20})\n",
    "\n",
    "colors = [(0/255,107/255,164/255), (255/255, 128/255, 14/255), 'red', 'green']"
   ]
  },
  {
   "cell_type": "markdown",
   "metadata": {},
   "source": [
    "<br>\n",
    "\n",
    "## Dataset: SAT results in US schools"
   ]
  },
  {
   "cell_type": "markdown",
   "metadata": {},
   "source": [
    "The dataset consists of 8 files that need to be cleaned and combined:\n",
    " - ap_2010.csv - Data on AP test results\n",
    " - class_size.csv - Data on class size\n",
    " - demographics.csv - Data on demographics\n",
    " - graduation.csv - Data on graduation outcomes\n",
    " - hs_directory.csv - A directory of high schools\n",
    " - sat_results.csv - Data on SAT scores\n",
    " - survey_all.txt - Data on surveys from all schools\n",
    " - survey_d75.txt - Data on surveys from New York City district 75\n",
    "  \n",
    "all files will be loaded into a single dictionary: data{}\n",
    " -  survey_all.txt and survey_d75.txt will be combined into survey"
   ]
  },
  {
   "cell_type": "code",
   "execution_count": 34,
   "metadata": {},
   "outputs": [
    {
     "name": "stdout",
     "output_type": "stream",
     "text": [
      "reading done\n"
     ]
    }
   ],
   "source": [
    "data_files = [\"ap_2010.csv\", \"class_size.csv\", \"demographics.csv\", \n",
    "              \"graduation.csv\", \"hs_directory.csv\", \"sat_results.csv\"]\n",
    "\n",
    "data = {}\n",
    "\n",
    "for f in data_files:\n",
    "    d = pd.read_csv(\"./data/schools/{0}\".format(f))\n",
    "    data[f.replace(\".csv\", \"\")] = d\n",
    "    \n",
    "all_survey = pd.read_csv(\"data/schools/survey_all.txt\", delimiter=\"\\t\", encoding='windows-1252')\n",
    "d75_survey = pd.read_csv(\"data/schools/survey_d75.txt\", delimiter=\"\\t\", encoding='windows-1252')\n",
    "survey = pd.concat([all_survey, d75_survey], axis=0, sort=True)\n",
    "\n",
    "survey[\"DBN\"] = survey[\"dbn\"]\n",
    "\n",
    "survey_fields = [\"DBN\", \"rr_s\", \"rr_t\", \"rr_p\", \"N_s\", \"N_t\", \"N_p\", \"saf_p_11\", \n",
    "                 \"com_p_11\", \"eng_p_11\", \"aca_p_11\", \"saf_t_11\", \"com_t_11\", \n",
    "                 \"eng_t_11\", \"aca_t_11\", \"saf_s_11\", \"com_s_11\", \"eng_s_11\", \n",
    "                 \"aca_s_11\", \"saf_tot_11\", \"com_tot_11\", \"eng_tot_11\", \"aca_tot_11\"]\n",
    "survey = survey.loc[:,survey_fields]\n",
    "data[\"survey\"] = survey\n",
    "\n",
    "data_sets = [\"ap_2010\", \"class_size\", \"demographics\", \"graduation\", \"hs_directory\", \"sat_results\", \"survey\"]\n",
    "\n",
    "print(\"reading done\")"
   ]
  },
  {
   "cell_type": "markdown",
   "metadata": {},
   "source": [
    "<b>DF snipet:</b>"
   ]
  },
  {
   "cell_type": "code",
   "execution_count": 35,
   "metadata": {},
   "outputs": [
    {
     "data": {
      "text/html": [
       "<div>\n",
       "<style scoped>\n",
       "    .dataframe tbody tr th:only-of-type {\n",
       "        vertical-align: middle;\n",
       "    }\n",
       "\n",
       "    .dataframe tbody tr th {\n",
       "        vertical-align: top;\n",
       "    }\n",
       "\n",
       "    .dataframe thead th {\n",
       "        text-align: right;\n",
       "    }\n",
       "</style>\n",
       "<table border=\"1\" class=\"dataframe\">\n",
       "  <thead>\n",
       "    <tr style=\"text-align: right;\">\n",
       "      <th></th>\n",
       "      <th>DBN</th>\n",
       "      <th>SchoolName</th>\n",
       "      <th>AP Test Takers</th>\n",
       "      <th>Total Exams Taken</th>\n",
       "      <th>Number of Exams with scores 3 4 or 5</th>\n",
       "    </tr>\n",
       "  </thead>\n",
       "  <tbody>\n",
       "    <tr>\n",
       "      <th>0</th>\n",
       "      <td>01M448</td>\n",
       "      <td>UNIVERSITY NEIGHBORHOOD H.S.</td>\n",
       "      <td>39</td>\n",
       "      <td>49</td>\n",
       "      <td>10</td>\n",
       "    </tr>\n",
       "    <tr>\n",
       "      <th>1</th>\n",
       "      <td>01M450</td>\n",
       "      <td>EAST SIDE COMMUNITY HS</td>\n",
       "      <td>19</td>\n",
       "      <td>21</td>\n",
       "      <td>s</td>\n",
       "    </tr>\n",
       "    <tr>\n",
       "      <th>2</th>\n",
       "      <td>01M515</td>\n",
       "      <td>LOWER EASTSIDE PREP</td>\n",
       "      <td>24</td>\n",
       "      <td>26</td>\n",
       "      <td>24</td>\n",
       "    </tr>\n",
       "  </tbody>\n",
       "</table>\n",
       "</div>"
      ],
      "text/plain": [
       "      DBN                    SchoolName AP Test Takers  Total Exams Taken  \\\n",
       "0  01M448  UNIVERSITY NEIGHBORHOOD H.S.              39                49   \n",
       "1  01M450        EAST SIDE COMMUNITY HS              19                21   \n",
       "2  01M515           LOWER EASTSIDE PREP              24                26   \n",
       "\n",
       "  Number of Exams with scores 3 4 or 5  \n",
       "0                                   10  \n",
       "1                                    s  \n",
       "2                                   24  "
      ]
     },
     "metadata": {},
     "output_type": "display_data"
    },
    {
     "data": {
      "text/html": [
       "<div>\n",
       "<style scoped>\n",
       "    .dataframe tbody tr th:only-of-type {\n",
       "        vertical-align: middle;\n",
       "    }\n",
       "\n",
       "    .dataframe tbody tr th {\n",
       "        vertical-align: top;\n",
       "    }\n",
       "\n",
       "    .dataframe thead th {\n",
       "        text-align: right;\n",
       "    }\n",
       "</style>\n",
       "<table border=\"1\" class=\"dataframe\">\n",
       "  <thead>\n",
       "    <tr style=\"text-align: right;\">\n",
       "      <th></th>\n",
       "      <th>CSD</th>\n",
       "      <th>BOROUGH</th>\n",
       "      <th>SCHOOL CODE</th>\n",
       "      <th>SCHOOL NAME</th>\n",
       "      <th>GRADE</th>\n",
       "    </tr>\n",
       "  </thead>\n",
       "  <tbody>\n",
       "    <tr>\n",
       "      <th>0</th>\n",
       "      <td>1</td>\n",
       "      <td>M</td>\n",
       "      <td>M015</td>\n",
       "      <td>P.S. 015 Roberto Clemente</td>\n",
       "      <td>0K</td>\n",
       "    </tr>\n",
       "    <tr>\n",
       "      <th>1</th>\n",
       "      <td>1</td>\n",
       "      <td>M</td>\n",
       "      <td>M015</td>\n",
       "      <td>P.S. 015 Roberto Clemente</td>\n",
       "      <td>0K</td>\n",
       "    </tr>\n",
       "    <tr>\n",
       "      <th>2</th>\n",
       "      <td>1</td>\n",
       "      <td>M</td>\n",
       "      <td>M015</td>\n",
       "      <td>P.S. 015 Roberto Clemente</td>\n",
       "      <td>01</td>\n",
       "    </tr>\n",
       "  </tbody>\n",
       "</table>\n",
       "</div>"
      ],
      "text/plain": [
       "   CSD BOROUGH SCHOOL CODE                SCHOOL NAME GRADE \n",
       "0    1       M        M015  P.S. 015 Roberto Clemente     0K\n",
       "1    1       M        M015  P.S. 015 Roberto Clemente     0K\n",
       "2    1       M        M015  P.S. 015 Roberto Clemente     01"
      ]
     },
     "metadata": {},
     "output_type": "display_data"
    },
    {
     "data": {
      "text/html": [
       "<div>\n",
       "<style scoped>\n",
       "    .dataframe tbody tr th:only-of-type {\n",
       "        vertical-align: middle;\n",
       "    }\n",
       "\n",
       "    .dataframe tbody tr th {\n",
       "        vertical-align: top;\n",
       "    }\n",
       "\n",
       "    .dataframe thead th {\n",
       "        text-align: right;\n",
       "    }\n",
       "</style>\n",
       "<table border=\"1\" class=\"dataframe\">\n",
       "  <thead>\n",
       "    <tr style=\"text-align: right;\">\n",
       "      <th></th>\n",
       "      <th>DBN</th>\n",
       "      <th>Name</th>\n",
       "      <th>schoolyear</th>\n",
       "      <th>fl_percent</th>\n",
       "      <th>frl_percent</th>\n",
       "    </tr>\n",
       "  </thead>\n",
       "  <tbody>\n",
       "    <tr>\n",
       "      <th>0</th>\n",
       "      <td>01M015</td>\n",
       "      <td>P.S. 015 ROBERTO CLEMENTE</td>\n",
       "      <td>20052006</td>\n",
       "      <td>89.4</td>\n",
       "      <td>NaN</td>\n",
       "    </tr>\n",
       "    <tr>\n",
       "      <th>1</th>\n",
       "      <td>01M015</td>\n",
       "      <td>P.S. 015 ROBERTO CLEMENTE</td>\n",
       "      <td>20062007</td>\n",
       "      <td>89.4</td>\n",
       "      <td>NaN</td>\n",
       "    </tr>\n",
       "    <tr>\n",
       "      <th>2</th>\n",
       "      <td>01M015</td>\n",
       "      <td>P.S. 015 ROBERTO CLEMENTE</td>\n",
       "      <td>20072008</td>\n",
       "      <td>89.4</td>\n",
       "      <td>NaN</td>\n",
       "    </tr>\n",
       "  </tbody>\n",
       "</table>\n",
       "</div>"
      ],
      "text/plain": [
       "      DBN                       Name  schoolyear fl_percent  frl_percent\n",
       "0  01M015  P.S. 015 ROBERTO CLEMENTE    20052006       89.4          NaN\n",
       "1  01M015  P.S. 015 ROBERTO CLEMENTE    20062007       89.4          NaN\n",
       "2  01M015  P.S. 015 ROBERTO CLEMENTE    20072008       89.4          NaN"
      ]
     },
     "metadata": {},
     "output_type": "display_data"
    },
    {
     "data": {
      "text/html": [
       "<div>\n",
       "<style scoped>\n",
       "    .dataframe tbody tr th:only-of-type {\n",
       "        vertical-align: middle;\n",
       "    }\n",
       "\n",
       "    .dataframe tbody tr th {\n",
       "        vertical-align: top;\n",
       "    }\n",
       "\n",
       "    .dataframe thead th {\n",
       "        text-align: right;\n",
       "    }\n",
       "</style>\n",
       "<table border=\"1\" class=\"dataframe\">\n",
       "  <thead>\n",
       "    <tr style=\"text-align: right;\">\n",
       "      <th></th>\n",
       "      <th>Demographic</th>\n",
       "      <th>DBN</th>\n",
       "      <th>School Name</th>\n",
       "      <th>Cohort</th>\n",
       "      <th>Total Cohort</th>\n",
       "    </tr>\n",
       "  </thead>\n",
       "  <tbody>\n",
       "    <tr>\n",
       "      <th>0</th>\n",
       "      <td>Total Cohort</td>\n",
       "      <td>01M292</td>\n",
       "      <td>HENRY STREET SCHOOL FOR INTERNATIONAL</td>\n",
       "      <td>2003</td>\n",
       "      <td>5</td>\n",
       "    </tr>\n",
       "    <tr>\n",
       "      <th>1</th>\n",
       "      <td>Total Cohort</td>\n",
       "      <td>01M292</td>\n",
       "      <td>HENRY STREET SCHOOL FOR INTERNATIONAL</td>\n",
       "      <td>2004</td>\n",
       "      <td>55</td>\n",
       "    </tr>\n",
       "    <tr>\n",
       "      <th>2</th>\n",
       "      <td>Total Cohort</td>\n",
       "      <td>01M292</td>\n",
       "      <td>HENRY STREET SCHOOL FOR INTERNATIONAL</td>\n",
       "      <td>2005</td>\n",
       "      <td>64</td>\n",
       "    </tr>\n",
       "  </tbody>\n",
       "</table>\n",
       "</div>"
      ],
      "text/plain": [
       "    Demographic     DBN                            School Name Cohort  \\\n",
       "0  Total Cohort  01M292  HENRY STREET SCHOOL FOR INTERNATIONAL   2003   \n",
       "1  Total Cohort  01M292  HENRY STREET SCHOOL FOR INTERNATIONAL   2004   \n",
       "2  Total Cohort  01M292  HENRY STREET SCHOOL FOR INTERNATIONAL   2005   \n",
       "\n",
       "   Total Cohort  \n",
       "0             5  \n",
       "1            55  \n",
       "2            64  "
      ]
     },
     "metadata": {},
     "output_type": "display_data"
    },
    {
     "data": {
      "text/html": [
       "<div>\n",
       "<style scoped>\n",
       "    .dataframe tbody tr th:only-of-type {\n",
       "        vertical-align: middle;\n",
       "    }\n",
       "\n",
       "    .dataframe tbody tr th {\n",
       "        vertical-align: top;\n",
       "    }\n",
       "\n",
       "    .dataframe thead th {\n",
       "        text-align: right;\n",
       "    }\n",
       "</style>\n",
       "<table border=\"1\" class=\"dataframe\">\n",
       "  <thead>\n",
       "    <tr style=\"text-align: right;\">\n",
       "      <th></th>\n",
       "      <th>dbn</th>\n",
       "      <th>school_name</th>\n",
       "      <th>borough</th>\n",
       "      <th>building_code</th>\n",
       "      <th>phone_number</th>\n",
       "    </tr>\n",
       "  </thead>\n",
       "  <tbody>\n",
       "    <tr>\n",
       "      <th>0</th>\n",
       "      <td>17K548</td>\n",
       "      <td>Brooklyn School for Music &amp; Theatre</td>\n",
       "      <td>Brooklyn</td>\n",
       "      <td>K440</td>\n",
       "      <td>718-230-6250</td>\n",
       "    </tr>\n",
       "    <tr>\n",
       "      <th>1</th>\n",
       "      <td>09X543</td>\n",
       "      <td>High School for Violin and Dance</td>\n",
       "      <td>Bronx</td>\n",
       "      <td>X400</td>\n",
       "      <td>718-842-0687</td>\n",
       "    </tr>\n",
       "    <tr>\n",
       "      <th>2</th>\n",
       "      <td>09X327</td>\n",
       "      <td>Comprehensive Model School Project M.S. 327</td>\n",
       "      <td>Bronx</td>\n",
       "      <td>X240</td>\n",
       "      <td>718-294-8111</td>\n",
       "    </tr>\n",
       "  </tbody>\n",
       "</table>\n",
       "</div>"
      ],
      "text/plain": [
       "      dbn                                  school_name   borough  \\\n",
       "0  17K548          Brooklyn School for Music & Theatre  Brooklyn   \n",
       "1  09X543             High School for Violin and Dance     Bronx   \n",
       "2  09X327  Comprehensive Model School Project M.S. 327     Bronx   \n",
       "\n",
       "  building_code  phone_number  \n",
       "0          K440  718-230-6250  \n",
       "1          X400  718-842-0687  \n",
       "2          X240  718-294-8111  "
      ]
     },
     "metadata": {},
     "output_type": "display_data"
    },
    {
     "data": {
      "text/html": [
       "<div>\n",
       "<style scoped>\n",
       "    .dataframe tbody tr th:only-of-type {\n",
       "        vertical-align: middle;\n",
       "    }\n",
       "\n",
       "    .dataframe tbody tr th {\n",
       "        vertical-align: top;\n",
       "    }\n",
       "\n",
       "    .dataframe thead th {\n",
       "        text-align: right;\n",
       "    }\n",
       "</style>\n",
       "<table border=\"1\" class=\"dataframe\">\n",
       "  <thead>\n",
       "    <tr style=\"text-align: right;\">\n",
       "      <th></th>\n",
       "      <th>DBN</th>\n",
       "      <th>SCHOOL NAME</th>\n",
       "      <th>Num of SAT Test Takers</th>\n",
       "      <th>SAT Critical Reading Avg. Score</th>\n",
       "      <th>SAT Math Avg. Score</th>\n",
       "    </tr>\n",
       "  </thead>\n",
       "  <tbody>\n",
       "    <tr>\n",
       "      <th>0</th>\n",
       "      <td>01M292</td>\n",
       "      <td>HENRY STREET SCHOOL FOR INTERNATIONAL STUDIES</td>\n",
       "      <td>29</td>\n",
       "      <td>355</td>\n",
       "      <td>404</td>\n",
       "    </tr>\n",
       "    <tr>\n",
       "      <th>1</th>\n",
       "      <td>01M448</td>\n",
       "      <td>UNIVERSITY NEIGHBORHOOD HIGH SCHOOL</td>\n",
       "      <td>91</td>\n",
       "      <td>383</td>\n",
       "      <td>423</td>\n",
       "    </tr>\n",
       "    <tr>\n",
       "      <th>2</th>\n",
       "      <td>01M450</td>\n",
       "      <td>EAST SIDE COMMUNITY SCHOOL</td>\n",
       "      <td>70</td>\n",
       "      <td>377</td>\n",
       "      <td>402</td>\n",
       "    </tr>\n",
       "  </tbody>\n",
       "</table>\n",
       "</div>"
      ],
      "text/plain": [
       "      DBN                                    SCHOOL NAME  \\\n",
       "0  01M292  HENRY STREET SCHOOL FOR INTERNATIONAL STUDIES   \n",
       "1  01M448            UNIVERSITY NEIGHBORHOOD HIGH SCHOOL   \n",
       "2  01M450                     EAST SIDE COMMUNITY SCHOOL   \n",
       "\n",
       "  Num of SAT Test Takers SAT Critical Reading Avg. Score SAT Math Avg. Score  \n",
       "0                     29                             355                 404  \n",
       "1                     91                             383                 423  \n",
       "2                     70                             377                 402  "
      ]
     },
     "metadata": {},
     "output_type": "display_data"
    },
    {
     "data": {
      "text/html": [
       "<div>\n",
       "<style scoped>\n",
       "    .dataframe tbody tr th:only-of-type {\n",
       "        vertical-align: middle;\n",
       "    }\n",
       "\n",
       "    .dataframe tbody tr th {\n",
       "        vertical-align: top;\n",
       "    }\n",
       "\n",
       "    .dataframe thead th {\n",
       "        text-align: right;\n",
       "    }\n",
       "</style>\n",
       "<table border=\"1\" class=\"dataframe\">\n",
       "  <thead>\n",
       "    <tr style=\"text-align: right;\">\n",
       "      <th></th>\n",
       "      <th>DBN</th>\n",
       "      <th>rr_s</th>\n",
       "      <th>rr_t</th>\n",
       "      <th>rr_p</th>\n",
       "      <th>N_s</th>\n",
       "    </tr>\n",
       "  </thead>\n",
       "  <tbody>\n",
       "    <tr>\n",
       "      <th>0</th>\n",
       "      <td>01M015</td>\n",
       "      <td>NaN</td>\n",
       "      <td>88</td>\n",
       "      <td>60</td>\n",
       "      <td>NaN</td>\n",
       "    </tr>\n",
       "    <tr>\n",
       "      <th>1</th>\n",
       "      <td>01M019</td>\n",
       "      <td>NaN</td>\n",
       "      <td>100</td>\n",
       "      <td>60</td>\n",
       "      <td>NaN</td>\n",
       "    </tr>\n",
       "    <tr>\n",
       "      <th>2</th>\n",
       "      <td>01M020</td>\n",
       "      <td>NaN</td>\n",
       "      <td>88</td>\n",
       "      <td>73</td>\n",
       "      <td>NaN</td>\n",
       "    </tr>\n",
       "  </tbody>\n",
       "</table>\n",
       "</div>"
      ],
      "text/plain": [
       "      DBN  rr_s  rr_t  rr_p  N_s\n",
       "0  01M015   NaN    88    60  NaN\n",
       "1  01M019   NaN   100    60  NaN\n",
       "2  01M020   NaN    88    73  NaN"
      ]
     },
     "metadata": {},
     "output_type": "display_data"
    }
   ],
   "source": [
    "for df in data_sets:    \n",
    "    display(data[df].iloc[:3,:5])"
   ]
  },
  {
   "cell_type": "markdown",
   "metadata": {},
   "source": [
    "<br>\n",
    "\n",
    "## Data Cleaning:"
   ]
  },
  {
   "cell_type": "markdown",
   "metadata": {},
   "source": [
    "### Add DBN columns\n",
    "'hs_directory' and 'class_size' don't have DBN columns\n",
    "- 'hs_directory' has a dbn column\n",
    "- 'class_size' has CSD and SCHOOL CODE that need to be combined"
   ]
  },
  {
   "cell_type": "code",
   "execution_count": 36,
   "metadata": {},
   "outputs": [
    {
     "name": "stdout",
     "output_type": "stream",
     "text": [
      "DBN columns added\n"
     ]
    }
   ],
   "source": [
    "data[\"hs_directory\"][\"DBN\"] = data[\"hs_directory\"][\"dbn\"]\n",
    "\n",
    "def pad_csd(num):\n",
    "    string_representation = str(num)\n",
    "    if len(string_representation) > 1:\n",
    "        return string_representation\n",
    "    else:\n",
    "        return \"0\" + string_representation\n",
    "    \n",
    "data[\"class_size\"][\"padded_csd\"] = data[\"class_size\"][\"CSD\"].apply(pad_csd)\n",
    "data[\"class_size\"][\"DBN\"] = data[\"class_size\"][\"padded_csd\"] + data[\"class_size\"][\"SCHOOL CODE\"]\n",
    "\n",
    "print(\"DBN columns added\")"
   ]
  },
  {
   "cell_type": "markdown",
   "metadata": {},
   "source": [
    "<br>\n",
    "\n",
    "### Convert columns to numeric\n",
    "'sat_results', 'ap_2010' and 'hs_directory' data needs to be converted to numeric (errors=\"coerce\" will return NaN for problematic values)\n",
    "- 'sat_results': avg scores in math, reading and writing need to be converted and combined into sat_score \n",
    "- ap_2010: 3 columns converted to numeric\n",
    "- 'hs_directory': lat and lon need to be extracted from Location 1 and converted to numeric "
   ]
  },
  {
   "cell_type": "code",
   "execution_count": 37,
   "metadata": {},
   "outputs": [
    {
     "name": "stdout",
     "output_type": "stream",
     "text": [
      "conversion to numeric done\n"
     ]
    }
   ],
   "source": [
    "#sat_results\n",
    "cols = ['SAT Math Avg. Score', 'SAT Critical Reading Avg. Score', 'SAT Writing Avg. Score']\n",
    "for c in cols:\n",
    "    data[\"sat_results\"][c] = pd.to_numeric(data[\"sat_results\"][c], errors=\"coerce\")\n",
    "\n",
    "data['sat_results']['sat_score'] = data['sat_results'][cols[0]] + data['sat_results'][cols[1]] + data['sat_results'][cols[2]]\n",
    "\n",
    "\n",
    "#ap_2010\n",
    "cols = ['AP Test Takers ', 'Total Exams Taken', 'Number of Exams with scores 3 4 or 5']\n",
    "\n",
    "for col in cols:\n",
    "    data[\"ap_2010\"][col] = pd.to_numeric(data[\"ap_2010\"][col], errors=\"coerce\")\n",
    "\n",
    "\n",
    "#hs_directory    \n",
    "def find_lat(loc):\n",
    "    coords = re.findall(\"\\(.+, .+\\)\", loc)\n",
    "    lat = coords[0].split(\",\")[0].replace(\"(\", \"\")\n",
    "    return lat\n",
    "\n",
    "def find_lon(loc):\n",
    "    coords = re.findall(\"\\(.+, .+\\)\", loc)\n",
    "    lon = coords[0].split(\",\")[1].replace(\")\", \"\").strip()\n",
    "    return lon\n",
    "\n",
    "data[\"hs_directory\"][\"lat\"] = data[\"hs_directory\"][\"Location 1\"].apply(find_lat)\n",
    "data[\"hs_directory\"][\"lon\"] = data[\"hs_directory\"][\"Location 1\"].apply(find_lon)\n",
    "\n",
    "data[\"hs_directory\"][\"lat\"] = pd.to_numeric(data[\"hs_directory\"][\"lat\"], errors=\"coerce\")\n",
    "data[\"hs_directory\"][\"lon\"] = pd.to_numeric(data[\"hs_directory\"][\"lon\"], errors=\"coerce\")\n",
    "\n",
    "\n",
    "\n",
    "print(\"conversion to numeric done\")"
   ]
  },
  {
   "cell_type": "markdown",
   "metadata": {},
   "source": [
    "<br>\n",
    "\n",
    "### Condense datasets\n",
    "- 'class_size':\n",
    "  - will only contain GRADE 9-12 and GEN ED\n",
    "  - CORE SUBJECTS will be aggregated\n",
    "- 'demographics': select only the most recent school year (20112012)\n",
    "- 'graduation': Demographic and Cohort are non unique\n",
    "  - Cohort refers to the year, select most recent: 2006\n",
    "  - Demographic refer to a demographic group, select: Total Cohort."
   ]
  },
  {
   "cell_type": "code",
   "execution_count": 38,
   "metadata": {},
   "outputs": [
    {
     "name": "stdout",
     "output_type": "stream",
     "text": [
      "data sets condensed\n"
     ]
    }
   ],
   "source": [
    "class_size = data[\"class_size\"]\n",
    "class_size = class_size[class_size[\"GRADE \"] == \"09-12\"]\n",
    "class_size = class_size[class_size[\"PROGRAM TYPE\"] == \"GEN ED\"]\n",
    "\n",
    "#aggregrate the CORE SUBJECTS (mean of strings with same name) and return the mean of all other columns\n",
    "class_size = class_size.groupby(\"DBN\").agg(np.mean)\n",
    "#Reset the index to make DBN a column again.\n",
    "class_size.reset_index(inplace=True)\n",
    "data[\"class_size\"] = class_size\n",
    "\n",
    "data[\"demographics\"] = data[\"demographics\"][data[\"demographics\"][\"schoolyear\"] == 20112012]\n",
    "\n",
    "data[\"graduation\"] = data[\"graduation\"][data[\"graduation\"][\"Cohort\"] == \"2006\"]\n",
    "data[\"graduation\"] = data[\"graduation\"][data[\"graduation\"][\"Demographic\"] == \"Total Cohort\"]\n",
    "\n",
    "print(\"data sets condensed\")"
   ]
  },
  {
   "cell_type": "markdown",
   "metadata": {},
   "source": [
    "<br>\n",
    "\n",
    "### Combine the datasets\n",
    "combine all files:\n",
    "- left merge on 'sat_results', 'ap_2010' and 'graduation'\n",
    "  - only use columns that exist on the dataframe on the \"left\" of the merge.\n",
    "- plus inner merge on 'class_size', 'demographics', 'survey', 'hs_directory'\n",
    "  - only combine rows for columns that exist in both data sets."
   ]
  },
  {
   "cell_type": "code",
   "execution_count": 93,
   "metadata": {},
   "outputs": [
    {
     "name": "stdout",
     "output_type": "stream",
     "text": [
      "datasets combined\n"
     ]
    }
   ],
   "source": [
    "#Both the ap_2010 and the graduation data sets have many missing DBN values, \n",
    "#so we'll use a left join when we merge the sat_results data set with them.\n",
    "combined = data[\"sat_results\"]\n",
    "combined = combined.merge(data[\"ap_2010\"], on=\"DBN\", how=\"left\")\n",
    "combined = combined.merge(data[\"graduation\"], on=\"DBN\", how=\"left\")\n",
    "\n",
    "#Because these files contain information that's more valuable to our analysis and \n",
    "#also have fewer missing DBN values, we'll use the inner join type.\n",
    "\n",
    "to_merge = [\"class_size\", \"demographics\", \"survey\", \"hs_directory\"]\n",
    "for m in to_merge:\n",
    "    combined = combined.merge(data[m], on=\"DBN\", how=\"inner\")\n",
    "\n",
    "combined = combined.fillna(combined.mean())\n",
    "combined = combined.fillna(0)\n",
    "\n",
    "print(\"datasets combined\")"
   ]
  },
  {
   "cell_type": "markdown",
   "metadata": {},
   "source": [
    "<br>\n",
    "\n",
    "### Add a school district column for mapping"
   ]
  },
  {
   "cell_type": "code",
   "execution_count": 94,
   "metadata": {},
   "outputs": [],
   "source": [
    "def get_first_two_chars(dbn):\n",
    "    return dbn[0:2]\n",
    "\n",
    "combined[\"school_dist\"] = combined[\"DBN\"].apply(get_first_two_chars)"
   ]
  },
  {
   "cell_type": "markdown",
   "metadata": {},
   "source": [
    "<br>\n",
    "\n",
    "## Analysis:"
   ]
  },
  {
   "cell_type": "markdown",
   "metadata": {},
   "source": [
    "\n",
    "### Q1: Find the variables high highest correlation with SAT scores"
   ]
  },
  {
   "cell_type": "code",
   "execution_count": 130,
   "metadata": {},
   "outputs": [
    {
     "name": "stdout",
     "output_type": "stream",
     "text": [
      "AP Test Takers                          0.523140\n",
      "Total Exams Taken                       0.514333\n",
      "Number of Exams with scores 3 4 or 5    0.463245\n",
      "frl_percent                            -0.722225\n",
      "sped_percent                           -0.448170\n",
      "asian_num                               0.475445\n",
      "asian_per                               0.570730\n",
      "white_num                               0.449559\n",
      "white_per                               0.620718\n",
      "N_s                                     0.423463\n",
      "N_p                                     0.421530\n",
      "total_students                          0.407827\n",
      "Name: sat_score, dtype: float64\n"
     ]
    }
   ],
   "source": [
    "correlations = combined.corr()\n",
    "correlations = correlations[\"sat_score\"]\n",
    "\n",
    "#remove low correlations and variables with the SAT score that have very high correlation\n",
    "print(correlations[((correlations>0.4) | (correlations<-0.4)) & (correlations<0.97)])"
   ]
  },
  {
   "cell_type": "markdown",
   "metadata": {},
   "source": [
    "<br>\n",
    "\n",
    "### Q2: Plot the correlations between different variables and SAT scores"
   ]
  },
  {
   "cell_type": "code",
   "execution_count": 96,
   "metadata": {},
   "outputs": [
    {
     "data": {
      "image/png": "[encoded data removed]",
      "text/plain": [
       "<Figure size 360x720 with 1 Axes>"
      ]
     },
     "metadata": {
      "needs_background": "light"
     },
     "output_type": "display_data"
    }
   ],
   "source": [
    "import matplotlib.pyplot as plt\n",
    "%matplotlib inline\n",
    "import numpy as np\n",
    "\n",
    "fig, ax = plt.subplots(figsize=(5,10))\n",
    "\n",
    "field_names = [\"rr_s\", \"rr_t\", \"rr_p\", \"N_s\", \"N_t\", \"N_p\", \n",
    "               \"saf_p_11\", \"com_p_11\", \"eng_p_11\", \"aca_p_11\", \n",
    "               \"saf_t_11\", \"com_t_11\", \"eng_t_11\", \"aca_t_11\", \n",
    "               \"saf_s_11\", \"com_s_11\", \"eng_s_11\", \"aca_s_11\", \n",
    "               \"saf_tot_11\", \"com_tot_11\", \"eng_tot_11\", \"aca_tot_11\"]\n",
    "\n",
    "fields = ['StudentResponse_Rt', 'TeacherResponse_Rt', 'ParentResponse_Rt',\n",
    "          'N_student_resp', 'N_teacher_resp', 'N_parent_res',\n",
    "          'Safety_Respect_parents', 'Communication_parents',\n",
    "          'Engagement_parents','Academic_expectations_parents',\n",
    "          'Safety_Respect_teachers','Communication_teachers',\n",
    "          'Engagement_teachers','Academic_expectations_teachers',\n",
    "          'Safety_Respect_students','Communication_students',\n",
    "          'Engagement_students','Academic_expectations_students',\n",
    "          'Safety_Respect_total','Communication_total',\n",
    "          'Engagement_total','Academic_expectations_total']\n",
    "\n",
    "\n",
    "bar_pos = np.arange(0,len(fields),1.) + 1.\n",
    "bar_widths = correlations[field_names]\n",
    "\n",
    "#sort fields according to bar_widths\n",
    "combined_list = sorted(zip(bar_widths, fields))\n",
    "fields = [x for y, x in combined_list]\n",
    "bar_widths = sorted(bar_widths)\n",
    "\n",
    "ax.barh(bar_pos, bar_widths, height=0.5)\n",
    "\n",
    "ax.set_ylim(0,len(fields)+1)\n",
    "ax.set_yticks(bar_pos)\n",
    "ax.set_yticklabels(fields)\n",
    "for key,spine in ax.spines.items():\n",
    "        spine.set_visible(False)\n",
    "ax.tick_params(left=False, right=False, top=False, bottom=False)\n",
    "ax.axhline(15.5)\n",
    "ax.text(0.75, 0.69, 'r_value>0.25', fontsize=12, transform=ax.transAxes)\n",
    "plt.show()"
   ]
  },
  {
   "cell_type": "markdown",
   "metadata": {},
   "source": [
    "<br>\n",
    "\n",
    "### Q3: Look at the correlation between the Safety Respect as seen by the students and SAT scores"
   ]
  },
  {
   "cell_type": "code",
   "execution_count": 113,
   "metadata": {},
   "outputs": [
    {
     "data": {
      "image/png": "[encoded data removed]",
      "text/plain": [
       "<Figure size 360x360 with 1 Axes>"
      ]
     },
     "metadata": {
      "needs_background": "light"
     },
     "output_type": "display_data"
    }
   ],
   "source": [
    "from scipy.stats import linregress\n",
    "\n",
    "fig, ax = plt.subplots(figsize=(5,5))\n",
    "\n",
    "ax.scatter(combined['saf_s_11'], combined['sat_score'], s=5, color='blue')\n",
    "ax.set_xlabel('Safety and Respect (students)')\n",
    "ax.set_ylabel('SAT scores')\n",
    "\n",
    "slope,intercept,r_value,p_value,stderr_slope = linregress(combined['saf_s_11'], combined['sat_score'])\n",
    "xx = np.arange(min(combined['saf_s_11']), max(combined['saf_s_11']), (max(combined['saf_s_11'])-min(combined['saf_s_11']))/100.)\n",
    "ax.plot(xx,xx*slope+intercept, color=\"#849AB8\", linewidth=2, alpha=0.7)\n",
    "ax.text(0.5, 0.9, 'r_value=%0.2f' % (r_value), fontsize=15, transform=ax.transAxes)\n",
    "\n",
    "plt.show()"
   ]
  },
  {
   "cell_type": "markdown",
   "metadata": {},
   "source": [
    "<br>\n",
    "\n",
    "### Q4: group by school district and plot values on a map\n",
    "\n",
    "This will allows us to look at the geographical distribution of SAT scores and english learning percentage. We can test the hipotesis that students learning english will likely be in immigrant communities with lower socio-economic backgrounds and have lower SAT scores"
   ]
  },
  {
   "cell_type": "code",
   "execution_count": 117,
   "metadata": {},
   "outputs": [],
   "source": [
    "groups = combined.groupby(combined['school_dist'])\n",
    "districts = groups.agg(np.mean)\n",
    "districts.reset_index(inplace=True)"
   ]
  },
  {
   "cell_type": "markdown",
   "metadata": {},
   "source": [
    "\n",
    "### Look at SAT results value per geographical location in NY"
   ]
  },
  {
   "cell_type": "code",
   "execution_count": 124,
   "metadata": {},
   "outputs": [
    {
     "data": {
      "image/png": "[encoded data removed]",
      "text/plain": [
       "<Figure size 360x360 with 1 Axes>"
      ]
     },
     "metadata": {},
     "output_type": "display_data"
    }
   ],
   "source": [
    "from mpl_toolkits.basemap import Basemap\n",
    "\n",
    "fig = plt.figure(figsize=(5,5))\n",
    "m = Basemap(projection='merc', llcrnrlat=40.496044, urcrnrlat=40.915256, \n",
    "            llcrnrlon=-74.255735, urcrnrlon=-73.700272, resolution='h')\n",
    "m.fillcontinents(color='#F0E0BB', lake_color='#BBDDF0')\n",
    "m.drawmapboundary(fill_color='#C2DCEA')\n",
    "m.drawcoastlines(color='#6D5F47', linewidth=.4)\n",
    "m.drawrivers(color='#6D5F47', linewidth=.4)\n",
    "\n",
    "longitudes = districts['lon'].tolist()\n",
    "latitudes = districts['lat'].tolist()\n",
    "#zorder - 2 draws the points on top of the continents, which is where we want them.\n",
    "#latlon - latitude and longitude coordinates instead of x and y plot coordinates.\n",
    "#c - color code by another variable automatically converted to values ranging from 0 to 1. \n",
    "m.scatter(longitudes, latitudes, s=50, zorder=2, latlon=True, c=districts['sat_score'], cmap='summer')\n",
    "plt.show()"
   ]
  },
  {
   "cell_type": "markdown",
   "metadata": {},
   "source": [
    "### Look at the percentage of students learning english per geographical location in NY"
   ]
  },
  {
   "cell_type": "code",
   "execution_count": 125,
   "metadata": {},
   "outputs": [
    {
     "data": {
      "image/png": "[encoded data removed]",
      "text/plain": [
       "<Figure size 360x360 with 1 Axes>"
      ]
     },
     "metadata": {},
     "output_type": "display_data"
    }
   ],
   "source": [
    "fig = plt.figure(figsize=(5,5))\n",
    "\n",
    "m = Basemap(projection='merc', llcrnrlat=40.496044, urcrnrlat=40.915256, \n",
    "            llcrnrlon=-74.255735, urcrnrlon=-73.700272, resolution='h')\n",
    "m.fillcontinents(color='#F0E0BB', lake_color='#BBDDF0')\n",
    "m.drawmapboundary(fill_color='#C2DCEA')\n",
    "m.drawcoastlines(color='#6D5F47', linewidth=.4)\n",
    "m.drawrivers(color='#6D5F47', linewidth=.4)\n",
    "\n",
    "longitudes = districts['lon'].tolist()\n",
    "latitudes = districts['lat'].tolist()\n",
    "m.scatter(longitudes, latitudes, s=50, zorder=2, latlon=True, c=districts['ell_percent'], cmap='summer')\n",
    "\n",
    "plt.show()"
   ]
  },
  {
   "cell_type": "markdown",
   "metadata": {},
   "source": [
    "- it's hard to see a clear pattern from the plot (although the correlation coefficient between the 2 varaibles is ~-0.4)"
   ]
  },
  {
   "cell_type": "markdown",
   "metadata": {},
   "source": [
    "<br>\n",
    "\n",
    "### Q5: Look at the correlation between SAT scores and etnic origin"
   ]
  },
  {
   "cell_type": "code",
   "execution_count": 138,
   "metadata": {},
   "outputs": [
    {
     "data": {
      "image/png": "[encoded data removed]",
      "text/plain": [
       "<Figure size 360x360 with 1 Axes>"
      ]
     },
     "metadata": {
      "needs_background": "light"
     },
     "output_type": "display_data"
    }
   ],
   "source": [
    "fig, ax = plt.subplots(figsize=(5,5))\n",
    "\n",
    "field_names = ['white_per', 'asian_per', 'black_per', 'hispanic_per']\n",
    "bar_widths = correlations[field_names]\n",
    "bar_pos = np.arange(0,len(field_names),1.0)+1.\n",
    "ax.barh(bar_pos, bar_widths, height=0.5)\n",
    "\n",
    "ax.set_ylim(0+0.5, (len(field_names)+1)-0.5)\n",
    "ax.set_xlim(-0.5, 0.7)\n",
    "ax.set_yticks(bar_pos)\n",
    "ax.set_yticklabels(field_names)\n",
    "\n",
    "for key,spine in ax.spines.items():    \n",
    "    spine.set_visible(False)\n",
    "ax.tick_params(left=False, right=False, top=False, bottom=False)"
   ]
  },
  {
   "cell_type": "markdown",
   "metadata": {},
   "source": [
    "- Hispanics seem to performe horse. Strong correlation between Asian and White percentage"
   ]
  },
  {
   "cell_type": "markdown",
   "metadata": {},
   "source": [
    "### Zoom in on hispanic percentange"
   ]
  },
  {
   "cell_type": "code",
   "execution_count": 73,
   "metadata": {},
   "outputs": [
    {
     "data": {
      "text/plain": [
       "<matplotlib.collections.PathCollection at 0x7f46a8deecc0>"
      ]
     },
     "execution_count": 73,
     "metadata": {},
     "output_type": "execute_result"
    },
    {
     "data": {
      "image/png": "[encoded data removed]",
      "text/plain": [
       "<matplotlib.figure.Figure at 0x7f46aedb3470>"
      ]
     },
     "metadata": {},
     "output_type": "display_data"
    }
   ],
   "source": [
    "fig, ax = plt.subplots(figsize=(5,5))\n",
    "ax.scatter(combined['hispanic_per'], combined['sat_score'], s=5, color='blue')"
   ]
  },
  {
   "cell_type": "markdown",
   "metadata": {},
   "source": [
    "The correlation between hispanic_per and sat_score isnt obvious. It seems to be driven by <b>very high scores at low hispanic percentages</b> and <b>very low scores at 100% hispanic</b>"
   ]
  },
  {
   "cell_type": "markdown",
   "metadata": {},
   "source": [
    "### Find the names of these extreme cases driving the correlation"
   ]
  },
  {
   "cell_type": "code",
   "execution_count": 79,
   "metadata": {},
   "outputs": [
    {
     "name": "stdout",
     "output_type": "stream",
     "text": [
      "                                           SCHOOL NAME  sat_score\n",
      "44                       MANHATTAN BRIDGES HIGH SCHOOL     1058.0\n",
      "82    WASHINGTON HEIGHTS EXPEDITIONARY LEARNING SCHOOL     1174.0\n",
      "89   GREGORIO LUPERON HIGH SCHOOL FOR SCIENCE AND M...     1014.0\n",
      "125                ACADEMY FOR LANGUAGE AND TECHNOLOGY      951.0\n",
      "141              INTERNATIONAL SCHOOL FOR LIBERAL ARTS      934.0\n",
      "176   PAN AMERICAN INTERNATIONAL HIGH SCHOOL AT MONROE      970.0\n",
      "253                          MULTICULTURAL HIGH SCHOOL      887.0\n",
      "286             PAN AMERICAN INTERNATIONAL HIGH SCHOOL      951.0\n"
     ]
    }
   ],
   "source": [
    "print(combined[combined['hispanic_per']>95][['SCHOOL NAME','sat_score']])"
   ]
  },
  {
   "cell_type": "code",
   "execution_count": 82,
   "metadata": {},
   "outputs": [
    {
     "name": "stdout",
     "output_type": "stream",
     "text": [
      "                                           SCHOOL NAME\n",
      "37                              STUYVESANT HIGH SCHOOL\n",
      "151                       BRONX HIGH SCHOOL OF SCIENCE\n",
      "187                     BROOKLYN TECHNICAL HIGH SCHOOL\n",
      "327  QUEENS HIGH SCHOOL FOR THE SCIENCES AT YORK CO...\n",
      "356                STATEN ISLAND TECHNICAL HIGH SCHOOL\n"
     ]
    }
   ],
   "source": [
    "print(combined[(combined['hispanic_per']<10) & (combined['sat_score']>1800)][['SCHOOL NAME']])"
   ]
  },
  {
   "cell_type": "markdown",
   "metadata": {},
   "source": [
    "- All schools with low hispanic percentage and high SAT scores are elite, highly selective schools"
   ]
  },
  {
   "cell_type": "markdown",
   "metadata": {},
   "source": [
    "<br>\n",
    "\n",
    "### Q6: Correlation between SAT scores and gender"
   ]
  },
  {
   "cell_type": "code",
   "execution_count": 148,
   "metadata": {},
   "outputs": [
    {
     "data": {
      "image/png": "[encoded data removed]",
      "text/plain": [
       "<Figure size 360x144 with 1 Axes>"
      ]
     },
     "metadata": {
      "needs_background": "light"
     },
     "output_type": "display_data"
    }
   ],
   "source": [
    "fig, ax = plt.subplots(figsize=(5,2))\n",
    "\n",
    "field_names=['male_per', 'female_per']\n",
    "bar_widths=correlations[field_names]\n",
    "bar_pos=np.arange(0,len(field_names),1)-0.5\n",
    "ax.barh(bar_pos, bar_widths, height=0.5)\n",
    "\n",
    "ax.set_yticks(bar_pos)\n",
    "ax.set_yticklabels(field_names)\n",
    "for key,spine in ax.spines.items():\n",
    "        spine.set_visible(False)\n",
    "ax.tick_params(right=False, top=False)\n",
    "        \n",
    "plt.show()"
   ]
  },
  {
   "cell_type": "markdown",
   "metadata": {},
   "source": [
    "- Males percentage inversely correlated with SAT scores: males perform significantly worse"
   ]
  },
  {
   "cell_type": "markdown",
   "metadata": {},
   "source": [
    "### Zoom in on female percentage"
   ]
  },
  {
   "cell_type": "code",
   "execution_count": 98,
   "metadata": {},
   "outputs": [
    {
     "data": {
      "image/png": "[encoded data removed]",
      "text/plain": [
       "<matplotlib.figure.Figure at 0x7f46a89530f0>"
      ]
     },
     "metadata": {},
     "output_type": "display_data"
    }
   ],
   "source": [
    "fig, ax = plt.subplots(figsize=(5,5))\n",
    "\n",
    "ax.scatter(combined['female_per'], combined['sat_score'], s=5, color='blue')\n",
    "plt.show()"
   ]
  },
  {
   "cell_type": "markdown",
   "metadata": {},
   "source": [
    "- Schools with 100% female perform average. \n",
    "\n",
    "- between 50% and 80% there are some schools with very high SAT scores\n",
    "  - this hints at an hidden variable that causes these schools to form a separate relation\n",
    "\n",
    "- highest achievers are schools with ~50/50 (or 40% female)"
   ]
  },
  {
   "cell_type": "markdown",
   "metadata": {},
   "source": [
    "### Zoom in on schools with high female percentage and high SAT scores"
   ]
  },
  {
   "cell_type": "code",
   "execution_count": 99,
   "metadata": {},
   "outputs": [
    {
     "name": "stdout",
     "output_type": "stream",
     "text": [
      "5                         BARD HIGH SCHOOL EARLY COLLEGE\n",
      "26                         ELEANOR ROOSEVELT HIGH SCHOOL\n",
      "60                                    BEACON HIGH SCHOOL\n",
      "61     FIORELLO H. LAGUARDIA HIGH SCHOOL OF MUSIC & A...\n",
      "302                          TOWNSEND HARRIS HIGH SCHOOL\n",
      "Name: SCHOOL NAME, dtype: object\n"
     ]
    }
   ],
   "source": [
    "sel = (combined['female_per']>60) & (combined['sat_score']>1700)\n",
    "print(combined[sel]['SCHOOL NAME'])"
   ]
  },
  {
   "cell_type": "markdown",
   "metadata": {},
   "source": [
    "- all very selective schools"
   ]
  },
  {
   "cell_type": "markdown",
   "metadata": {},
   "source": [
    "<br>\n",
    "\n",
    "### Q7: Correlation between percentage of students taking exams and SAT scores"
   ]
  },
  {
   "cell_type": "code",
   "execution_count": 100,
   "metadata": {},
   "outputs": [
    {
     "data": {
      "image/png": "[encoded data removed]",
      "text/plain": [
       "<matplotlib.figure.Figure at 0x7f46a8a30f98>"
      ]
     },
     "metadata": {},
     "output_type": "display_data"
    }
   ],
   "source": [
    "combined['ap_per'] = combined['AP Test Takers ']/combined['total_enrollment']\n",
    "\n",
    "fig, ax = plt.subplots(figsize=(5,5))\n",
    "ax.scatter(combined['ap_per'], combined['sat_score'], s=5, color='blue')\n",
    "plt.show()"
   ]
  },
  {
   "cell_type": "markdown",
   "metadata": {
    "collapsed": true
   },
   "source": [
    "- There is a strong correlations between 20 and 60%, flat and low above 60"
   ]
  },
  {
   "cell_type": "markdown",
   "metadata": {},
   "source": [
    "### Zoom in on schools with high percentage of exam takes and low sat scores"
   ]
  },
  {
   "cell_type": "code",
   "execution_count": 104,
   "metadata": {},
   "outputs": [
    {
     "name": "stdout",
     "output_type": "stream",
     "text": [
      "6      47 THE AMERICAN SIGN LANGUAGE AND ENGLISH SECO...\n",
      "31                 MANHATTAN ACADEMY FOR ARTS & LANGUAGE\n",
      "33             INTERNATIONAL HIGH SCHOOL AT UNION SQUARE\n",
      "83             HIGH SCHOOL FOR EXCELLENCE AND INNOVATION\n",
      "111                            BRONX BRIDGES HIGH SCHOOL\n",
      "208                              FRANCES PERKINS ACADEMY\n",
      "222               THE BROOKLYN ACADEMY OF GLOBAL FINANCE\n",
      "335                              CAMBRIA HEIGHTS ACADEMY\n",
      "Name: SCHOOL NAME, dtype: object\n"
     ]
    }
   ],
   "source": [
    "sel = (combined['ap_per']>0.7)\n",
    "print(combined[sel]['SCHOOL NAME'])"
   ]
  },
  {
   "cell_type": "markdown",
   "metadata": {},
   "source": [
    "- these are schools with particular characteristics (e.g. recently arrived immigrants or students with learning difficulties  )"
   ]
  },
  {
   "cell_type": "markdown",
   "metadata": {
    "collapsed": true
   },
   "source": [
    "<br>\n",
    "<br>\n",
    "potential next steps:\n",
    "\n",
    "- Determing wheter there's a correlation between class size and SAT scores\n",
    "- Figuring out which neighborhoods have the best schools\n",
    "- If we combine this information with a dataset containing property values, we could find the least expensive neighborhoods that have good schools.\n",
    "- Investigating the differences between parent, teacher, and student responses to surveys.\n",
    "- Assigning scores to schools based on sat_score and other attributes."
   ]
  },
  {
   "cell_type": "code",
   "execution_count": null,
   "metadata": {},
   "outputs": [],
   "source": []
  }
 ],
 "metadata": {
  "kernelspec": {
   "display_name": "Python 3",
   "language": "python",
   "name": "python3"
  },
  "language_info": {
   "codemirror_mode": {
    "name": "ipython",
    "version": 3
   },
   "file_extension": ".py",
   "mimetype": "text/x-python",
   "name": "python",
   "nbconvert_exporter": "python",
   "pygments_lexer": "ipython3",
   "version": "3.6.6"
  }
 },
 "nbformat": 4,
 "nbformat_minor": 1
}
