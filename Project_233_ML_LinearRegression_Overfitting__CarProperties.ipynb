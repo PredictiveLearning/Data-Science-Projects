{
 "cells": [
  {
   "cell_type": "markdown",
   "metadata": {},
   "source": [
    "# Project: ML - Multivariate Linear Regression and Overfitting (Car Properties)"
   ]
  },
  {
   "cell_type": "markdown",
   "metadata": {},
   "source": [
    "<br>\n",
    "\n",
    "## Questions to address:\n",
    "- predict fuel efficiency from car properties"
   ]
  },
  {
   "cell_type": "markdown",
   "metadata": {},
   "source": [
    "<br>\n",
    "\n",
    "## Tools:\n",
    "- Models:\n",
    "  - sklearn Multivariate LR (using Ordinary Least Squares)\n",
    "- Error Metric: MSE, Var, $\\sqrt{MSE^2+VAR^2}$ \n",
    "- Holdout and kfold Validation "
   ]
  },
  {
   "cell_type": "markdown",
   "metadata": {},
   "source": [
    "<br>\n",
    "\n",
    "### load defaults"
   ]
  },
  {
   "cell_type": "code",
   "execution_count": 1,
   "metadata": {},
   "outputs": [
    {
     "name": "stdout",
     "output_type": "stream",
     "text": [
      "Defaults Loaded\n"
     ]
    }
   ],
   "source": [
    "import numpy as np\n",
    "import pandas as pd\n",
    "import seaborn as sns\n",
    "import re\n",
    "import requests \n",
    "\n",
    "%matplotlib inline\n",
    "import matplotlib.pyplot as plt\n",
    "from matplotlib.ticker import MultipleLocator\n",
    "from matplotlib import rcParams\n",
    "import matplotlib.dates as mdates\n",
    "from datetime import datetime\n",
    "from IPython.display import display, Math\n",
    "\n",
    "from functions import *\n",
    "\n",
    "plt.rcParams.update({'axes.titlepad': 20, 'font.size': 12, 'axes.titlesize':20})\n",
    "\n",
    "colors = [(0/255,107/255,164/255), (255/255, 128/255, 14/255), 'red', 'green', '#9E80BA', '#8EDB8E', '#58517A']\n",
    "Ncolors = 10\n",
    "color_map = plt.cm.Blues_r(np.linspace(0.2, 0.5, Ncolors))\n",
    "#color_map = plt.cm.tab20c_r(np.linspace(0.2, 0.5, Ncolors))\n",
    "\n",
    "\n",
    "#specific to this project\n",
    "from sklearn.linear_model import LinearRegression\n",
    "from sklearn.metrics import mean_squared_error\n",
    "\n",
    "print(\"Defaults Loaded\")"
   ]
  },
  {
   "cell_type": "markdown",
   "metadata": {},
   "source": [
    "<br>\n",
    "\n",
    "## Dataset: car properties that affect fuel efficiency"
   ]
  },
  {
   "cell_type": "code",
   "execution_count": 2,
   "metadata": {},
   "outputs": [
    {
     "data": {
      "text/html": [
       "<div>\n",
       "<style scoped>\n",
       "    .dataframe tbody tr th:only-of-type {\n",
       "        vertical-align: middle;\n",
       "    }\n",
       "\n",
       "    .dataframe tbody tr th {\n",
       "        vertical-align: top;\n",
       "    }\n",
       "\n",
       "    .dataframe thead th {\n",
       "        text-align: right;\n",
       "    }\n",
       "</style>\n",
       "<table border=\"1\" class=\"dataframe\">\n",
       "  <thead>\n",
       "    <tr style=\"text-align: right;\">\n",
       "      <th></th>\n",
       "      <th>mpg</th>\n",
       "      <th>cylinders</th>\n",
       "      <th>displacement</th>\n",
       "      <th>horsepower</th>\n",
       "      <th>weight</th>\n",
       "      <th>acceleration</th>\n",
       "      <th>model year</th>\n",
       "      <th>origin</th>\n",
       "      <th>car name</th>\n",
       "    </tr>\n",
       "  </thead>\n",
       "  <tbody>\n",
       "    <tr>\n",
       "      <th>0</th>\n",
       "      <td>18.0</td>\n",
       "      <td>8</td>\n",
       "      <td>307.0</td>\n",
       "      <td>130.0</td>\n",
       "      <td>3504.0</td>\n",
       "      <td>12.0</td>\n",
       "      <td>70</td>\n",
       "      <td>1</td>\n",
       "      <td>chevrolet chevelle malibu</td>\n",
       "    </tr>\n",
       "    <tr>\n",
       "      <th>1</th>\n",
       "      <td>15.0</td>\n",
       "      <td>8</td>\n",
       "      <td>350.0</td>\n",
       "      <td>165.0</td>\n",
       "      <td>3693.0</td>\n",
       "      <td>11.5</td>\n",
       "      <td>70</td>\n",
       "      <td>1</td>\n",
       "      <td>buick skylark 320</td>\n",
       "    </tr>\n",
       "    <tr>\n",
       "      <th>2</th>\n",
       "      <td>18.0</td>\n",
       "      <td>8</td>\n",
       "      <td>318.0</td>\n",
       "      <td>150.0</td>\n",
       "      <td>3436.0</td>\n",
       "      <td>11.0</td>\n",
       "      <td>70</td>\n",
       "      <td>1</td>\n",
       "      <td>plymouth satellite</td>\n",
       "    </tr>\n",
       "  </tbody>\n",
       "</table>\n",
       "</div>"
      ],
      "text/plain": [
       "    mpg  cylinders  displacement  horsepower  weight  acceleration  \\\n",
       "0  18.0          8         307.0       130.0  3504.0          12.0   \n",
       "1  15.0          8         350.0       165.0  3693.0          11.5   \n",
       "2  18.0          8         318.0       150.0  3436.0          11.0   \n",
       "\n",
       "   model year  origin                   car name  \n",
       "0          70       1  chevrolet chevelle malibu  \n",
       "1          70       1          buick skylark 320  \n",
       "2          70       1         plymouth satellite  "
      ]
     },
     "metadata": {},
     "output_type": "display_data"
    }
   ],
   "source": [
    "columns = [\"mpg\", \"cylinders\", \"displacement\", \"horsepower\", \"weight\", \"acceleration\", \n",
    "           \"model year\", \"origin\", \"car name\"]\n",
    "cars = pd.read_table(\"./data/auto-mpg.data\", delim_whitespace=True, names=columns)\n",
    "\n",
    "#select only rows with horsepower information\n",
    "filtered_cars = cars[cars['horsepower'] != '?'].copy()\n",
    "filtered_cars['horsepower'] = filtered_cars['horsepower'].astype('float')\n",
    "\n",
    "display(filtered_cars[:3])"
   ]
  },
  {
   "cell_type": "markdown",
   "metadata": {},
   "source": [
    "- bias: errors resulting from the learning lagorithm (for e.g. using a single variable)\n",
    "  - calculate bias: trainning different models from the same class using different features and calculate errors (with linear regression, MAE, MSE or R-squared)\n",
    "- variance: errors due to the variability of model's predicted values (e.g. use all variables, low bias high variance)\n",
    "  - calculate variance: increase in variance as we build more complex, multi-variate models"
   ]
  },
  {
   "cell_type": "markdown",
   "metadata": {},
   "source": [
    "**Overfitting**: perform well on traing set, bad on new data (every model has noise, if model overfits it captures the noise and the signal)\n",
    "- detect overfitting: compare **in-sample error** and **out-of-sample error**, or **trainning** with **test** error.\n",
    "- use cross validation to check out-of-sample error, if much larger than in-sample error - overfitting"
   ]
  },
  {
   "cell_type": "markdown",
   "metadata": {},
   "source": [
    "train on single features"
   ]
  },
  {
   "cell_type": "code",
   "execution_count": 3,
   "metadata": {},
   "outputs": [
    {
     "name": "stdout",
     "output_type": "stream",
     "text": [
      "MSE = 24.020, Var = 36.743\n",
      "MSE = 18.677, Var = 42.086\n"
     ]
    }
   ],
   "source": [
    "def train_and_test(cols):\n",
    "    #Linear Regression Model\n",
    "    model = LinearRegression()\n",
    "    model.fit(filtered_cars[cols], filtered_cars['mpg'])  \n",
    "    predictions = model.predict(filtered_cars[cols])\n",
    "    \n",
    "    #Variance and Error\n",
    "    variance = np.var(predictions)\n",
    "    mse = mean_squared_error(filtered_cars['mpg'], predictions)\n",
    "    \n",
    "    return(mse, variance)\n",
    "\n",
    "(cyl_mse, cyl_var) = train_and_test(['cylinders'])\n",
    "(weight_mse, weight_var) = train_and_test(['weight'])\n",
    "\n",
    "print(\"MSE = {:0.3f}, Var = {:0.3f}\".format(cyl_mse, cyl_var))\n",
    "print(\"MSE = {:0.3f}, Var = {:0.3f}\".format(weight_mse, weight_var))"
   ]
  },
  {
   "cell_type": "markdown",
   "metadata": {},
   "source": [
    "train on multiple features"
   ]
  },
  {
   "cell_type": "code",
   "execution_count": 4,
   "metadata": {},
   "outputs": [
    {
     "data": {
      "image/png": "[encoded data removed]",
      "text/plain": [
       "<Figure size 360x360 with 1 Axes>"
      ]
     },
     "metadata": {
      "needs_background": "light"
     },
     "output_type": "display_data"
    }
   ],
   "source": [
    "def train_and_test(cols):\n",
    "    # Split into features & target.\n",
    "    features = filtered_cars[cols]\n",
    "    target = filtered_cars[\"mpg\"]\n",
    "    # Fit model.\n",
    "    lr = LinearRegression()\n",
    "    lr.fit(features, target)\n",
    "    # Make predictions on training set.\n",
    "    predictions = lr.predict(features)\n",
    "    # Compute MSE and Variance.\n",
    "    mse = mean_squared_error(filtered_cars[\"mpg\"], predictions)\n",
    "    variance = np.var(predictions)\n",
    "    return(mse, variance)\n",
    "\n",
    "features = ['cylinders','displacement', 'horsepower', 'weight', 'acceleration', 'model year', 'origin']\n",
    "#train models with one more feature at a time\n",
    "mse = []\n",
    "var = []\n",
    "N_features = []\n",
    "for ii in range(0,len(features)):\n",
    "    mse_var = train_and_test(features[:ii+1])\n",
    "    mse.append(mse_var[0])\n",
    "    var.append(mse_var[1])\n",
    "    N_features.append(len(features[:ii+1]))\n",
    "    \n",
    "    \n",
    "fig, ax = plt.subplots(figsize=(5,5))\n",
    "\n",
    "ax.plot(np.array(N_features), np.array(mse), label='MSE')\n",
    "ax.plot(np.array(N_features), np.array(var), label='Var')\n",
    "error = np.sqrt(np.array(mse)**2+np.array(var)**2)\n",
    "ax.plot(np.array(N_features), np.array(error), label='total error')\n",
    "\n",
    "ax.tick_params(left=False, right=False, top=False, bottom=False)       \n",
    "for key,spine in ax.spines.items():\n",
    "        spine.set_visible(False) \n",
    "ax.set_ylabel(\"error\"), ax.set_xlabel(\"N_features\")\n",
    "\n",
    "ax.legend(frameon=0)\n",
    "plt.show()"
   ]
  },
  {
   "cell_type": "markdown",
   "metadata": {},
   "source": [
    "<br>\n",
    "\n",
    "### kfold validation"
   ]
  },
  {
   "cell_type": "code",
   "execution_count": 5,
   "metadata": {},
   "outputs": [
    {
     "data": {
      "image/png": "[encoded data removed]",
      "text/plain": [
       "<Figure size 360x360 with 1 Axes>"
      ]
     },
     "metadata": {
      "needs_background": "light"
     },
     "output_type": "display_data"
    }
   ],
   "source": [
    "from sklearn.model_selection import KFold\n",
    "  \n",
    "  \n",
    "features_list = [[\"cylinders\", \"displacement\"],\n",
    "                [\"cylinders\", \"displacement\", \"horsepower\"],\n",
    "                [\"cylinders\", \"displacement\", \"horsepower\", \"weight\"],\n",
    "                [\"cylinders\", \"displacement\", \"horsepower\", \"weight\", \"acceleration\"],\n",
    "                [\"cylinders\", \"displacement\", \"horsepower\", \"weight\", \"acceleration\", \"model year\"],\n",
    "                [\"cylinders\", \"displacement\", \"horsepower\", \"weight\", \"acceleration\",\"model year\", \"origin\"]]\n",
    "target = ['mpg']\n",
    "k_folds = np.arange(1,10, 10)\n",
    "\n",
    "mse_mean_list = []\n",
    "var_mean_list = []\n",
    "N_features = []\n",
    "\n",
    "#run the model\n",
    "for features in features_list:\n",
    "    X = filtered_cars[features]\n",
    "    Y = filtered_cars[target]\n",
    "    mse_list = []\n",
    "    var_list = []\n",
    "            \n",
    "    #kfold validation   \n",
    "    kf = KFold(n_splits=10, shuffle=True, random_state=1)\n",
    "    \n",
    "    # Iterate through over each fold.\n",
    "    for train_index, test_index in kf.split(X):        \n",
    "        X_train, X_test = X.iloc[train_index], X.iloc[test_index]\n",
    "        y_train, y_test = Y.iloc[train_index], Y.iloc[test_index]\n",
    "    \n",
    "      \n",
    "        # Fit the model and make predictions.\n",
    "        lr = LinearRegression()\n",
    "        lr.fit(X_train, y_train)\n",
    "        predictions = lr.predict(X_test)\n",
    "        \n",
    "        # Calculate mse and variance values for this fold.\n",
    "        mse = mean_squared_error(y_test, predictions)\n",
    "        var = np.var(predictions)\n",
    "\n",
    "        # Append to arrays to do calculate overall average mse and variance values.\n",
    "        mse_list.append(mse)\n",
    "        var_list.append(var)\n",
    "     \n",
    "    # Compute average mse and variance values.\n",
    "    mse_mean_list.append(np.mean(mse_list))\n",
    "    var_mean_list.append(np.mean(var_list))\n",
    "    N_features.append(len(features))\n",
    "\n",
    "\n",
    "fig, ax = plt.subplots(figsize=(5,5))\n",
    "\n",
    "ax.plot(np.array(N_features), np.array(mse_mean_list), label='MSE')\n",
    "ax.plot(np.array(N_features), np.array(var_mean_list), label='Var')\n",
    "error = np.sqrt(np.array(mse_mean_list)**2+np.array(var_mean_list)**2)\n",
    "ax.plot(np.array(N_features), np.array(error), label='error')\n",
    "\n",
    "ax.tick_params(left=False, right=False, top=False, bottom=False)       \n",
    "for key,spine in ax.spines.items():\n",
    "        spine.set_visible(False) \n",
    "ax.set_ylabel(\"error\"), ax.set_xlabel(\"N_features\")\n",
    "\n",
    "ax.legend()\n",
    "plt.show()"
   ]
  },
  {
   "cell_type": "markdown",
   "metadata": {},
   "source": [
    "- more features: lower MSE (more accurate model)\n",
    "- more features: more variance (more complexity, more sensitive to small variations in input)\n",
    "- best model just with one or two features"
   ]
  },
  {
   "cell_type": "code",
   "execution_count": null,
   "metadata": {},
   "outputs": [],
   "source": []
  }
 ],
 "metadata": {
  "kernelspec": {
   "display_name": "Python 3",
   "language": "python",
   "name": "python3"
  },
  "language_info": {
   "codemirror_mode": {
    "name": "ipython",
    "version": 3
   },
   "file_extension": ".py",
   "mimetype": "text/x-python",
   "name": "python",
   "nbconvert_exporter": "python",
   "pygments_lexer": "ipython3",
   "version": "3.6.6"
  }
 },
 "nbformat": 4,
 "nbformat_minor": 2
}
