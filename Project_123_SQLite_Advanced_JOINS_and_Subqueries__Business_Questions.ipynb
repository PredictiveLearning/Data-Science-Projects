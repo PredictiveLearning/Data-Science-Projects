{
 "cells": [
  {
   "cell_type": "markdown",
   "metadata": {},
   "source": [
    "# Project: SQLite Advanced JOINS and Subqueries (Business Questions)"
   ]
  },
  {
   "cell_type": "markdown",
   "metadata": {},
   "source": [
    "<br>\n",
    "\n",
    "## Questions to address:\n",
    "- Perform advanced JOINS and subqueries to answer question on stats of music purchases\n",
    "- Find which genres sell the most tracks in the USA\n",
    "- Analyze the sells of each sales rep employee\n",
    "- Analyze sales data for customers in different countries\n",
    "- Compute percentage of album purchases"
   ]
  },
  {
   "cell_type": "markdown",
   "metadata": {},
   "source": [
    "<br>\n",
    "\n",
    "## Tools:\n",
    "- INNER JOIN\n",
    "- subqueries\n",
    "- CREATE VIEW\n",
    "- CASE WHEN\n",
    "- EXCEPT\n",
    "- plotting"
   ]
  },
  {
   "cell_type": "markdown",
   "metadata": {},
   "source": [
    "<br>\n",
    "\n",
    "### load defaults"
   ]
  },
  {
   "cell_type": "code",
   "execution_count": 4,
   "metadata": {},
   "outputs": [],
   "source": [
    "import sqlite3\n",
    "import pandas as pd\n",
    "import re\n",
    "import numpy as np\n",
    "import requests \n",
    "import os\n",
    "import shutil\n",
    "\n",
    "%matplotlib inline\n",
    "import matplotlib.pyplot as plt\n",
    "from matplotlib.ticker import MultipleLocator\n",
    "from matplotlib import rcParams\n",
    "import matplotlib.dates as mdates\n",
    "\n",
    "from functions import *\n",
    "\n",
    "plt.rcParams.update({'axes.titlepad': 20, 'font.size': 12, 'axes.titlesize':20})\n",
    "\n",
    "colors = [(0/255,107/255,164/255), (255/255, 128/255, 14/255), 'red', 'green', '#9E80BA', '#8EDB8E', '#58517A']\n",
    "Ncolors = 10\n",
    "color_map = plt.cm.Blues_r(np.linspace(0.2, 0.5, Ncolors))\n",
    "#color_map = plt.cm.tab20c_r(np.linspace(0.2, 0.5, Ncolors))"
   ]
  },
  {
   "cell_type": "markdown",
   "metadata": {},
   "source": [
    "<br>\n",
    "\n",
    "### Create some functions to help with queries"
   ]
  },
  {
   "cell_type": "code",
   "execution_count": 5,
   "metadata": {},
   "outputs": [],
   "source": [
    "def run_query(q):\n",
    "    with sqlite3.connect('./data/chinook.db') as conn:\n",
    "        return pd.read_sql(q, conn)\n",
    "    \n",
    "def run_command(c):\n",
    "    with sqlite3.connect('./data/chinook.db') as conn:\n",
    "        conn.isolation_level = None\n",
    "        conn.execute(c)\n",
    "    \n",
    "def show_tables():\n",
    "    query = \"\"\"\n",
    "            SELECT name,\n",
    "                   type\n",
    "              FROM sqlite_master\n",
    "             WHERE type IN (\"table\",\"view\");\"\"\"\n",
    "    return run_query(query)"
   ]
  },
  {
   "cell_type": "markdown",
   "metadata": {},
   "source": [
    "<br>\n",
    "\n",
    "## Dataset: chinook music database"
   ]
  },
  {
   "cell_type": "markdown",
   "metadata": {},
   "source": [
    "We will modify the original database so the first thing to do is to copy the original into a new file"
   ]
  },
  {
   "cell_type": "code",
   "execution_count": 19,
   "metadata": {},
   "outputs": [
    {
     "name": "stdout",
     "output_type": "stream",
     "text": [
      "file removed\n",
      "copy created\n"
     ]
    }
   ],
   "source": [
    "try:\n",
    "    os.remove(\"./data/chinook.db\")\n",
    "    print(\"file removed\")\n",
    "except:\n",
    "    print(\"file not present\")\n",
    "    \n",
    "shutil.copy(\"./data/chinook_original.db\", \"./data/chinook.db\")\n",
    "print(\"copy created\")"
   ]
  },
  {
   "cell_type": "code",
   "execution_count": 11,
   "metadata": {},
   "outputs": [
    {
     "data": {
      "text/html": [
       "<div>\n",
       "<style scoped>\n",
       "    .dataframe tbody tr th:only-of-type {\n",
       "        vertical-align: middle;\n",
       "    }\n",
       "\n",
       "    .dataframe tbody tr th {\n",
       "        vertical-align: top;\n",
       "    }\n",
       "\n",
       "    .dataframe thead th {\n",
       "        text-align: right;\n",
       "    }\n",
       "</style>\n",
       "<table border=\"1\" class=\"dataframe\">\n",
       "  <thead>\n",
       "    <tr style=\"text-align: right;\">\n",
       "      <th></th>\n",
       "      <th>name</th>\n",
       "      <th>type</th>\n",
       "    </tr>\n",
       "  </thead>\n",
       "  <tbody>\n",
       "    <tr>\n",
       "      <th>0</th>\n",
       "      <td>album</td>\n",
       "      <td>table</td>\n",
       "    </tr>\n",
       "    <tr>\n",
       "      <th>1</th>\n",
       "      <td>artist</td>\n",
       "      <td>table</td>\n",
       "    </tr>\n",
       "    <tr>\n",
       "      <th>2</th>\n",
       "      <td>customer</td>\n",
       "      <td>table</td>\n",
       "    </tr>\n",
       "    <tr>\n",
       "      <th>3</th>\n",
       "      <td>employee</td>\n",
       "      <td>table</td>\n",
       "    </tr>\n",
       "    <tr>\n",
       "      <th>4</th>\n",
       "      <td>genre</td>\n",
       "      <td>table</td>\n",
       "    </tr>\n",
       "    <tr>\n",
       "      <th>5</th>\n",
       "      <td>invoice</td>\n",
       "      <td>table</td>\n",
       "    </tr>\n",
       "    <tr>\n",
       "      <th>6</th>\n",
       "      <td>invoice_line</td>\n",
       "      <td>table</td>\n",
       "    </tr>\n",
       "    <tr>\n",
       "      <th>7</th>\n",
       "      <td>media_type</td>\n",
       "      <td>table</td>\n",
       "    </tr>\n",
       "    <tr>\n",
       "      <th>8</th>\n",
       "      <td>playlist</td>\n",
       "      <td>table</td>\n",
       "    </tr>\n",
       "    <tr>\n",
       "      <th>9</th>\n",
       "      <td>playlist_track</td>\n",
       "      <td>table</td>\n",
       "    </tr>\n",
       "    <tr>\n",
       "      <th>10</th>\n",
       "      <td>track</td>\n",
       "      <td>table</td>\n",
       "    </tr>\n",
       "  </tbody>\n",
       "</table>\n",
       "</div>"
      ],
      "text/plain": [
       "              name   type\n",
       "0            album  table\n",
       "1           artist  table\n",
       "2         customer  table\n",
       "3         employee  table\n",
       "4            genre  table\n",
       "5          invoice  table\n",
       "6     invoice_line  table\n",
       "7       media_type  table\n",
       "8         playlist  table\n",
       "9   playlist_track  table\n",
       "10           track  table"
      ]
     },
     "metadata": {},
     "output_type": "display_data"
    }
   ],
   "source": [
    "df = show_tables()\n",
    "display(df)"
   ]
  },
  {
   "cell_type": "markdown",
   "metadata": {},
   "source": [
    "<br>\n",
    "\n",
    "### Q1: Which genres sell the most tracks in the USA"
   ]
  },
  {
   "cell_type": "markdown",
   "metadata": {},
   "source": [
    "Query to return each genre with the number of tracks sold (absolute numbers and percentages)"
   ]
  },
  {
   "cell_type": "markdown",
   "metadata": {},
   "source": [
    "- select all invoices lines where id = invoice.id and invoice.country = USA\n",
    "- for all previously select invoice lines :\n",
    "    - select track name and genre from track and genre tables using invoice_lines.track_id, track.genre_id\n",
    "- group by genre and count"
   ]
  },
  {
   "cell_type": "code",
   "execution_count": 20,
   "metadata": {},
   "outputs": [
    {
     "data": {
      "text/html": [
       "<div>\n",
       "<style scoped>\n",
       "    .dataframe tbody tr th:only-of-type {\n",
       "        vertical-align: middle;\n",
       "    }\n",
       "\n",
       "    .dataframe tbody tr th {\n",
       "        vertical-align: top;\n",
       "    }\n",
       "\n",
       "    .dataframe thead th {\n",
       "        text-align: right;\n",
       "    }\n",
       "</style>\n",
       "<table border=\"1\" class=\"dataframe\">\n",
       "  <thead>\n",
       "    <tr style=\"text-align: right;\">\n",
       "      <th></th>\n",
       "      <th>tracks_sold</th>\n",
       "    </tr>\n",
       "    <tr>\n",
       "      <th>genre</th>\n",
       "      <th></th>\n",
       "    </tr>\n",
       "  </thead>\n",
       "  <tbody>\n",
       "    <tr>\n",
       "      <th>Rock</th>\n",
       "      <td>561</td>\n",
       "    </tr>\n",
       "    <tr>\n",
       "      <th>Alternative &amp; Punk</th>\n",
       "      <td>130</td>\n",
       "    </tr>\n",
       "    <tr>\n",
       "      <th>Metal</th>\n",
       "      <td>124</td>\n",
       "    </tr>\n",
       "  </tbody>\n",
       "</table>\n",
       "</div>"
      ],
      "text/plain": [
       "                    tracks_sold\n",
       "genre                          \n",
       "Rock                        561\n",
       "Alternative & Punk          130\n",
       "Metal                       124"
      ]
     },
     "metadata": {},
     "output_type": "display_data"
    },
    {
     "data": {
      "image/png": "[encoded data removed]",
      "text/plain": [
       "<Figure size 432x288 with 1 Axes>"
      ]
     },
     "metadata": {
      "needs_background": "light"
     },
     "output_type": "display_data"
    }
   ],
   "source": [
    "q = \"\"\"\n",
    "WITH USA_invoice_lines AS\n",
    "(\n",
    "    SELECT * from invoice_line il\n",
    "INNER JOIN invoice i on i.invoice_id = il.invoice_id\n",
    "     where i.billing_country = 'USA'\n",
    "),\n",
    "\n",
    "track_genre_quantity AS\n",
    "(\n",
    "    SELECT il.*, \n",
    "           t.name as track_name,\n",
    "           g.name as genre\n",
    "           \n",
    "      from USA_invoice_lines il\n",
    "INNER JOIN track t on t.track_id = il.track_id\n",
    "INNER JOIN genre g on g.genre_id = t.genre_id\n",
    ")\n",
    "\n",
    "  select genre, count(*) as tracks_sold\n",
    "    from track_genre_quantity\n",
    "group by 1\n",
    "order by 2 desc\n",
    "\"\"\"\n",
    "df = run_query(q)\n",
    "df.set_index('genre', inplace=True)\n",
    "display(df[:3])\n",
    "\n",
    "df.plot(kind='bar');"
   ]
  },
  {
   "cell_type": "markdown",
   "metadata": {},
   "source": [
    "Best sells: Rock, then Alternative & Punk, then Blues, then POP, then Hip-Hop"
   ]
  },
  {
   "cell_type": "markdown",
   "metadata": {},
   "source": [
    "<br>\n",
    "\n",
    "### Q2: Analyze the sells of each sales rep employee"
   ]
  },
  {
   "cell_type": "markdown",
   "metadata": {},
   "source": [
    "- select costumer, and costumer representative, then total_number of purchases (from invoice line) and value (from invoice) by grouping on costumers \n",
    "- then select representative name, total sales, etc by joining on employee_id"
   ]
  },
  {
   "cell_type": "code",
   "execution_count": 21,
   "metadata": {},
   "outputs": [
    {
     "data": {
      "text/html": [
       "<div>\n",
       "<style scoped>\n",
       "    .dataframe tbody tr th:only-of-type {\n",
       "        vertical-align: middle;\n",
       "    }\n",
       "\n",
       "    .dataframe tbody tr th {\n",
       "        vertical-align: top;\n",
       "    }\n",
       "\n",
       "    .dataframe thead th {\n",
       "        text-align: right;\n",
       "    }\n",
       "</style>\n",
       "<table border=\"1\" class=\"dataframe\">\n",
       "  <thead>\n",
       "    <tr style=\"text-align: right;\">\n",
       "      <th></th>\n",
       "      <th>name</th>\n",
       "      <th>total</th>\n",
       "      <th>birthdate</th>\n",
       "      <th>hire_date</th>\n",
       "      <th>country</th>\n",
       "    </tr>\n",
       "  </thead>\n",
       "  <tbody>\n",
       "    <tr>\n",
       "      <th>0</th>\n",
       "      <td>Jane Peacock</td>\n",
       "      <td>18246.69</td>\n",
       "      <td>1973-08-29 00:00:00</td>\n",
       "      <td>2017-04-01 00:00:00</td>\n",
       "      <td>Canada</td>\n",
       "    </tr>\n",
       "    <tr>\n",
       "      <th>1</th>\n",
       "      <td>Margaret Park</td>\n",
       "      <td>15923.16</td>\n",
       "      <td>1947-09-19 00:00:00</td>\n",
       "      <td>2017-05-03 00:00:00</td>\n",
       "      <td>Canada</td>\n",
       "    </tr>\n",
       "    <tr>\n",
       "      <th>2</th>\n",
       "      <td>Steve Johnson</td>\n",
       "      <td>13333.32</td>\n",
       "      <td>1965-03-03 00:00:00</td>\n",
       "      <td>2017-10-17 00:00:00</td>\n",
       "      <td>Canada</td>\n",
       "    </tr>\n",
       "  </tbody>\n",
       "</table>\n",
       "</div>"
      ],
      "text/plain": [
       "            name     total            birthdate            hire_date country\n",
       "0   Jane Peacock  18246.69  1973-08-29 00:00:00  2017-04-01 00:00:00  Canada\n",
       "1  Margaret Park  15923.16  1947-09-19 00:00:00  2017-05-03 00:00:00  Canada\n",
       "2  Steve Johnson  13333.32  1965-03-03 00:00:00  2017-10-17 00:00:00  Canada"
      ]
     },
     "metadata": {},
     "output_type": "display_data"
    },
    {
     "data": {
      "image/png": "[encoded data removed]",
      "text/plain": [
       "<Figure size 432x288 with 1 Axes>"
      ]
     },
     "metadata": {
      "needs_background": "light"
     },
     "output_type": "display_data"
    }
   ],
   "source": [
    "q = \"\"\"\n",
    "WITH customer_totals AS\n",
    "(\n",
    "select c.customer_id, \n",
    "       c.support_rep_id,\n",
    "       c.first_name || \" \" || c.last_name as name,\n",
    "       SUM(il.quantity) as total_number, \n",
    "       SUM(i.total) as total\n",
    "       from customer c\n",
    "INNER JOIN invoice i ON i.customer_id = c.customer_id\n",
    "INNER JOIN invoice_line il ON il.invoice_id = i.invoice_id\n",
    "group by c.customer_id\n",
    ")\n",
    "\n",
    "select e.first_name || \" \" || e.last_name as name,       \n",
    "       SUM(ct.total) as total,\n",
    "       e.birthdate,\n",
    "       e.hire_date,\n",
    "       e.country\n",
    "       \n",
    "\n",
    "from customer_totals ct\n",
    "INNER JOIN employee e ON e.employee_id = ct.support_rep_id\n",
    "group by e.employee_id\n",
    "order by 2 desc\n",
    "\"\"\"\n",
    "df = run_query(q)\n",
    "    \n",
    "display(df)\n",
    "\n",
    "df.set_index('name', inplace=True)\n",
    "df['total'].plot(kind='bar');"
   ]
  },
  {
   "cell_type": "markdown",
   "metadata": {},
   "source": [
    "### Plot sales versus days working"
   ]
  },
  {
   "cell_type": "code",
   "execution_count": 22,
   "metadata": {},
   "outputs": [
    {
     "data": {
      "image/png": "[encoded data removed]",
      "text/plain": [
       "<Figure size 432x288 with 1 Axes>"
      ]
     },
     "metadata": {
      "needs_background": "light"
     },
     "output_type": "display_data"
    }
   ],
   "source": [
    "present_time = pd.Timestamp.now()\n",
    "\n",
    "df['hire_date'] = pd.DatetimeIndex(df['hire_date'])\n",
    "df['days_in_company'] = (present_time-df['hire_date']).dt.days\n",
    "\n",
    "df.plot.scatter(x='days_in_company', y='total');"
   ]
  },
  {
   "cell_type": "markdown",
   "metadata": {},
   "source": [
    "- The total volume of sales seems to just measure the number of days that the sales rep has been working for"
   ]
  },
  {
   "cell_type": "markdown",
   "metadata": {
    "collapsed": true
   },
   "source": [
    "<br>\n",
    "\n",
    "### Q3: Sales data for customers in different countries"
   ]
  },
  {
   "cell_type": "markdown",
   "metadata": {},
   "source": [
    "<br>\n",
    "\n",
    "<b> Count number of Costumers per country</b>\n",
    "- counted number of costumers grouped by country (if only 1 costumer put in 'other' category)\n",
    "- group again by country to add up nubmer of countries in 'other category' and hence get number of costumers\n",
    "- select number of costumer per country while putting other at the end of list"
   ]
  },
  {
   "cell_type": "code",
   "execution_count": 35,
   "metadata": {},
   "outputs": [
    {
     "data": {
      "text/html": [
       "<div>\n",
       "<style scoped>\n",
       "    .dataframe tbody tr th:only-of-type {\n",
       "        vertical-align: middle;\n",
       "    }\n",
       "\n",
       "    .dataframe tbody tr th {\n",
       "        vertical-align: top;\n",
       "    }\n",
       "\n",
       "    .dataframe thead th {\n",
       "        text-align: right;\n",
       "    }\n",
       "</style>\n",
       "<table border=\"1\" class=\"dataframe\">\n",
       "  <thead>\n",
       "    <tr style=\"text-align: right;\">\n",
       "      <th></th>\n",
       "      <th>country</th>\n",
       "      <th>count</th>\n",
       "    </tr>\n",
       "  </thead>\n",
       "  <tbody>\n",
       "    <tr>\n",
       "      <th>0</th>\n",
       "      <td>USA</td>\n",
       "      <td>13</td>\n",
       "    </tr>\n",
       "    <tr>\n",
       "      <th>1</th>\n",
       "      <td>Canada</td>\n",
       "      <td>8</td>\n",
       "    </tr>\n",
       "    <tr>\n",
       "      <th>2</th>\n",
       "      <td>Brazil</td>\n",
       "      <td>5</td>\n",
       "    </tr>\n",
       "    <tr>\n",
       "      <th>3</th>\n",
       "      <td>France</td>\n",
       "      <td>5</td>\n",
       "    </tr>\n",
       "    <tr>\n",
       "      <th>9</th>\n",
       "      <td>Other</td>\n",
       "      <td>15</td>\n",
       "    </tr>\n",
       "  </tbody>\n",
       "</table>\n",
       "</div>"
      ],
      "text/plain": [
       "  country  count\n",
       "0     USA     13\n",
       "1  Canada      8\n",
       "2  Brazil      5\n",
       "3  France      5\n",
       "9   Other     15"
      ]
     },
     "metadata": {},
     "output_type": "display_data"
    }
   ],
   "source": [
    "q = \"\"\"\n",
    "CREATE VIEW IF NOT EXISTS country_counts AS\n",
    "     select c.customer_id,\n",
    "            CASE\n",
    "              WHEN count(*) > 1 THEN country\n",
    "              ELSE \"Other\"\n",
    "            END AS country,\n",
    "            count(*)  as count           \n",
    "       from customer c       \n",
    "   group by c.country\n",
    "   order by 3 desc \"\"\"\n",
    "run_command(q)\n",
    "\n",
    "q = \"\"\"\n",
    "CREATE VIEW IF NOT EXISTS country_counts_with_Other AS\n",
    "select country,\n",
    "       CASE\n",
    "          WHEN count > 1 THEN count\n",
    "          ELSE SUM(count)          \n",
    "       END AS count\n",
    " \n",
    " from country_counts\n",
    "group by country\n",
    "order by 2 DESC \"\"\"\n",
    "run_command(q)\n",
    "\n",
    "#just to put Other at the bottom of the list\n",
    "q = \"\"\"\n",
    "CREATE VIEW IF NOT EXISTS final_country_counts AS\n",
    "   SELECT country,\n",
    "          count\n",
    "     from \n",
    "         (\n",
    "           select cc_other.*,\n",
    "                  CASE \n",
    "                     WHEN cc_other.country = \"Other\" THEN 1\n",
    "                     ELSE 0\n",
    "                  END as sorted\n",
    "             from country_counts_with_Other cc_other\n",
    "         )\n",
    " ORDER BY sorted ASC \"\"\" \n",
    "run_command(q)\n",
    "    \n",
    "q = \"\"\" select * from final_country_counts\"\"\"\n",
    "df = run_query(q)    \n",
    "display(df.iloc[[0,1,2,3,9],:])"
   ]
  },
  {
   "cell_type": "markdown",
   "metadata": {},
   "source": [
    "<br>\n",
    "\n",
    "<b>Create a new table with costumer_id, original_country and country (other if it was other in previous query)</b>"
   ]
  },
  {
   "cell_type": "code",
   "execution_count": 37,
   "metadata": {},
   "outputs": [
    {
     "data": {
      "text/html": [
       "<div>\n",
       "<style scoped>\n",
       "    .dataframe tbody tr th:only-of-type {\n",
       "        vertical-align: middle;\n",
       "    }\n",
       "\n",
       "    .dataframe tbody tr th {\n",
       "        vertical-align: top;\n",
       "    }\n",
       "\n",
       "    .dataframe thead th {\n",
       "        text-align: right;\n",
       "    }\n",
       "</style>\n",
       "<table border=\"1\" class=\"dataframe\">\n",
       "  <thead>\n",
       "    <tr style=\"text-align: right;\">\n",
       "      <th></th>\n",
       "      <th>customer_id</th>\n",
       "      <th>original_country</th>\n",
       "      <th>country</th>\n",
       "    </tr>\n",
       "  </thead>\n",
       "  <tbody>\n",
       "    <tr>\n",
       "      <th>41</th>\n",
       "      <td>54</td>\n",
       "      <td>United Kingdom</td>\n",
       "      <td>United Kingdom</td>\n",
       "    </tr>\n",
       "    <tr>\n",
       "      <th>42</th>\n",
       "      <td>58</td>\n",
       "      <td>India</td>\n",
       "      <td>India</td>\n",
       "    </tr>\n",
       "    <tr>\n",
       "      <th>43</th>\n",
       "      <td>59</td>\n",
       "      <td>India</td>\n",
       "      <td>India</td>\n",
       "    </tr>\n",
       "    <tr>\n",
       "      <th>44</th>\n",
       "      <td>4</td>\n",
       "      <td>Norway</td>\n",
       "      <td>Other</td>\n",
       "    </tr>\n",
       "    <tr>\n",
       "      <th>45</th>\n",
       "      <td>7</td>\n",
       "      <td>Austria</td>\n",
       "      <td>Other</td>\n",
       "    </tr>\n",
       "  </tbody>\n",
       "</table>\n",
       "</div>"
      ],
      "text/plain": [
       "    customer_id original_country         country\n",
       "41           54   United Kingdom  United Kingdom\n",
       "42           58            India           India\n",
       "43           59            India           India\n",
       "44            4           Norway           Other\n",
       "45            7          Austria           Other"
      ]
     },
     "metadata": {},
     "output_type": "display_data"
    }
   ],
   "source": [
    "q = \"\"\"\n",
    "CREATE VIEW IF NOT EXISTS country_list_other AS\n",
    "\n",
    "select c.customer_id, \n",
    "       c.country as original_country,\n",
    "       c.country\n",
    "  from customer c\n",
    " INNER JOIN final_country_counts fcc ON  fcc.country = c.country\n",
    "\n",
    "UNION ALL\n",
    "\n",
    "select c.customer_id,\n",
    "       c.country as original_country,\n",
    "       CASE\n",
    "          WHEN 1 THEN \"Other\"\n",
    "       END as country         \n",
    "  from customer c\n",
    " where c.country NOT IN (select country from final_country_counts)\n",
    "\n",
    "\"\"\"\n",
    "run_command(q)\n",
    "\n",
    "q=\"select * from country_list_other\" \n",
    "df = run_query(q)    \n",
    "display(df.iloc[41:46,:])"
   ]
  },
  {
   "cell_type": "markdown",
   "metadata": {},
   "source": [
    "<br>\n",
    "\n",
    "<b>Compute total sales per country</b>\n",
    "- Join country_list_other and invoice on costumer_id\n",
    "- group by countries\n",
    "- select number of clients, sum of sales, sum of sales/count(*) as value per order"
   ]
  },
  {
   "cell_type": "code",
   "execution_count": 40,
   "metadata": {},
   "outputs": [
    {
     "data": {
      "text/html": [
       "<div>\n",
       "<style scoped>\n",
       "    .dataframe tbody tr th:only-of-type {\n",
       "        vertical-align: middle;\n",
       "    }\n",
       "\n",
       "    .dataframe tbody tr th {\n",
       "        vertical-align: top;\n",
       "    }\n",
       "\n",
       "    .dataframe thead th {\n",
       "        text-align: right;\n",
       "    }\n",
       "</style>\n",
       "<table border=\"1\" class=\"dataframe\">\n",
       "  <thead>\n",
       "    <tr style=\"text-align: right;\">\n",
       "      <th></th>\n",
       "      <th>country</th>\n",
       "      <th>N_clients</th>\n",
       "      <th>total_sales</th>\n",
       "      <th>average_per_client</th>\n",
       "      <th>average_per_order</th>\n",
       "    </tr>\n",
       "  </thead>\n",
       "  <tbody>\n",
       "    <tr>\n",
       "      <th>0</th>\n",
       "      <td>USA</td>\n",
       "      <td>13</td>\n",
       "      <td>1040.49</td>\n",
       "      <td>80.037692</td>\n",
       "      <td>7.942672</td>\n",
       "    </tr>\n",
       "    <tr>\n",
       "      <th>1</th>\n",
       "      <td>Canada</td>\n",
       "      <td>8</td>\n",
       "      <td>535.59</td>\n",
       "      <td>66.948750</td>\n",
       "      <td>7.047237</td>\n",
       "    </tr>\n",
       "    <tr>\n",
       "      <th>2</th>\n",
       "      <td>Brazil</td>\n",
       "      <td>5</td>\n",
       "      <td>427.68</td>\n",
       "      <td>85.536000</td>\n",
       "      <td>7.011148</td>\n",
       "    </tr>\n",
       "    <tr>\n",
       "      <th>3</th>\n",
       "      <td>France</td>\n",
       "      <td>5</td>\n",
       "      <td>389.07</td>\n",
       "      <td>77.814000</td>\n",
       "      <td>7.781400</td>\n",
       "    </tr>\n",
       "    <tr>\n",
       "      <th>9</th>\n",
       "      <td>Other</td>\n",
       "      <td>15</td>\n",
       "      <td>1094.94</td>\n",
       "      <td>72.996000</td>\n",
       "      <td>7.448571</td>\n",
       "    </tr>\n",
       "  </tbody>\n",
       "</table>\n",
       "</div>"
      ],
      "text/plain": [
       "  country  N_clients  total_sales  average_per_client  average_per_order\n",
       "0     USA         13      1040.49           80.037692           7.942672\n",
       "1  Canada          8       535.59           66.948750           7.047237\n",
       "2  Brazil          5       427.68           85.536000           7.011148\n",
       "3  France          5       389.07           77.814000           7.781400\n",
       "9   Other         15      1094.94           72.996000           7.448571"
      ]
     },
     "metadata": {},
     "output_type": "display_data"
    }
   ],
   "source": [
    "#Main query\n",
    "q=\"\"\"\n",
    "CREATE VIEW IF NOT EXISTS sales as\n",
    "     select co.country, \n",
    "            fcc.count as N_clients,\n",
    "            SUM(i.total) as total,\n",
    "            SUM(i.total)/fcc.count as average_per_client,\n",
    "            SUM(i.total)/count(*) as average_per_order\n",
    "       from country_list_other co\n",
    " LEFT JOIN invoice i ON i.customer_id = co.customer_id\n",
    " LEFT JOIN final_country_counts fcc ON fcc.country = co.country\n",
    " group by co.country\n",
    " order by 2 DESC\"\"\"\n",
    "run_command(q)\n",
    "\n",
    "#Put Other in the end\n",
    "q=\"\"\"\n",
    "CREATE VIEW IF NOT EXISTS total_sales as\n",
    "select country, \n",
    "       N_clients,\n",
    "       total as total_sales,\n",
    "       average_per_client,\n",
    "       average_per_order\n",
    "from\n",
    "(\n",
    "    select *,\n",
    "           CASE\n",
    "             WHEN s.country = \"Other\" THEN 1\n",
    "             ELSE 0\n",
    "           END AS sort\n",
    "    from sales s\n",
    " )\n",
    "order by sort \n",
    "\"\"\"\n",
    "run_command(q)\n",
    "    \n",
    "\n",
    "q=\"\"\"select * from total_sales\"\"\"    \n",
    "df = run_query(q)    \n",
    "display(df.iloc[[0,1,2,3,9],:])    "
   ]
  },
  {
   "cell_type": "markdown",
   "metadata": {},
   "source": [
    "<br>\n",
    "\n",
    "<b>Plot histograms for 'N_clients', 'total_sales', 'average_per_client' and 'average_per_order' for different countries</b>"
   ]
  },
  {
   "cell_type": "code",
   "execution_count": 44,
   "metadata": {},
   "outputs": [
    {
     "data": {
      "image/png": "[encoded data removed]",
      "text/plain": [
       "<Figure size 864x864 with 4 Axes>"
      ]
     },
     "metadata": {
      "needs_background": "light"
     },
     "output_type": "display_data"
    }
   ],
   "source": [
    "import matplotlib.pyplot as plt\n",
    "import numpy as np\n",
    "\n",
    "cats = ['N_clients','total_sales','average_per_client','average_per_order']\n",
    "fig = plt.figure(figsize=(12,12))\n",
    "\n",
    "bar_positions = np.arange(0,len(df),1.) + 1.\n",
    "tick_positions = range(1,len(df)+1)\n",
    "    \n",
    "color_map = plt.cm.Blues\n",
    "bar_colors = [color_map(i) for i in np.linspace(0.9, 0.3, len(df))]\n",
    "for sp, element in enumerate(cats):\n",
    "    ax = fig.add_subplot(2,2,sp+1)\n",
    "    bar_heights = df[element].values\n",
    " \n",
    "    ax.bar(bar_positions,bar_heights,width=0.5,color=bar_colors)\n",
    "    ax.set_xticks(tick_positions)\n",
    "    ax.set_xticklabels(df['country'], rotation=90)\n",
    "    ax.set_xlabel('country')\n",
    "    ax.set_title(element, fontsize=14)\n",
    "    \n",
    "    for key,spine in ax.spines.items():\n",
    "        spine.set_visible(False)\n",
    "    ax.tick_params(bottom=False, top=False, left=False, right=False)\n",
    "\n",
    "plt.tight_layout()"
   ]
  },
  {
   "cell_type": "markdown",
   "metadata": {},
   "source": [
    "<br>\n",
    "\n",
    "### Q4: Compute percentage of album purchases"
   ]
  },
  {
   "cell_type": "markdown",
   "metadata": {},
   "source": [
    "- select invoice_id and first album_id by joining invoice_line and track and grouping by invoice_id\n",
    "- then check the if there is any difference between selecting all track from invoice_line and track (if not, album purchase)"
   ]
  },
  {
   "cell_type": "code",
   "execution_count": 50,
   "metadata": {},
   "outputs": [
    {
     "data": {
      "text/html": [
       "<div>\n",
       "<style scoped>\n",
       "    .dataframe tbody tr th:only-of-type {\n",
       "        vertical-align: middle;\n",
       "    }\n",
       "\n",
       "    .dataframe tbody tr th {\n",
       "        vertical-align: top;\n",
       "    }\n",
       "\n",
       "    .dataframe thead th {\n",
       "        text-align: right;\n",
       "    }\n",
       "</style>\n",
       "<table border=\"1\" class=\"dataframe\">\n",
       "  <thead>\n",
       "    <tr style=\"text-align: right;\">\n",
       "      <th></th>\n",
       "      <th>album_purchase</th>\n",
       "      <th>Invoice_Number</th>\n",
       "      <th>percentage</th>\n",
       "    </tr>\n",
       "  </thead>\n",
       "  <tbody>\n",
       "    <tr>\n",
       "      <th>0</th>\n",
       "      <td>no</td>\n",
       "      <td>500</td>\n",
       "      <td>0.814332</td>\n",
       "    </tr>\n",
       "    <tr>\n",
       "      <th>1</th>\n",
       "      <td>yes</td>\n",
       "      <td>114</td>\n",
       "      <td>0.185668</td>\n",
       "    </tr>\n",
       "  </tbody>\n",
       "</table>\n",
       "</div>"
      ],
      "text/plain": [
       "  album_purchase  Invoice_Number  percentage\n",
       "0             no             500    0.814332\n",
       "1            yes             114    0.185668"
      ]
     },
     "metadata": {},
     "output_type": "display_data"
    }
   ],
   "source": [
    "q= \"\"\"\n",
    "WITH invoice_first_album as\n",
    "(\n",
    "    select il.invoice_id, \n",
    "           t.album_id\n",
    "      from invoice_line il\n",
    "      INNER JOIN track t ON t.track_id = il.track_id\n",
    "  group by il.invoice_id\n",
    ")\n",
    "\n",
    "select AP as album_purchase,\n",
    "       Count(*) as Invoice_Number,\n",
    "       CAST(Count(*) AS float)/(select count(*) from invoice_first_album) as percentage\n",
    "  from \n",
    "    (\n",
    "       select *, \n",
    "              CASE WHEN\n",
    "                (\n",
    "                  select t.track_id \n",
    "                    from track t\n",
    "                  where t.album_id = ia.album_id                  \n",
    "                  EXCEPT\n",
    "                  select il.track_id \n",
    "                    from invoice_line il\n",
    "                  where il.invoice_id = ia.invoice_id \n",
    "                ) IS NULL                \n",
    "                AND\n",
    "                (\n",
    "                  select il.track_id \n",
    "                    from invoice_line il\n",
    "                  where il.invoice_id = ia.invoice_id                \n",
    "                  EXCEPT\n",
    "                  select t.track_id \n",
    "                    from track t\n",
    "                  where t.album_id = ia.album_id                   \n",
    "                ) IS NULL\n",
    "                \n",
    "                then \"yes\"\n",
    "              ELSE \"no\"\n",
    "              END as AP       \n",
    "\n",
    "       from invoice_first_album ia\n",
    "    )\n",
    "group by AP\n",
    "\"\"\"\n",
    "df = run_query(q)    \n",
    "display(df)"
   ]
  },
  {
   "cell_type": "code",
   "execution_count": null,
   "metadata": {},
   "outputs": [],
   "source": []
  }
 ],
 "metadata": {
  "kernelspec": {
   "display_name": "Python 3",
   "language": "python",
   "name": "python3"
  },
  "language_info": {
   "codemirror_mode": {
    "name": "ipython",
    "version": 3
   },
   "file_extension": ".py",
   "mimetype": "text/x-python",
   "name": "python",
   "nbconvert_exporter": "python",
   "pygments_lexer": "ipython3",
   "version": "3.6.6"
  }
 },
 "nbformat": 4,
 "nbformat_minor": 2
}
