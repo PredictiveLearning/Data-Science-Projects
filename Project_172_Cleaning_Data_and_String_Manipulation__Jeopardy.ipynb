{
 "cells": [
  {
   "cell_type": "markdown",
   "metadata": {},
   "source": [
    "# Project: Cleaning Data and String Manipulation (Jeopardy)"
   ]
  },
  {
   "cell_type": "markdown",
   "metadata": {},
   "source": [
    "<br>\n",
    "\n",
    "## Questions to address:\n",
    "- Check patterns in Jeopardy questions that could help you win.\n",
    "- First clean the dataset\n",
    "- Decide whether to study past questions, general knowledge, or not study it all based on whether questions reoccur or whether the answer is deducible from the question."
   ]
  },
  {
   "cell_type": "markdown",
   "metadata": {},
   "source": [
    "<br>\n",
    "\n",
    "## Tools:\n",
    "- string manipulation/normalization: lower case words and remove punctuation\n",
    "- convert some columns to numeric and datetime.\n",
    "  - pd.apply(), pd.to_datetime()\n",
    "- set()"
   ]
  },
  {
   "cell_type": "markdown",
   "metadata": {},
   "source": [
    "<br>\n",
    "\n",
    "### load defaults"
   ]
  },
  {
   "cell_type": "code",
   "execution_count": 1,
   "metadata": {},
   "outputs": [],
   "source": [
    "import pandas as pd\n",
    "import re\n",
    "import numpy as np\n",
    "import requests \n",
    "from bs4 import BeautifulSoup\n",
    "\n",
    "%matplotlib inline\n",
    "import matplotlib.pyplot as plt\n",
    "from matplotlib.ticker import MultipleLocator\n",
    "from matplotlib import rcParams\n",
    "import matplotlib.dates as mdates\n",
    "\n",
    "from functions import *\n",
    "\n",
    "plt.rcParams.update({'axes.titlepad': 20, 'font.size': 12, 'axes.titlesize':20})\n",
    "\n",
    "colors = [(0/255,107/255,164/255), (255/255, 128/255, 14/255), 'red', 'green', '#9E80BA', '#8EDB8E', '#58517A']\n",
    "Ncolors = 10\n",
    "color_map = plt.cm.Blues_r(np.linspace(0.2, 0.5, Ncolors))\n",
    "#color_map = plt.cm.tab20c_r(np.linspace(0.2, 0.5, Ncolors))"
   ]
  },
  {
   "cell_type": "markdown",
   "metadata": {},
   "source": [
    "<br>\n",
    "\n",
    "## Dataset: Jeopardy Questions and Answers"
   ]
  },
  {
   "cell_type": "code",
   "execution_count": 2,
   "metadata": {},
   "outputs": [
    {
     "data": {
      "text/html": [
       "<div>\n",
       "<style scoped>\n",
       "    .dataframe tbody tr th:only-of-type {\n",
       "        vertical-align: middle;\n",
       "    }\n",
       "\n",
       "    .dataframe tbody tr th {\n",
       "        vertical-align: top;\n",
       "    }\n",
       "\n",
       "    .dataframe thead th {\n",
       "        text-align: right;\n",
       "    }\n",
       "</style>\n",
       "<table border=\"1\" class=\"dataframe\">\n",
       "  <thead>\n",
       "    <tr style=\"text-align: right;\">\n",
       "      <th></th>\n",
       "      <th>Show Number</th>\n",
       "      <th>Air Date</th>\n",
       "      <th>Round</th>\n",
       "      <th>Category</th>\n",
       "      <th>Value</th>\n",
       "      <th>Question</th>\n",
       "      <th>Answer</th>\n",
       "    </tr>\n",
       "  </thead>\n",
       "  <tbody>\n",
       "    <tr>\n",
       "      <th>0</th>\n",
       "      <td>4680</td>\n",
       "      <td>2004-12-31</td>\n",
       "      <td>Jeopardy!</td>\n",
       "      <td>HISTORY</td>\n",
       "      <td>$200</td>\n",
       "      <td>For the last 8 years of his life, Galileo was ...</td>\n",
       "      <td>Copernicus</td>\n",
       "    </tr>\n",
       "    <tr>\n",
       "      <th>1</th>\n",
       "      <td>4680</td>\n",
       "      <td>2004-12-31</td>\n",
       "      <td>Jeopardy!</td>\n",
       "      <td>ESPN's TOP 10 ALL-TIME ATHLETES</td>\n",
       "      <td>$200</td>\n",
       "      <td>No. 2: 1912 Olympian; football star at Carlisl...</td>\n",
       "      <td>Jim Thorpe</td>\n",
       "    </tr>\n",
       "    <tr>\n",
       "      <th>2</th>\n",
       "      <td>4680</td>\n",
       "      <td>2004-12-31</td>\n",
       "      <td>Jeopardy!</td>\n",
       "      <td>EVERYBODY TALKS ABOUT IT...</td>\n",
       "      <td>$200</td>\n",
       "      <td>The city of Yuma in this state has a record av...</td>\n",
       "      <td>Arizona</td>\n",
       "    </tr>\n",
       "  </tbody>\n",
       "</table>\n",
       "</div>"
      ],
      "text/plain": [
       "   Show Number    Air Date      Round                         Category  Value  \\\n",
       "0         4680  2004-12-31  Jeopardy!                          HISTORY   $200   \n",
       "1         4680  2004-12-31  Jeopardy!  ESPN's TOP 10 ALL-TIME ATHLETES   $200   \n",
       "2         4680  2004-12-31  Jeopardy!      EVERYBODY TALKS ABOUT IT...   $200   \n",
       "\n",
       "                                            Question      Answer  \n",
       "0  For the last 8 years of his life, Galileo was ...  Copernicus  \n",
       "1  No. 2: 1912 Olympian; football star at Carlisl...  Jim Thorpe  \n",
       "2  The city of Yuma in this state has a record av...     Arizona  "
      ]
     },
     "metadata": {},
     "output_type": "display_data"
    }
   ],
   "source": [
    "jeopardy = pd.read_csv('./data/jeopardy.csv')\n",
    "display(jeopardy[:3])"
   ]
  },
  {
   "cell_type": "markdown",
   "metadata": {},
   "source": [
    "### remove spaces from column names"
   ]
  },
  {
   "cell_type": "code",
   "execution_count": 9,
   "metadata": {},
   "outputs": [
    {
     "name": "stdout",
     "output_type": "stream",
     "text": [
      "['Show Number' 'Air Date' 'Round' 'Category' 'Value' 'Question' 'Answer']\n"
     ]
    }
   ],
   "source": [
    "new_columns=[re.sub('^ ','', ii) for ii in jeopardy.columns]\n",
    "jeopardy.columns = new_columns\n",
    "print(jeopardy.columns.values)"
   ]
  },
  {
   "cell_type": "markdown",
   "metadata": {},
   "source": [
    "<br>\n",
    "\n",
    "### Normalize Question and Answer columns: lowercaser words and remove punctuation"
   ]
  },
  {
   "cell_type": "code",
   "execution_count": 11,
   "metadata": {},
   "outputs": [
    {
     "data": {
      "text/html": [
       "<div>\n",
       "<style scoped>\n",
       "    .dataframe tbody tr th:only-of-type {\n",
       "        vertical-align: middle;\n",
       "    }\n",
       "\n",
       "    .dataframe tbody tr th {\n",
       "        vertical-align: top;\n",
       "    }\n",
       "\n",
       "    .dataframe thead th {\n",
       "        text-align: right;\n",
       "    }\n",
       "</style>\n",
       "<table border=\"1\" class=\"dataframe\">\n",
       "  <thead>\n",
       "    <tr style=\"text-align: right;\">\n",
       "      <th></th>\n",
       "      <th>Show Number</th>\n",
       "      <th>Air Date</th>\n",
       "      <th>Round</th>\n",
       "      <th>Category</th>\n",
       "      <th>Value</th>\n",
       "      <th>Question</th>\n",
       "      <th>Answer</th>\n",
       "      <th>clean_question</th>\n",
       "      <th>clean_answer</th>\n",
       "    </tr>\n",
       "  </thead>\n",
       "  <tbody>\n",
       "    <tr>\n",
       "      <th>0</th>\n",
       "      <td>4680</td>\n",
       "      <td>2004-12-31</td>\n",
       "      <td>Jeopardy!</td>\n",
       "      <td>HISTORY</td>\n",
       "      <td>$200</td>\n",
       "      <td>For the last 8 years of his life, Galileo was ...</td>\n",
       "      <td>Copernicus</td>\n",
       "      <td>for the last 8 years of his life galileo was u...</td>\n",
       "      <td>copernicus</td>\n",
       "    </tr>\n",
       "  </tbody>\n",
       "</table>\n",
       "</div>"
      ],
      "text/plain": [
       "   Show Number    Air Date      Round Category Value  \\\n",
       "0         4680  2004-12-31  Jeopardy!  HISTORY  $200   \n",
       "\n",
       "                                            Question      Answer  \\\n",
       "0  For the last 8 years of his life, Galileo was ...  Copernicus   \n",
       "\n",
       "                                      clean_question clean_answer  \n",
       "0  for the last 8 years of his life galileo was u...   copernicus  "
      ]
     },
     "metadata": {},
     "output_type": "display_data"
    }
   ],
   "source": [
    "def normalize (string):\n",
    "    #lower case\n",
    "    new_string = string.lower()\n",
    "    #remove punctuation\n",
    "    new_string = re.sub('[:;,\\'\\\".!?]','', new_string)\n",
    "    return new_string\n",
    "\n",
    "jeopardy.loc[:, 'clean_question'] = jeopardy['Question'].apply(normalize)\n",
    "jeopardy.loc[:, 'clean_answer'] = jeopardy['Answer'].apply(normalize)\n",
    "\n",
    "display(jeopardy[:1])"
   ]
  },
  {
   "cell_type": "markdown",
   "metadata": {},
   "source": [
    "<br>\n",
    "\n",
    "### Convert Value to numeric and Air Date to datetime"
   ]
  },
  {
   "cell_type": "code",
   "execution_count": 12,
   "metadata": {},
   "outputs": [],
   "source": [
    "def normalize (string):\n",
    "    new_string = re.sub('[$:;,\\'\\\".!?]','', string)\n",
    "    try:\n",
    "        integer = int(new_string)\n",
    "    except ValueError:\n",
    "        integer =0\n",
    "    return integer\n",
    "\n",
    "#remove dolar sign and convert to integer\n",
    "jeopardy['clean_value'] = jeopardy['Value'].apply(normalize)\n",
    "\n",
    "#convert to datetime\n",
    "jeopardy['Air Date'] = pd.to_datetime(jeopardy['Air Date']);"
   ]
  },
  {
   "cell_type": "markdown",
   "metadata": {},
   "source": [
    "<br>\n",
    "\n",
    "## Analysis: "
   ]
  },
  {
   "cell_type": "markdown",
   "metadata": {
    "collapsed": true
   },
   "source": [
    "Decide whether to study past questions, general knowledge, or not study it all:\n",
    "- How often the answer is deducible from the question.\n",
    "  - how many times words in the answer occur in the question\n",
    "- How often new questions are repeats of older questions.\n",
    "  - how often complex words (> 6 characters) reoccur. "
   ]
  },
  {
   "cell_type": "markdown",
   "metadata": {},
   "source": [
    "<br>\n",
    "\n",
    "### Q1: How many times words from the answer appear in the question"
   ]
  },
  {
   "cell_type": "code",
   "execution_count": 34,
   "metadata": {},
   "outputs": [
    {
     "name": "stdout",
     "output_type": "stream",
     "text": [
      "Average fraction of words shared by question and answer: 0.08\n",
      "Fraction of answers with at least one word in the question: 0.18\n"
     ]
    }
   ],
   "source": [
    "def funct (series):\n",
    "    #split answer and question into list of words\n",
    "    split_answer = series['clean_answer'].split(' ')\n",
    "    split_question = series['clean_question'].split(' ')\n",
    "    match_count = 0\n",
    "    \n",
    "    #remove 'The' from word list\n",
    "    if('The' in split_answer):\n",
    "        split_answer.remove('The')\n",
    "    if(len(split_answer)==0):\n",
    "        return 0\n",
    "    \n",
    "    #count number of words in common\n",
    "    for element in split_answer:\n",
    "        if(element in split_question):\n",
    "            match_count+=1\n",
    "    match_count = match_count/len(split_answer)\n",
    "    \n",
    "    return match_count\n",
    "\n",
    "answer_in_question = jeopardy.apply(funct, axis=1)\n",
    "\n",
    "print(\"Average fraction of words shared by question and answer: %0.2f\" % answer_in_question.mean())\n",
    "\n",
    "#count number of aswers for which there is at least on common word in the question\n",
    "fraction = len(answer_in_question[answer_in_question>0.])/ len(answer_in_question)\n",
    "print(\"Fraction of answers with at least one word in the question: %0.2f\" % fraction)"
   ]
  },
  {
   "cell_type": "markdown",
   "metadata": {},
   "source": [
    "<br>\n",
    "\n",
    "### Q2: How often new questions are repeats of older ones"
   ]
  },
  {
   "cell_type": "markdown",
   "metadata": {
    "collapsed": true
   },
   "source": [
    "- Sort jeopardy in order of ascending air date.\n",
    "- Split questions into words, remove words shorter than 6 characters, and check if words have occured before"
   ]
  },
  {
   "cell_type": "code",
   "execution_count": 35,
   "metadata": {},
   "outputs": [
    {
     "name": "stdout",
     "output_type": "stream",
     "text": [
      "Average fraction of reoccuring words: 0.62\n"
     ]
    }
   ],
   "source": [
    "question_overlap = []\n",
    "terms_used = set()\n",
    "\n",
    "for idx, row in jeopardy.iterrows():\n",
    "    split_question = row['clean_question'].split(' ')    \n",
    "    split_question = [ii for ii in split_question if len(ii)>6]\n",
    "    match_count = 0\n",
    "    \n",
    "    for element in split_question:\n",
    "        if(element in terms_used):\n",
    "            match_count+=1\n",
    "        #since terms_used is a set, the new worded is only added if it's not present\n",
    "        terms_used.add(element)\n",
    "        \n",
    "    if(len(split_question)>0):\n",
    "        match_count=match_count/len(split_question)\n",
    "        \n",
    "    #fraction of words that have occured before\n",
    "    question_overlap.append(match_count)\n",
    "    \n",
    "jeopardy['question_overlap'] = question_overlap\n",
    "\n",
    "print(\"Average fraction of reoccuring words: %0.2f\" % jeopardy['question_overlap'].mean())"
   ]
  },
  {
   "cell_type": "markdown",
   "metadata": {
    "collapsed": true
   },
   "source": [
    "- Most of the words overlap!"
   ]
  },
  {
   "cell_type": "markdown",
   "metadata": {},
   "source": [
    "<br>\n",
    "\n",
    "### Q3: Find how many times reoccuring word appear in high and low value questions (below and above $800)"
   ]
  },
  {
   "cell_type": "code",
   "execution_count": 56,
   "metadata": {},
   "outputs": [
    {
     "name": "stdout",
     "output_type": "stream",
     "text": [
      "Number of occurences in high and low value questions\n",
      "sailing - 2 | 9\n",
      "leonard - 3 | 4\n",
      "chrysanthemum - 0 | 1\n",
      "hillman - 0 | 1\n",
      "href=http//wwwj-archivecom/media/2008-03-13_dj_30jpg - 1 | 0\n",
      "diligently - 1 | 0\n",
      "nominees - 0 | 2\n",
      "target=_blank>the - 3 | 0\n",
      "classics - 2 | 2\n",
      "indulgence - 0 | 1\n",
      "satirical - 1 | 1\n",
      "microsoft - 0 | 2\n",
      "pledged - 0 | 2\n",
      "grandfathers - 0 | 2\n",
      "bedding - 0 | 1\n",
      "marinate - 0 | 1\n",
      "crawfords - 0 | 1\n",
      "generic - 0 | 2\n",
      "fleet-ingly - 0 | 1\n"
     ]
    }
   ],
   "source": [
    "#high or low value question\n",
    "def funct (row):\n",
    "    if(row['clean_value']>800):\n",
    "        value=1\n",
    "    else:\n",
    "        value=0\n",
    "    return value\n",
    "\n",
    "jeopardy['high_value'] = jeopardy.apply(funct, axis=1)\n",
    "\n",
    "def funct_word(word):\n",
    "    low_count=0\n",
    "    high_count=0\n",
    "    for idx, row in jeopardy.iterrows():\n",
    "        split_question = row['clean_question'].split(' ')\n",
    "        if(word in split_question):\n",
    "            if(row['high_value']==1):\n",
    "                high_count+=1\n",
    "            else:\n",
    "                low_count+=1\n",
    "    return high_count, low_count\n",
    "\n",
    "observed_counts = []\n",
    "#select only a subset of repeated words since this takes a long time\n",
    "comparison_terms = list(terms_used)[:19]\n",
    "\n",
    "#find the number of low and high value questions that the terms appeared in\n",
    "for element in comparison_terms:\n",
    "    observed_counts.append(funct_word(element))\n",
    "\n",
    "print(\"Number of occurences in high and low value questions\")\n",
    "for ii in range(0, len(observed_counts)):\n",
    "    print(\"%s - %d | %d\" %(list(terms_used)[ii], observed_counts[ii][0], observed_counts[ii][1]))"
   ]
  },
  {
   "cell_type": "markdown",
   "metadata": {},
   "source": [
    "- only for the first 20 terms since it takes a long time"
   ]
  },
  {
   "cell_type": "markdown",
   "metadata": {},
   "source": [
    "<br>\n",
    "\n",
    "### Q4: Find if repeated words are more likely to appear in low or high value questions (compute expected counts and chi-squared for the sub-set of terms) "
   ]
  },
  {
   "cell_type": "markdown",
   "metadata": {
    "collapsed": true
   },
   "source": [
    "- Find the percentage of questions the word occurs in.\n",
    "- Based on the percentage of questions the word occurs in, find expected low and high value counts.\n",
    "- Compute the chi squared value based on the expected counts and the observed counts for high and low value questions."
   ]
  },
  {
   "cell_type": "code",
   "execution_count": 58,
   "metadata": {},
   "outputs": [
    {
     "name": "stdout",
     "output_type": "stream",
     "text": [
      "sailing - p_value: 0.44\n",
      "leonard - p_value: 0.41\n",
      "chrysanthemum - p_value: 0.53\n",
      "hillman - p_value: 0.53\n",
      "href=http//wwwj-archivecom/media/2008-03-13_dj_30jpg - p_value: 0.11\n",
      "diligently - p_value: 0.11\n",
      "nominees - p_value: 0.37\n",
      "target=_blank>the - p_value: 0.01\n",
      "classics - p_value: 0.35\n",
      "indulgence - p_value: 0.53\n",
      "satirical - p_value: 0.50\n",
      "microsoft - p_value: 0.37\n",
      "pledged - p_value: 0.37\n",
      "grandfathers - p_value: 0.37\n",
      "bedding - p_value: 0.53\n",
      "marinate - p_value: 0.53\n",
      "crawfords - p_value: 0.53\n",
      "generic - p_value: 0.37\n",
      "fleet-ingly - p_value: 0.53\n"
     ]
    }
   ],
   "source": [
    "from scipy.stats import chisquare\n",
    "\n",
    "high_value_count = len(jeopardy[jeopardy['high_value']==1])\n",
    "low_value_count = len(jeopardy[jeopardy['high_value']==0])\n",
    "\n",
    "chi_squared=[]\n",
    "\n",
    "for element in observed_counts:\n",
    "    #take number of words that appeared more than once\n",
    "    total = element[0]+element[1]\n",
    "    #divide by total number of words\n",
    "    total_prop = total/jeopardy.shape[0]\n",
    "    #get expected number of high_values for the number of words that are repeated\n",
    "    expected_high_value_count = total_prop*high_value_count\n",
    "    expected_low_value_count = total_prop*low_value_count     \n",
    "    observed = [element[0], element[1]]\n",
    "    expected = [expected_high_value_count, expected_low_value_count]\n",
    "    \n",
    "    chi, p_value = chisquare(observed, expected)\n",
    "    chi_squared.append([chi, p_value])\n",
    "\n",
    "for idx, element in enumerate(chi_squared):\n",
    "    print(\"%s - p_value: %0.2f\" % (comparison_terms[idx], element[1]))\n",
    "    \n"
   ]
  },
  {
   "cell_type": "markdown",
   "metadata": {},
   "source": [
    "- There are no very small p values implying that the <b>re_occuring</b> low and high value counts are similar so the <b>overall</b> low and high value counts"
   ]
  },
  {
   "cell_type": "markdown",
   "metadata": {
    "collapsed": true
   },
   "source": [
    "Potential next steps:\n",
    "\n",
    "- Find a better way to eliminate non-informative words than just removing words that are less than 6 characters long. Some ideas:\n",
    " - Manually create a list of words to remove, like the, than, etc.\n",
    " - Find a list of stopwords to remove.\n",
    " - Remove words that occur in more than a certain percentage (like 5%) of questions.\n",
    "- Perform the chi-squared test across more terms to see what terms have larger differences. This is hard to do currently because the code is slow, but here are some ideas:\n",
    " - Use the apply method to make the code that calculates frequencies more efficient.\n",
    " - Only select terms that have high frequencies across the dataset, and ignore the others."
   ]
  },
  {
   "cell_type": "markdown",
   "metadata": {
    "collapsed": true
   },
   "source": [
    "- Look more into the Category column and see if any interesting analysis can be done with it. Some ideas:\n",
    " - See which categories appear the most often.\n",
    " - Find the probability of each category appearing in each round.\n",
    "- Use phrases instead of single words when seeing if there's overlap between questions. Single words don't capture the whole context of the question well."
   ]
  },
  {
   "cell_type": "code",
   "execution_count": null,
   "metadata": {},
   "outputs": [],
   "source": []
  }
 ],
 "metadata": {
  "kernelspec": {
   "display_name": "Python 3",
   "language": "python",
   "name": "python3"
  },
  "language_info": {
   "codemirror_mode": {
    "name": "ipython",
    "version": 3
   },
   "file_extension": ".py",
   "mimetype": "text/x-python",
   "name": "python",
   "nbconvert_exporter": "python",
   "pygments_lexer": "ipython3",
   "version": "3.6.6"
  }
 },
 "nbformat": 4,
 "nbformat_minor": 1
}
